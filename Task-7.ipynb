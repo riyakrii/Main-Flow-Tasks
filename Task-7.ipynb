{
 "cells": [
  {
   "cell_type": "code",
   "execution_count": 1,
   "id": "4e543a10-5c91-4614-965b-802cfda26bb3",
   "metadata": {},
   "outputs": [],
   "source": [
    "#Task-7"
   ]
  },
  {
   "cell_type": "code",
   "execution_count": 2,
   "id": "57803eee-b9ac-4d0a-aeec-66d457fa7cee",
   "metadata": {},
   "outputs": [
    {
     "data": {
      "text/plain": [
       "' 47. Count Inversions\\n Objective: Count the number of inversions in an array, where an inversion is when\\n a[i]>a[j]a[i] > a[j]a[i]>a[j] for i<ji < ji<j.\\n Input: A list of integers.\\n Output: The count of inversions.\\n Hint: Use a modified merge sort to count inversions during the merge step.'"
      ]
     },
     "execution_count": 2,
     "metadata": {},
     "output_type": "execute_result"
    }
   ],
   "source": [
    "''' 47. Count Inversions\n",
    " Objective: Count the number of inversions in an array, where an inversion is when\n",
    " a[i]>a[j]a[i] > a[j]a[i]>a[j] for i<ji < ji<j.\n",
    " Input: A list of integers.\n",
    " Output: The count of inversions.\n",
    " Hint: Use a modified merge sort to count inversions during the merge step.'''"
   ]
  },
  {
   "cell_type": "code",
   "execution_count": 4,
   "id": "848027ac-3a98-43c6-bb92-b931aa8b124f",
   "metadata": {},
   "outputs": [
    {
     "name": "stdout",
     "output_type": "stream",
     "text": [
      "3\n"
     ]
    }
   ],
   "source": [
    "def count_inversions(arr):\n",
    "    def merge_sort(arr):\n",
    "        if len(arr) <= 1:\n",
    "            return arr, 0\n",
    "        mid = len(arr) // 2\n",
    "        left, inv_left = merge_sort(arr[:mid])\n",
    "        right, inv_right = merge_sort(arr[mid:])\n",
    "        merged, inv_count = merge(left, right)\n",
    "        return merged, inv_left + inv_right + inv_count\n",
    "\n",
    "    def merge(left, right):\n",
    "        i = j = count = 0\n",
    "        result = []\n",
    "        while i < len(left) and j < len(right):\n",
    "            if left[i] <= right[j]:\n",
    "                result.append(left[i])\n",
    "                i += 1\n",
    "            else:\n",
    "                result.append(right[j])\n",
    "                count += len(left) - i  # All remaining elements in left are greater\n",
    "                j += 1\n",
    "        result += left[i:]\n",
    "        result += right[j:]\n",
    "        return result, count\n",
    "\n",
    "    _, total_inversions = merge_sort(arr)\n",
    "    return total_inversions\n",
    "\n",
    "# Example\n",
    "print(count_inversions([2, 4, 1, 3, 5]))  # Output: 3\n"
   ]
  },
  {
   "cell_type": "code",
   "execution_count": 5,
   "id": "d7321a6a-b43e-4373-b295-92d3eb1549c6",
   "metadata": {},
   "outputs": [
    {
     "data": {
      "text/plain": [
       "' 48. Find the Longest Palindromic Substring\\n Objective: Find the longest palindromic substring in a given string.\\n Input: A string.\\n Output: The longest palindromic substring.\\n Hint: Use dynamic programming or expand around center approach.'"
      ]
     },
     "execution_count": 5,
     "metadata": {},
     "output_type": "execute_result"
    }
   ],
   "source": [
    "''' 48. Find the Longest Palindromic Substring\n",
    " Objective: Find the longest palindromic substring in a given string.\n",
    " Input: A string.\n",
    " Output: The longest palindromic substring.\n",
    " Hint: Use dynamic programming or expand around center approach.'''"
   ]
  },
  {
   "cell_type": "code",
   "execution_count": 6,
   "id": "45d12071-d94d-49fd-8b61-e26d40f38e08",
   "metadata": {},
   "outputs": [
    {
     "name": "stdout",
     "output_type": "stream",
     "text": [
      "bab\n"
     ]
    }
   ],
   "source": [
    "def longest_palindromic_substring(s):\n",
    "    def expand(l, r):\n",
    "        while l >= 0 and r < len(s) and s[l] == s[r]:\n",
    "            l -= 1\n",
    "            r += 1\n",
    "        return s[l+1:r]\n",
    "\n",
    "    longest = \"\"\n",
    "    for i in range(len(s)):\n",
    "        # Odd length palindrome\n",
    "        tmp1 = expand(i, i)\n",
    "        # Even length palindrome\n",
    "        tmp2 = expand(i, i+1)\n",
    "        if len(tmp1) > len(longest):\n",
    "            longest = tmp1\n",
    "        if len(tmp2) > len(longest):\n",
    "            longest = tmp2\n",
    "    return longest\n",
    "\n",
    "# Example\n",
    "print(longest_palindromic_substring(\"babad\"))  # Output: \"bab\" or \"aba\"\n"
   ]
  },
  {
   "cell_type": "code",
   "execution_count": 8,
   "id": "2187e84f-0c04-48fc-93bd-4dbe999e0c05",
   "metadata": {},
   "outputs": [
    {
     "data": {
      "text/plain": [
       "' 49. Traveling Salesman Problem (TSP)\\n Objective: Find the shortest possible route that visits each city once and returns to the\\n origin city.\\n Input: A list of cities and the distances between each pair of cities.\\n Output: The shortest possible route and its total distance.\\n Hint: Use dynamic programming or branch-and-bound for an approximate solution.'"
      ]
     },
     "execution_count": 8,
     "metadata": {},
     "output_type": "execute_result"
    }
   ],
   "source": [
    "''' 49. Traveling Salesman Problem (TSP)\n",
    " Objective: Find the shortest possible route that visits each city once and returns to the\n",
    " origin city.\n",
    " Input: A list of cities and the distances between each pair of cities.\n",
    " Output: The shortest possible route and its total distance.\n",
    " Hint: Use dynamic programming or branch-and-bound for an approximate solution.'''"
   ]
  },
  {
   "cell_type": "code",
   "execution_count": 10,
   "id": "9e615f9d-0186-42b5-b27b-894e2ae0822d",
   "metadata": {},
   "outputs": [
    {
     "name": "stdout",
     "output_type": "stream",
     "text": [
      "80\n"
     ]
    }
   ],
   "source": [
    "import sys\n",
    "\n",
    "def tsp(graph):\n",
    "    n = len(graph)\n",
    "    dp = [[None] * (1 << n) for _ in range(n)]\n",
    "\n",
    "    def visit(city, visited):\n",
    "        if visited == (1 << n) - 1:\n",
    "            return graph[city][0]  # return to start\n",
    "\n",
    "        if dp[city][visited] is not None:\n",
    "            return dp[city][visited]\n",
    "\n",
    "        min_cost = sys.maxsize\n",
    "        for next_city in range(n):\n",
    "            if visited & (1 << next_city) == 0:\n",
    "                cost = graph[city][next_city] + visit(next_city, visited | (1 << next_city))\n",
    "                min_cost = min(min_cost, cost)\n",
    "        dp[city][visited] = min_cost\n",
    "        return min_cost\n",
    "\n",
    "    return visit(0, 1 << 0)\n",
    "\n",
    "# Example\n",
    "graph = [\n",
    "    [0, 10, 15, 20],\n",
    "    [10, 0, 35, 25],\n",
    "    [15, 35, 0, 30],\n",
    "    [20, 25, 30, 0]\n",
    "]\n",
    "print(tsp(graph))  # Output: 80\n"
   ]
  },
  {
   "cell_type": "code",
   "execution_count": 11,
   "id": "d51f0128-e692-4aa1-9485-2b863f6fee7e",
   "metadata": {},
   "outputs": [
    {
     "data": {
      "text/plain": [
       "' 50. Graph Cycle Detection\\n Objective: Detect whether a graph contains a cycle.\\n Input: An undirected graph represented as an adjacency list.\\n Output: True if the graph contains a cycle, otherwise False.\\n Hint: Use depth-first search (DFS) with a recursion stack to detect cycles.'"
      ]
     },
     "execution_count": 11,
     "metadata": {},
     "output_type": "execute_result"
    }
   ],
   "source": [
    "''' 50. Graph Cycle Detection\n",
    " Objective: Detect whether a graph contains a cycle.\n",
    " Input: An undirected graph represented as an adjacency list.\n",
    " Output: True if the graph contains a cycle, otherwise False.\n",
    " Hint: Use depth-first search (DFS) with a recursion stack to detect cycles.'''"
   ]
  },
  {
   "cell_type": "code",
   "execution_count": 12,
   "id": "d5a9f3e7-7eaf-4f59-bab3-68528a8dd19e",
   "metadata": {},
   "outputs": [
    {
     "name": "stdout",
     "output_type": "stream",
     "text": [
      "True\n"
     ]
    }
   ],
   "source": [
    "def has_cycle(graph):\n",
    "    visited = set()\n",
    "\n",
    "    def dfs(v, parent):\n",
    "        visited.add(v)\n",
    "        for neighbor in graph[v]:\n",
    "            if neighbor not in visited:\n",
    "                if dfs(neighbor, v):\n",
    "                    return True\n",
    "            elif neighbor != parent:\n",
    "                return True\n",
    "        return False\n",
    "\n",
    "    for node in graph:\n",
    "        if node not in visited:\n",
    "            if dfs(node, -1):\n",
    "                return True\n",
    "    return False\n",
    "\n",
    "# Example\n",
    "graph = {\n",
    "    0: [1, 2],\n",
    "    1: [0, 2],\n",
    "    2: [0, 1],\n",
    "    3: [4],\n",
    "    4: [3]\n",
    "}\n",
    "print(has_cycle(graph))  # Output: True\n"
   ]
  },
  {
   "cell_type": "code",
   "execution_count": 13,
   "id": "8eb8b531-1c91-40ee-9f60-4719ad7d1d99",
   "metadata": {},
   "outputs": [
    {
     "data": {
      "text/plain": [
       "'51. Longest Substring Without Repeating Characters\\n Objective: Given a string, find the length of the longest substring without repeating\\n characters.\\n Input: A string.\\n Output: The length of the longest substring without repeating characters.\\n Hint: Use the sliding window technique and a hash set or dictionary to track characters.'"
      ]
     },
     "execution_count": 13,
     "metadata": {},
     "output_type": "execute_result"
    }
   ],
   "source": [
    "'''51. Longest Substring Without Repeating Characters\n",
    " Objective: Given a string, find the length of the longest substring without repeating\n",
    " characters.\n",
    " Input: A string.\n",
    " Output: The length of the longest substring without repeating characters.\n",
    " Hint: Use the sliding window technique and a hash set or dictionary to track characters.'''"
   ]
  },
  {
   "cell_type": "code",
   "execution_count": 14,
   "id": "404d0f72-fa18-45e5-8b05-a89a82825180",
   "metadata": {},
   "outputs": [
    {
     "name": "stdout",
     "output_type": "stream",
     "text": [
      "3\n",
      "1\n",
      "3\n"
     ]
    }
   ],
   "source": [
    "def length_of_longest_substring(s):\n",
    "    seen = set()\n",
    "    left = max_len = 0\n",
    "\n",
    "    for right in range(len(s)):\n",
    "        while s[right] in seen:\n",
    "            seen.remove(s[left])\n",
    "            left += 1\n",
    "        seen.add(s[right])\n",
    "        max_len = max(max_len, right - left + 1)\n",
    "    \n",
    "    return max_len\n",
    "\n",
    "# Example Usage\n",
    "print(length_of_longest_substring(\"abcabcbb\"))  # Output: 3 (\"abc\")\n",
    "print(length_of_longest_substring(\"bbbbb\"))     # Output: 1 (\"b\")\n",
    "print(length_of_longest_substring(\"pwwkew\"))    # Output: 3 (\"wke\")\n"
   ]
  },
  {
   "cell_type": "code",
   "execution_count": 15,
   "id": "0ab2c29b-6174-4b2c-b11f-3fac1269edcc",
   "metadata": {},
   "outputs": [
    {
     "data": {
      "text/plain": [
       "' 52. Find All Valid Parentheses Combinations\\n Objective: Generate all possible valid combinations of parentheses.\\n Input: An integer nnn, representing the number of pairs of parentheses.\\n Output: A list of valid parentheses combinations.\\n Hint: Use recursion and backtracking to generate valid combinations.'"
      ]
     },
     "execution_count": 15,
     "metadata": {},
     "output_type": "execute_result"
    }
   ],
   "source": [
    "''' 52. Find All Valid Parentheses Combinations\n",
    " Objective: Generate all possible valid combinations of parentheses.\n",
    " Input: An integer nnn, representing the number of pairs of parentheses.\n",
    " Output: A list of valid parentheses combinations.\n",
    " Hint: Use recursion and backtracking to generate valid combinations.'''"
   ]
  },
  {
   "cell_type": "code",
   "execution_count": 16,
   "id": "025491df-1cf7-4f92-b5b6-8688bff6a7d7",
   "metadata": {},
   "outputs": [
    {
     "name": "stdout",
     "output_type": "stream",
     "text": [
      "['((()))', '(()())', '(())()', '()(())', '()()()']\n"
     ]
    }
   ],
   "source": [
    "def generate_parentheses(n):\n",
    "    result = []\n",
    "\n",
    "    def backtrack(s, open_count, close_count):\n",
    "        if len(s) == 2 * n:\n",
    "            result.append(s)\n",
    "            return\n",
    "        if open_count < n:\n",
    "            backtrack(s + \"(\", open_count + 1, close_count)\n",
    "        if close_count < open_count:\n",
    "            backtrack(s + \")\", open_count, close_count + 1)\n",
    "\n",
    "    backtrack(\"\", 0, 0)\n",
    "    return result\n",
    "\n",
    "# Example\n",
    "print(generate_parentheses(3))\n",
    "# Output: ['((()))', '(()())', '(())()', '()(())', '()()()']\n"
   ]
  },
  {
   "cell_type": "code",
   "execution_count": 17,
   "id": "60997abc-08e3-4d29-83ed-0706b7792d1a",
   "metadata": {},
   "outputs": [
    {
     "data": {
      "text/plain": [
       "' 53. Zigzag Level Order Traversal of Binary Tree\\n Objective: Traverse a binary tree in a zigzag level order.\\n Input: A binary tree root.\\n Output: A list of lists, where each list represents a level in zigzag order.\\n Hint: Use two stacks to alternate between left-to-right and right-to-left traversal.'"
      ]
     },
     "execution_count": 17,
     "metadata": {},
     "output_type": "execute_result"
    }
   ],
   "source": [
    "''' 53. Zigzag Level Order Traversal of Binary Tree\n",
    " Objective: Traverse a binary tree in a zigzag level order.\n",
    " Input: A binary tree root.\n",
    " Output: A list of lists, where each list represents a level in zigzag order.\n",
    " Hint: Use two stacks to alternate between left-to-right and right-to-left traversal.'''"
   ]
  },
  {
   "cell_type": "code",
   "execution_count": 19,
   "id": "872916ca-ca67-4171-9799-c147da00930d",
   "metadata": {},
   "outputs": [],
   "source": [
    "from collections import deque\n",
    "\n",
    "class TreeNode:\n",
    "    def __init__(self, val=0, left=None, right=None):\n",
    "        self.val = val\n",
    "        self.left = left\n",
    "        self.right = right\n",
    "\n",
    "def zigzag_level_order(root):\n",
    "    if not root:\n",
    "        return []\n",
    "\n",
    "    result = []\n",
    "    queue = deque([root])\n",
    "    left_to_right = True\n",
    "\n",
    "    while queue:\n",
    "        level_size = len(queue)\n",
    "        level = deque()\n",
    "\n",
    "        for _ in range(level_size):\n",
    "            node = queue.popleft()\n",
    "            if left_to_right:\n",
    "                level.append(node.val)\n",
    "            else:\n",
    "                level.appendleft(node.val)\n",
    "\n",
    "            if node.left:\n",
    "                queue.append(node.left)\n",
    "            if node.right:\n",
    "                queue.append(node.right)\n",
    "\n",
    "        result.append(list(level))\n",
    "        left_to_right = not left_to_right\n",
    "\n",
    "    return result\n",
    "\n",
    "# Example Tree:\n",
    "#         1\n",
    "#        / \\\n",
    "#       2   3\n",
    "#      / \\   \\\n",
    "#     4   5   6\n",
    "# Output: [[1], [3, 2], [4, 5, 6]]\n"
   ]
  },
  {
   "cell_type": "code",
   "execution_count": 20,
   "id": "7c297ed5-a9a3-4910-a0bc-f895f9e9cf37",
   "metadata": {},
   "outputs": [
    {
     "data": {
      "text/plain": [
       "'54. Palindrome Partitioning\\nObjective: Partition a string such that every substring is a palindrome.\\nInput: A string.\\nOutput: A list of lists of palindromic partitions.\\nHint: Use backtracking to explore all possible partitions.'"
      ]
     },
     "execution_count": 20,
     "metadata": {},
     "output_type": "execute_result"
    }
   ],
   "source": [
    " '''54. Palindrome Partitioning\n",
    " Objective: Partition a string such that every substring is a palindrome.\n",
    " Input: A string.\n",
    " Output: A list of lists of palindromic partitions.\n",
    " Hint: Use backtracking to explore all possible partitions.'''"
   ]
  },
  {
   "cell_type": "code",
   "execution_count": 21,
   "id": "cf54330b-cc2b-4472-a0df-7d52ddd49db4",
   "metadata": {},
   "outputs": [
    {
     "name": "stdout",
     "output_type": "stream",
     "text": [
      "[['a', 'a', 'b'], ['aa', 'b']]\n"
     ]
    }
   ],
   "source": [
    "def partition_palindromes(s):\n",
    "    result = []\n",
    "\n",
    "    def is_palindrome(sub):\n",
    "        return sub == sub[::-1]\n",
    "\n",
    "    def backtrack(start, path):\n",
    "        if start == len(s):\n",
    "            result.append(path[:])\n",
    "            return\n",
    "        for end in range(start + 1, len(s) + 1):\n",
    "            sub = s[start:end]\n",
    "            if is_palindrome(sub):\n",
    "                backtrack(end, path + [sub])\n",
    "\n",
    "    backtrack(0, [])\n",
    "    return result\n",
    "\n",
    "# Example\n",
    "print(partition_palindromes(\"aab\"))\n",
    "# Output: [['a', 'a', 'b'], ['aa', 'b']]\n"
   ]
  },
  {
   "cell_type": "code",
   "execution_count": 22,
   "id": "dd1032b4-53ce-49a9-81a5-5421803ce30a",
   "metadata": {},
   "outputs": [
    {
     "data": {
      "text/plain": [
       "' 7. Personal Budget Advisor\\n ● Description: Build a program to track expenses and income, analyze spending patterns,\\n and provide suggestions for saving money.\\n ● Challenges:\\n ○ Create a rule-based suggestion system for budgeting.\\n ○ Summarize data using percentages and trends.\\n ○ Implement error handling for incorrect user inputs.\\n ● Skills: Conditional logic, file I/O, and mathematical calculations.'"
      ]
     },
     "execution_count": 22,
     "metadata": {},
     "output_type": "execute_result"
    }
   ],
   "source": [
    "''' 7. Personal Budget Advisor\n",
    " ● Description: Build a program to track expenses and income, analyze spending patterns,\n",
    " and provide suggestions for saving money.\n",
    " ● Challenges:\n",
    " ○ Create a rule-based suggestion system for budgeting.\n",
    " ○ Summarize data using percentages and trends.\n",
    " ○ Implement error handling for incorrect user inputs.\n",
    " ● Skills: Conditional logic, file I/O, and mathematical calculations.'''"
   ]
  },
  {
   "cell_type": "code",
   "execution_count": 23,
   "id": "a5dd44d4-d200-4335-9bee-cf8b169479d6",
   "metadata": {},
   "outputs": [
    {
     "name": "stdout",
     "output_type": "stream",
     "text": [
      "\n",
      "--- Personal Budget Advisor ---\n",
      "1. Add Income\n",
      "2. Add Expense\n",
      "3. Show Summary\n",
      "4. Exit\n"
     ]
    },
    {
     "name": "stdin",
     "output_type": "stream",
     "text": [
      "Choose an option (1-4):  1\n",
      "Enter income amount: ₹ 50000\n",
      "Enter source of income:  Salary\n"
     ]
    },
    {
     "name": "stdout",
     "output_type": "stream",
     "text": [
      "✅ Income added.\n",
      "\n",
      "\n",
      "--- Personal Budget Advisor ---\n",
      "1. Add Income\n",
      "2. Add Expense\n",
      "3. Show Summary\n",
      "4. Exit\n"
     ]
    },
    {
     "name": "stdin",
     "output_type": "stream",
     "text": [
      "Choose an option (1-4):  4\n"
     ]
    },
    {
     "name": "stdout",
     "output_type": "stream",
     "text": [
      "👋 Goodbye!\n"
     ]
    }
   ],
   "source": [
    "income_list = []\n",
    "expense_list = []\n",
    "\n",
    "# Add income\n",
    "def add_income():\n",
    "    try:\n",
    "        amount = float(input(\"Enter income amount: ₹\"))\n",
    "        source = input(\"Enter source of income: \")\n",
    "        income_list.append((amount, source))\n",
    "        print(\"✅ Income added.\\n\")\n",
    "    except ValueError:\n",
    "        print(\"❌ Please enter a valid number.\\n\")\n",
    "\n",
    "# Add expense\n",
    "def add_expense():\n",
    "    try:\n",
    "        amount = float(input(\"Enter expense amount: ₹\"))\n",
    "        category = input(\"Enter expense category: \")\n",
    "        expense_list.append((amount, category))\n",
    "        print(\"✅ Expense added.\\n\")\n",
    "    except ValueError:\n",
    "        print(\"❌ Please enter a valid number.\\n\")\n",
    "\n",
    "# Show summary\n",
    "def show_summary():\n",
    "    total_income = sum([item[0] for item in income_list])\n",
    "    total_expense = sum([item[0] for item in expense_list])\n",
    "    balance = total_income - total_expense\n",
    "\n",
    "    print(\"\\n----- Summary -----\")\n",
    "    print(f\"Total Income: ₹{total_income}\")\n",
    "    print(f\"Total Expense: ₹{total_expense}\")\n",
    "    print(f\"Remaining Balance: ₹{balance}\")\n",
    "\n",
    "    # Show suggestions\n",
    "    if total_income == 0:\n",
    "        print(\"⚠️  You have no income added.\")\n",
    "    elif total_expense > total_income:\n",
    "        print(\"⚠️  You're spending more than your income!\")\n",
    "    elif total_income > 0 and total_expense / total_income > 0.8:\n",
    "        print(\"💡 Try to save more. Aim for at least 20% savings.\")\n",
    "    else:\n",
    "        print(\"✅ You're doing well. Keep saving!\")\n",
    "\n",
    "# Main menu\n",
    "def main():\n",
    "    while True:\n",
    "        print(\"\\n--- Personal Budget Advisor ---\")\n",
    "        print(\"1. Add Income\")\n",
    "        print(\"2. Add Expense\")\n",
    "        print(\"3. Show Summary\")\n",
    "        print(\"4. Exit\")\n",
    "        \n",
    "        choice = input(\"Choose an option (1-4): \")\n",
    "\n",
    "        if choice == \"1\":\n",
    "            add_income()\n",
    "        elif choice == \"2\":\n",
    "            add_expense()\n",
    "        elif choice == \"3\":\n",
    "            show_summary()\n",
    "        elif choice == \"4\":\n",
    "            print(\"👋 Goodbye!\")\n",
    "            break\n",
    "        else:\n",
    "            print(\"❌ Invalid choice. Try again.\")\n",
    "\n",
    "main()\n"
   ]
  },
  {
   "cell_type": "code",
   "execution_count": 24,
   "id": "158196c6-17aa-4373-bf1e-06745b909156",
   "metadata": {},
   "outputs": [
    {
     "data": {
      "text/plain": [
       "' 7. Personal Budget Advisor\\n ● Restriction: No pre-built financial or statistical libraries (e.g., pandas, numpy).\\n ● Reason: This forces students to implement their own methods for handling and\\n analyzing financial data. While tools like pandas can make things easier, the goal is for\\n students to learn how to manipulate data manually using basic structures like lists,\\n dictionaries, and loops. By doing so, they will gain a deeper understanding of data\\n analysis without relying on external packages.\\n ● Learning Outcome: Students will develop skills in data manipulation, basic statistical\\n analysis, and budgeting algorithms, learning how to create effective financial\\n tracking tools without the aid of external libraries.'"
      ]
     },
     "execution_count": 24,
     "metadata": {},
     "output_type": "execute_result"
    }
   ],
   "source": [
    "''' 7. Personal Budget Advisor\n",
    " ● Restriction: No pre-built financial or statistical libraries (e.g., pandas, numpy).\n",
    " ● Reason: This forces students to implement their own methods for handling and\n",
    " analyzing financial data. While tools like pandas can make things easier, the goal is for\n",
    " students to learn how to manipulate data manually using basic structures like lists,\n",
    " dictionaries, and loops. By doing so, they will gain a deeper understanding of data\n",
    " analysis without relying on external packages.\n",
    " ● Learning Outcome: Students will develop skills in data manipulation, basic statistical\n",
    " analysis, and budgeting algorithms, learning how to create effective financial\n",
    " tracking tools without the aid of external libraries.'''"
   ]
  },
  {
   "cell_type": "code",
   "execution_count": null,
   "id": "50069436-e83f-4c63-93b8-0e0d011c8962",
   "metadata": {},
   "outputs": [],
   "source": []
  }
 ],
 "metadata": {
  "kernelspec": {
   "display_name": "Python 3 (ipykernel)",
   "language": "python",
   "name": "python3"
  },
  "language_info": {
   "codemirror_mode": {
    "name": "ipython",
    "version": 3
   },
   "file_extension": ".py",
   "mimetype": "text/x-python",
   "name": "python",
   "nbconvert_exporter": "python",
   "pygments_lexer": "ipython3",
   "version": "3.12.3"
  }
 },
 "nbformat": 4,
 "nbformat_minor": 5
}
