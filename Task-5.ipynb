{
 "cells": [
  {
   "cell_type": "code",
   "execution_count": 1,
   "id": "e88565fe-ac93-41eb-9f85-0b382d861478",
   "metadata": {},
   "outputs": [],
   "source": [
    "#Task-5"
   ]
  },
  {
   "cell_type": "code",
   "execution_count": 2,
   "id": "afe0e333-f873-4f6e-a11d-f4d513be01fd",
   "metadata": {},
   "outputs": [
    {
     "data": {
      "text/plain": [
       "' 33. Find All Permutations of a String\\n Objective: Generate all permutations of a given string.\\n Input: A string.\\n Output: List of all permutations.\\n Hint: Use recursion to swap characters or itertools.permutations.'"
      ]
     },
     "execution_count": 2,
     "metadata": {},
     "output_type": "execute_result"
    }
   ],
   "source": [
    "''' 33. Find All Permutations of a String\n",
    " Objective: Generate all permutations of a given string.\n",
    " Input: A string.\n",
    " Output: List of all permutations.\n",
    " Hint: Use recursion to swap characters or itertools.permutations.'''"
   ]
  },
  {
   "cell_type": "code",
   "execution_count": 3,
   "id": "6e05b09d-835f-4ab7-8f1a-3a42cfaf859c",
   "metadata": {},
   "outputs": [
    {
     "name": "stdin",
     "output_type": "stream",
     "text": [
      "Enter a string:  HELLO\n"
     ]
    },
    {
     "name": "stdout",
     "output_type": "stream",
     "text": [
      "All permutations: ['HELLO', 'HELOL', 'HELLO', 'HELOL', 'HEOLL', 'HEOLL', 'HLELO', 'HLEOL', 'HLLEO', 'HLLOE', 'HLOEL', 'HLOLE', 'HLELO', 'HLEOL', 'HLLEO', 'HLLOE', 'HLOEL', 'HLOLE', 'HOELL', 'HOELL', 'HOLEL', 'HOLLE', 'HOLEL', 'HOLLE', 'EHLLO', 'EHLOL', 'EHLLO', 'EHLOL', 'EHOLL', 'EHOLL', 'ELHLO', 'ELHOL', 'ELLHO', 'ELLOH', 'ELOHL', 'ELOLH', 'ELHLO', 'ELHOL', 'ELLHO', 'ELLOH', 'ELOHL', 'ELOLH', 'EOHLL', 'EOHLL', 'EOLHL', 'EOLLH', 'EOLHL', 'EOLLH', 'LHELO', 'LHEOL', 'LHLEO', 'LHLOE', 'LHOEL', 'LHOLE', 'LEHLO', 'LEHOL', 'LELHO', 'LELOH', 'LEOHL', 'LEOLH', 'LLHEO', 'LLHOE', 'LLEHO', 'LLEOH', 'LLOHE', 'LLOEH', 'LOHEL', 'LOHLE', 'LOEHL', 'LOELH', 'LOLHE', 'LOLEH', 'LHELO', 'LHEOL', 'LHLEO', 'LHLOE', 'LHOEL', 'LHOLE', 'LEHLO', 'LEHOL', 'LELHO', 'LELOH', 'LEOHL', 'LEOLH', 'LLHEO', 'LLHOE', 'LLEHO', 'LLEOH', 'LLOHE', 'LLOEH', 'LOHEL', 'LOHLE', 'LOEHL', 'LOELH', 'LOLHE', 'LOLEH', 'OHELL', 'OHELL', 'OHLEL', 'OHLLE', 'OHLEL', 'OHLLE', 'OEHLL', 'OEHLL', 'OELHL', 'OELLH', 'OELHL', 'OELLH', 'OLHEL', 'OLHLE', 'OLEHL', 'OLELH', 'OLLHE', 'OLLEH', 'OLHEL', 'OLHLE', 'OLEHL', 'OLELH', 'OLLHE', 'OLLEH']\n"
     ]
    }
   ],
   "source": [
    "# Solution\n",
    "from itertools import permutations\n",
    "\n",
    "s = input(\"Enter a string: \")\n",
    "perm = permutations(s)\n",
    "result = [''.join(p) for p in perm]\n",
    "print(\"All permutations:\", result)"
   ]
  },
  {
   "cell_type": "code",
   "execution_count": 4,
   "id": "ea58a26b-344e-47a8-9213-7f680649c0bc",
   "metadata": {},
   "outputs": [
    {
     "data": {
      "text/plain": [
       "' 34. N-th Fibonacci Number (Dynamic Programming)\\n Objective: Find the nnn-th Fibonacci number using dynamic programming for efficiency.\\n Input: An integer nnn.\\n Output: The nnn-th Fibonacci number.\\n Hint: Use a bottom-up approach with a memoization array.'"
      ]
     },
     "execution_count": 4,
     "metadata": {},
     "output_type": "execute_result"
    }
   ],
   "source": [
    "''' 34. N-th Fibonacci Number (Dynamic Programming)\n",
    " Objective: Find the nnn-th Fibonacci number using dynamic programming for efficiency.\n",
    " Input: An integer nnn.\n",
    " Output: The nnn-th Fibonacci number.\n",
    " Hint: Use a bottom-up approach with a memoization array.'''"
   ]
  },
  {
   "cell_type": "code",
   "execution_count": 5,
   "id": "8c7baf8e-0fc5-49d7-a92e-3da74ec2569d",
   "metadata": {},
   "outputs": [
    {
     "name": "stdin",
     "output_type": "stream",
     "text": [
      "Enter the position n:  5\n"
     ]
    },
    {
     "name": "stdout",
     "output_type": "stream",
     "text": [
      "Fibonacci number: 5\n"
     ]
    }
   ],
   "source": [
    "# Solution\n",
    "n = int(input(\"Enter the position n: \"))\n",
    "\n",
    "if n == 0:\n",
    "    print(\"Fibonacci number:\", 0)\n",
    "elif n == 1:\n",
    "    print(\"Fibonacci number:\", 1)\n",
    "else:\n",
    "    dp = [0] * (n + 1)\n",
    "    dp[0], dp[1] = 0, 1\n",
    "    for i in range(2, n + 1):\n",
    "        dp[i] = dp[i - 1] + dp[i - 2]\n",
    "    print(\"Fibonacci number:\", dp[n])"
   ]
  },
  {
   "cell_type": "code",
   "execution_count": 6,
   "id": "d4dc6500-ec2b-4842-b1fe-543230259942",
   "metadata": {},
   "outputs": [
    {
     "data": {
      "text/plain": [
       "'35. Find Duplicates in a List\\nObjective: Identify all duplicate elements in a list.\\nInput: A list of integers.\\nOutput: A list of duplicate integers.\\nHint: Use a dictionary or collections.Counter to count occurrences.'"
      ]
     },
     "execution_count": 6,
     "metadata": {},
     "output_type": "execute_result"
    }
   ],
   "source": [
    " '''35. Find Duplicates in a List\n",
    " Objective: Identify all duplicate elements in a list.\n",
    " Input: A list of integers.\n",
    " Output: A list of duplicate integers.\n",
    " Hint: Use a dictionary or collections.Counter to count occurrences.'''"
   ]
  },
  {
   "cell_type": "code",
   "execution_count": 7,
   "id": "cc725597-7704-4ce2-84e1-d42e82d1cbe0",
   "metadata": {},
   "outputs": [
    {
     "name": "stdin",
     "output_type": "stream",
     "text": [
      "Enter numbers separated by space:  123 456 789 741 963\n"
     ]
    },
    {
     "name": "stdout",
     "output_type": "stream",
     "text": [
      "Duplicate elements: []\n"
     ]
    }
   ],
   "source": [
    "# Solution\n",
    "from collections import Counter\n",
    "\n",
    "nums = list(map(int, input(\"Enter numbers separated by space: \").split()))\n",
    "count = Counter(nums)\n",
    "duplicates = [num for num, freq in count.items() if freq > 1]\n",
    "print(\"Duplicate elements:\", duplicates)"
   ]
  },
  {
   "cell_type": "code",
   "execution_count": 8,
   "id": "ee92d77a-e9e1-4837-a46c-90b79f54fb1b",
   "metadata": {},
   "outputs": [
    {
     "data": {
      "text/plain": [
       "' 36. Longest Increasing Subsequence (LIS)\\n Objective: Find the length of the longest increasing subsequence in an array.\\n Input: A list of integers.\\n Output: The length of the LIS.\\n Hint: Use dynamic programming with an auxiliary array to store lengths.'"
      ]
     },
     "execution_count": 8,
     "metadata": {},
     "output_type": "execute_result"
    }
   ],
   "source": [
    "''' 36. Longest Increasing Subsequence (LIS)\n",
    " Objective: Find the length of the longest increasing subsequence in an array.\n",
    " Input: A list of integers.\n",
    " Output: The length of the LIS.\n",
    " Hint: Use dynamic programming with an auxiliary array to store lengths.'''"
   ]
  },
  {
   "cell_type": "code",
   "execution_count": 9,
   "id": "6b24e83d-5d68-4fe4-98c9-d710b94e2fdd",
   "metadata": {},
   "outputs": [
    {
     "name": "stdin",
     "output_type": "stream",
     "text": [
      "Enter numbers:  85 25 16\n"
     ]
    },
    {
     "name": "stdout",
     "output_type": "stream",
     "text": [
      "LIS length: 1\n"
     ]
    }
   ],
   "source": [
    "# Solution\n",
    "nums = list(map(int, input(\"Enter numbers: \").split()))\n",
    "n = len(nums)\n",
    "\n",
    "if n == 0:\n",
    "    print(\"LIS length: 0\")\n",
    "else:\n",
    "    dp = [1] * n\n",
    "    for i in range(n):\n",
    "        for j in range(i):\n",
    "            if nums[j] < nums[i]:\n",
    "                dp[i] = max(dp[i], dp[j] + 1)\n",
    "    print(\"LIS length:\", max(dp))"
   ]
  },
  {
   "cell_type": "code",
   "execution_count": 10,
   "id": "760b64d4-ea37-4e17-8edd-6f26defa8a1d",
   "metadata": {},
   "outputs": [
    {
     "data": {
      "text/plain": [
       "' 37. Find K Largest Elements\\n Objective: Find the kkk largest elements in a list.\\n Input: A list of integers and an integer kkk.\\n Output: A list of the kkk largest integers.\\n Hint: Use a heap or sort the array and select the last kkk elements.'"
      ]
     },
     "execution_count": 10,
     "metadata": {},
     "output_type": "execute_result"
    }
   ],
   "source": [
    "''' 37. Find K Largest Elements\n",
    " Objective: Find the kkk largest elements in a list.\n",
    " Input: A list of integers and an integer kkk.\n",
    " Output: A list of the kkk largest integers.\n",
    " Hint: Use a heap or sort the array and select the last kkk elements.'''"
   ]
  },
  {
   "cell_type": "code",
   "execution_count": 11,
   "id": "4dc43736-ed6a-4514-b0c4-d014443b7187",
   "metadata": {},
   "outputs": [
    {
     "name": "stdin",
     "output_type": "stream",
     "text": [
      "Enter numbers:  36 65 48\n",
      "Enter k:  8\n"
     ]
    },
    {
     "name": "stdout",
     "output_type": "stream",
     "text": [
      "k is greater than list length.\n"
     ]
    }
   ],
   "source": [
    "# Solution\n",
    "nums = list(map(int, input(\"Enter numbers: \").split()))\n",
    "k = int(input(\"Enter k: \"))\n",
    "\n",
    "if k > len(nums):\n",
    "    print(\"k is greater than list length.\")\n",
    "else:\n",
    "    nums.sort(reverse=True)\n",
    "    print(\"K largest elements:\", nums[:k])"
   ]
  },
  {
   "cell_type": "code",
   "execution_count": 12,
   "id": "c0ccdffc-aacc-488a-b935-0c10403183ad",
   "metadata": {},
   "outputs": [
    {
     "data": {
      "text/plain": [
       "'38. Rotate Matrix\\n Objective: Rotate a matrix 90 degrees clockwise.\\n Input: A 2D list (matrix).\\n Output: The rotated matrix.\\n Hint: Transpose the matrix and then reverse rows.'"
      ]
     },
     "execution_count": 12,
     "metadata": {},
     "output_type": "execute_result"
    }
   ],
   "source": [
    "'''38. Rotate Matrix\n",
    " Objective: Rotate a matrix 90 degrees clockwise.\n",
    " Input: A 2D list (matrix).\n",
    " Output: The rotated matrix.\n",
    " Hint: Transpose the matrix and then reverse rows.'''"
   ]
  },
  {
   "cell_type": "code",
   "execution_count": 13,
   "id": "70f632f7-9c3d-41b1-90c6-d5ab71f6373b",
   "metadata": {},
   "outputs": [
    {
     "name": "stdin",
     "output_type": "stream",
     "text": [
      "Enter the size of square matrix (n):  3\n"
     ]
    },
    {
     "name": "stdout",
     "output_type": "stream",
     "text": [
      "Enter matrix row by row:\n"
     ]
    },
    {
     "name": "stdin",
     "output_type": "stream",
     "text": [
      " 4 6 9\n",
      " 2 5 7\n",
      " 1 3 8\n"
     ]
    },
    {
     "name": "stdout",
     "output_type": "stream",
     "text": [
      "Rotated matrix:\n",
      "1 2 4\n",
      "3 5 6\n",
      "8 7 9\n"
     ]
    }
   ],
   "source": [
    "# Solution\n",
    "def rotate_matrix(matrix):\n",
    "    n = len(matrix)\n",
    "    # Transpose the matrix\n",
    "    for i in range(n):\n",
    "        for j in range(i, n):\n",
    "            matrix[i][j], matrix[j][i] = matrix[j][i], matrix[i][j]\n",
    "    # Reverse each row\n",
    "    for row in matrix:\n",
    "        row.reverse()\n",
    "    return matrix\n",
    "\n",
    "# Input\n",
    "n = int(input(\"Enter the size of square matrix (n): \"))\n",
    "print(\"Enter matrix row by row:\")\n",
    "matrix = [list(map(int, input().split())) for _ in range(n)]\n",
    "\n",
    "rotated = rotate_matrix(matrix)\n",
    "print(\"Rotated matrix:\")\n",
    "for row in rotated:\n",
    "    print(*row)"
   ]
  },
  {
   "cell_type": "code",
   "execution_count": 14,
   "id": "18fd9af3-22fd-48d0-abe7-95f429e68338",
   "metadata": {},
   "outputs": [
    {
     "data": {
      "text/plain": [
       "'39. Sudoku Validator\\nObjective: Validate whether a given Sudoku board configuration is valid.\\nInput: A 9x9 2D list representing a Sudoku board.\\nOutput: True if valid, otherwise False.\\nHint: Check rows, columns, and 3×33 \\times 33×3 grids for duplicates.'"
      ]
     },
     "execution_count": 14,
     "metadata": {},
     "output_type": "execute_result"
    }
   ],
   "source": [
    " '''39. Sudoku Validator\n",
    " Objective: Validate whether a given Sudoku board configuration is valid.\n",
    " Input: A 9x9 2D list representing a Sudoku board.\n",
    " Output: True if valid, otherwise False.\n",
    " Hint: Check rows, columns, and 3×33 \\times 33×3 grids for duplicates.'''"
   ]
  },
  {
   "cell_type": "code",
   "execution_count": 19,
   "id": "83a13206-21c2-4318-8f34-6b824e215eaf",
   "metadata": {},
   "outputs": [
    {
     "name": "stdout",
     "output_type": "stream",
     "text": [
      "Enter Sudoku board row by row (use '.' for empty):\n"
     ]
    },
    {
     "name": "stdin",
     "output_type": "stream",
     "text": [
      " 5 3 . . 7 . . . .\n",
      " 6 . . 1 9 5 . . .\n",
      " . 9 8 . . . . 6 .\n",
      " 8 . . . 6 . . . 3\n",
      " 4 . . 8 . 3 . . 1\n",
      " 7 . . . 2 . . . 6\n",
      " . 6 . . . . 2 8 .\n",
      " . . . 4 1 9 . . 5\n",
      " . . . . 8 . . 7 9\n"
     ]
    },
    {
     "name": "stdout",
     "output_type": "stream",
     "text": [
      "Is valid Sudoku: True\n"
     ]
    }
   ],
   "source": [
    "# Solution\n",
    "def is_valid_sudoku(board):\n",
    "    def is_valid_block(block):\n",
    "        nums = [x for x in block if x != '.']\n",
    "        return len(nums) == len(set(nums))\n",
    "    \n",
    "    # Check rows and columns\n",
    "    for i in range(9):\n",
    "        if not is_valid_block(board[i]) or not is_valid_block([board[j][i] for j in range(9)]):\n",
    "            return False\n",
    "    \n",
    "    # Check 3x3 boxes\n",
    "    for box_row in range(0, 9, 3):\n",
    "        for box_col in range(0, 9, 3):\n",
    "            block = []\n",
    "            for i in range(3):\n",
    "                for j in range(3):\n",
    "                    block.append(board[box_row + i][box_col + j])\n",
    "            if not is_valid_block(block):\n",
    "                return False\n",
    "\n",
    "    return True\n",
    "\n",
    "# Input\n",
    "print(\"Enter Sudoku board row by row (use '.' for empty):\")\n",
    "sudoku_board = [input().split() for _ in range(9)]\n",
    "\n",
    "print(\"Is valid Sudoku:\", is_valid_sudoku(sudoku_board))"
   ]
  },
  {
   "cell_type": "code",
   "execution_count": 1,
   "id": "af4b8e89-2782-4fb2-9998-9a56417a5e94",
   "metadata": {},
   "outputs": [
    {
     "data": {
      "text/plain": [
       "' 5. Virtual Stock Market Simulator\\n ● Description: Create a stock market simulation where users can buy, sell, and track\\n virtual stocks based on random price fluctuations.\\n ● Challenges:\\n ○ Implement a system for price changes based on random or predefined patterns.\\n ○ Keeptrack of users’ portfolios and transactions.\\n ○ Introduce advanced features like market trends or risk analysis.\\n ● Skills: Data structures, random number generation, and business logic.'"
      ]
     },
     "execution_count": 1,
     "metadata": {},
     "output_type": "execute_result"
    }
   ],
   "source": [
    "''' 5. Virtual Stock Market Simulator\n",
    " ● Description: Create a stock market simulation where users can buy, sell, and track\n",
    " virtual stocks based on random price fluctuations.\n",
    " ● Challenges:\n",
    " ○ Implement a system for price changes based on random or predefined patterns.\n",
    " ○ Keeptrack of users’ portfolios and transactions.\n",
    " ○ Introduce advanced features like market trends or risk analysis.\n",
    " ● Skills: Data structures, random number generation, and business logic.'''"
   ]
  },
  {
   "cell_type": "code",
   "execution_count": 3,
   "id": "aed37f34-b57c-41e3-971a-9f630218603c",
   "metadata": {},
   "outputs": [
    {
     "name": "stdout",
     "output_type": "stream",
     "text": [
      "\n",
      "📅 Day 1\n",
      "\n",
      "📈 Current Stock Prices:\n",
      "  TechCorp: ₹250.00\n",
      "  AgroGen: ₹120.00\n",
      "  Medix: ₹300.00\n",
      "  EduSmart: ₹180.00\n",
      "\n",
      "Menu:\n",
      "1. Buy Stocks\n",
      "2. Sell Stocks\n",
      "3. View Portfolio\n",
      "4. View Transactions\n",
      "5. Next Day\n",
      "6. Exit\n"
     ]
    },
    {
     "name": "stdin",
     "output_type": "stream",
     "text": [
      "Choose an option:  6\n"
     ]
    },
    {
     "name": "stdout",
     "output_type": "stream",
     "text": [
      "👋 Exiting... Thanks for trading!\n"
     ]
    }
   ],
   "source": [
    "import random\n",
    "import time\n",
    "\n",
    "# Initial stock data\n",
    "stocks = {\n",
    "    \"TechCorp\": 250.0,\n",
    "    \"AgroGen\": 120.0,\n",
    "    \"Medix\": 300.0,\n",
    "    \"EduSmart\": 180.0\n",
    "}\n",
    "\n",
    "# User portfolio and balance\n",
    "portfolio = {}\n",
    "balance = 10000.0\n",
    "transaction_history = []\n",
    "\n",
    "# Function to simulate price fluctuation\n",
    "def update_stock_prices():\n",
    "    for stock in stocks:\n",
    "        change_percent = random.uniform(-5, 5)  # Price can change +/-5%\n",
    "        stocks[stock] += stocks[stock] * (change_percent / 100)\n",
    "        stocks[stock] = round(stocks[stock], 2)\n",
    "\n",
    "# Function to show current market\n",
    "def display_stocks():\n",
    "    print(\"\\n📈 Current Stock Prices:\")\n",
    "    for name, price in stocks.items():\n",
    "        print(f\"  {name}: ₹{price:.2f}\")\n",
    "\n",
    "# Show portfolio\n",
    "def display_portfolio():\n",
    "    print(\"\\n📊 Your Portfolio:\")\n",
    "    for stock, qty in portfolio.items():\n",
    "        print(f\"  {stock}: {qty} shares (₹{stocks[stock] * qty:.2f})\")\n",
    "    print(f\"\\n💰 Balance: ₹{balance:.2f}\")\n",
    "\n",
    "# Buy stocks\n",
    "def buy_stock():\n",
    "    global balance\n",
    "    display_stocks()\n",
    "    stock = input(\"Enter the stock name to buy: \")\n",
    "    if stock not in stocks:\n",
    "        print(\"❌ Invalid stock name.\")\n",
    "        return\n",
    "    try:\n",
    "        qty = int(input(\"Enter quantity to buy: \"))\n",
    "        total_cost = stocks[stock] * qty\n",
    "        if balance >= total_cost:\n",
    "            balance -= total_cost\n",
    "            portfolio[stock] = portfolio.get(stock, 0) + qty\n",
    "            transaction_history.append((time.ctime(), \"BUY\", stock, qty, stocks[stock]))\n",
    "            print(f\"✅ Bought {qty} shares of {stock} for ₹{total_cost:.2f}\")\n",
    "        else:\n",
    "            print(\"❌ Not enough balance.\")\n",
    "    except ValueError:\n",
    "        print(\"❌ Invalid quantity.\")\n",
    "\n",
    "# Sell stocks\n",
    "def sell_stock():\n",
    "    global balance\n",
    "    display_portfolio()\n",
    "    stock = input(\"Enter the stock name to sell: \")\n",
    "    if stock not in portfolio or portfolio[stock] == 0:\n",
    "        print(\"❌ You don't own this stock.\")\n",
    "        return\n",
    "    try:\n",
    "        qty = int(input(\"Enter quantity to sell: \"))\n",
    "        if qty <= portfolio[stock]:\n",
    "            total_earnings = stocks[stock] * qty\n",
    "            balance += total_earnings\n",
    "            portfolio[stock] -= qty\n",
    "            transaction_history.append((time.ctime(), \"SELL\", stock, qty, stocks[stock]))\n",
    "            print(f\"✅ Sold {qty} shares of {stock} for ₹{total_earnings:.2f}\")\n",
    "        else:\n",
    "            print(\"❌ Not enough shares.\")\n",
    "    except ValueError:\n",
    "        print(\"❌ Invalid quantity.\")\n",
    "\n",
    "# View transaction history\n",
    "def view_transactions():\n",
    "    print(\"\\n📜 Transaction History:\")\n",
    "    for t in transaction_history:\n",
    "        print(f\"  [{t[0]}] {t[1]} {t[3]} x {t[2]} @ ₹{t[4]:.2f}\")\n",
    "\n",
    "# Main loop\n",
    "def main():\n",
    "    day = 1\n",
    "    while True:\n",
    "        print(f\"\\n📅 Day {day}\")\n",
    "        display_stocks()\n",
    "        print(\"\\nMenu:\")\n",
    "        print(\"1. Buy Stocks\")\n",
    "        print(\"2. Sell Stocks\")\n",
    "        print(\"3. View Portfolio\")\n",
    "        print(\"4. View Transactions\")\n",
    "        print(\"5. Next Day\")\n",
    "        print(\"6. Exit\")\n",
    "        choice = input(\"Choose an option: \")\n",
    "\n",
    "        if choice == '1':\n",
    "            buy_stock()\n",
    "        elif choice == '2':\n",
    "            sell_stock()\n",
    "        elif choice == '3':\n",
    "            display_portfolio()\n",
    "        elif choice == '4':\n",
    "            view_transactions()\n",
    "        elif choice == '5':\n",
    "            update_stock_prices()\n",
    "            day += 1\n",
    "        elif choice == '6':\n",
    "            print(\"👋 Exiting... Thanks for trading!\")\n",
    "            break\n",
    "        else:\n",
    "            print(\"❌ Invalid option.\")\n",
    "\n",
    "if __name__ == \"__main__\":\n",
    "    main()\n"
   ]
  },
  {
   "cell_type": "code",
   "execution_count": 4,
   "id": "7c9c1feb-d5ed-41e1-bad5-aec97ef901d0",
   "metadata": {},
   "outputs": [
    {
     "data": {
      "text/plain": [
       "' 5. Virtual Stock Market Simulator\\n ● Restriction: No real-time stock data access or APIs.\\n ● Reason: The goal is to simulate stock market behavior without depending on actual\\n market data. Students will create algorithms to model stock price changes based on\\n random fluctuations or predefined trends. This teaches how to simulate systems that\\n behave like real-world systems (stocks in this case) and how to handle financial\\n modeling without relying on external data.\\n ● Learning Outcome: Students will learn how to simulate complex systems, work with\\n financial concepts, and understand the fundamentals of market behavior and how to\\n track and predict stock changes.'"
      ]
     },
     "execution_count": 4,
     "metadata": {},
     "output_type": "execute_result"
    }
   ],
   "source": [
    "''' 5. Virtual Stock Market Simulator\n",
    " ● Restriction: No real-time stock data access or APIs.\n",
    " ● Reason: The goal is to simulate stock market behavior without depending on actual\n",
    " market data. Students will create algorithms to model stock price changes based on\n",
    " random fluctuations or predefined trends. This teaches how to simulate systems that\n",
    " behave like real-world systems (stocks in this case) and how to handle financial\n",
    " modeling without relying on external data.\n",
    " ● Learning Outcome: Students will learn how to simulate complex systems, work with\n",
    " financial concepts, and understand the fundamentals of market behavior and how to\n",
    " track and predict stock changes.'''"
   ]
  },
  {
   "cell_type": "code",
   "execution_count": null,
   "id": "ab7ea26f-a1ac-4abe-b05a-923808822cae",
   "metadata": {},
   "outputs": [],
   "source": []
  }
 ],
 "metadata": {
  "kernelspec": {
   "display_name": "Python 3 (ipykernel)",
   "language": "python",
   "name": "python3"
  },
  "language_info": {
   "codemirror_mode": {
    "name": "ipython",
    "version": 3
   },
   "file_extension": ".py",
   "mimetype": "text/x-python",
   "name": "python",
   "nbconvert_exporter": "python",
   "pygments_lexer": "ipython3",
   "version": "3.12.3"
  }
 },
 "nbformat": 4,
 "nbformat_minor": 5
}
