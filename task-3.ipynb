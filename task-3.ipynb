{
 "cells": [
  {
   "cell_type": "code",
   "execution_count": 1,
   "id": "8d3cde72-a064-4919-a114-1fc23506a6f8",
   "metadata": {},
   "outputs": [],
   "source": [
    "#Task-3"
   ]
  },
  {
   "cell_type": "code",
   "execution_count": 2,
   "id": "9124e8a5-5b2a-4891-a4db-9ec7bd2b73fe",
   "metadata": {},
   "outputs": [
    {
     "data": {
      "text/plain": [
       "' 17. Table of a Number\\n Objective: Print the multiplication table for a given number nnn.\\n Input: An integer nnn.\\n Output: Multiplication table from 111 to 101010.\\n Hint: Use a loop to iterate through values 1 to 10 and multiply by nnn.'"
      ]
     },
     "execution_count": 2,
     "metadata": {},
     "output_type": "execute_result"
    }
   ],
   "source": [
    "''' 17. Table of a Number\n",
    " Objective: Print the multiplication table for a given number nnn.\n",
    " Input: An integer nnn.\n",
    " Output: Multiplication table from 111 to 101010.\n",
    " Hint: Use a loop to iterate through values 1 to 10 and multiply by nnn.'''"
   ]
  },
  {
   "cell_type": "code",
   "execution_count": 3,
   "id": "c00f1e6a-ac8c-4315-a14e-cde6424ad0d3",
   "metadata": {},
   "outputs": [
    {
     "name": "stdin",
     "output_type": "stream",
     "text": [
      "Enter a number:  326\n"
     ]
    },
    {
     "name": "stdout",
     "output_type": "stream",
     "text": [
      "326 x 1 = 326\n",
      "326 x 2 = 652\n",
      "326 x 3 = 978\n",
      "326 x 4 = 1304\n",
      "326 x 5 = 1630\n",
      "326 x 6 = 1956\n",
      "326 x 7 = 2282\n",
      "326 x 8 = 2608\n",
      "326 x 9 = 2934\n",
      "326 x 10 = 3260\n"
     ]
    }
   ],
   "source": [
    "# Solution\n",
    "n = int(input(\"Enter a number: \"))\n",
    "for i in range(1, 11):\n",
    "    print(f\"{n} x {i} = {n * i}\")"
   ]
  },
  {
   "cell_type": "code",
   "execution_count": 4,
   "id": "088124af-db6f-4ea0-a293-17e93f5db47b",
   "metadata": {},
   "outputs": [
    {
     "data": {
      "text/plain": [
       "'18. Swap Two Numbers\\n Objective: Swap two numbers without using a third variable.\\n Input: Two integers aaa and bbb.\\n Output: Swapped values of aaa and bbb.\\n Hint: Use arithmetic operations like addition and subtraction or XOR (a, b = b, a).'"
      ]
     },
     "execution_count": 4,
     "metadata": {},
     "output_type": "execute_result"
    }
   ],
   "source": [
    "'''18. Swap Two Numbers\n",
    " Objective: Swap two numbers without using a third variable.\n",
    " Input: Two integers aaa and bbb.\n",
    " Output: Swapped values of aaa and bbb.\n",
    " Hint: Use arithmetic operations like addition and subtraction or XOR (a, b = b, a).'''"
   ]
  },
  {
   "cell_type": "code",
   "execution_count": 5,
   "id": "f9ea251b-cc7f-4675-a0f9-364149b65901",
   "metadata": {},
   "outputs": [
    {
     "name": "stdin",
     "output_type": "stream",
     "text": [
      "Enter first number:  12\n",
      "Enter second number:  56\n"
     ]
    },
    {
     "name": "stdout",
     "output_type": "stream",
     "text": [
      "After swapping:\n",
      "First number: 56\n",
      "Second number: 12\n"
     ]
    }
   ],
   "source": [
    "# Solution\n",
    "a = int(input(\"Enter first number: \"))\n",
    "b = int(input(\"Enter second number: \"))\n",
    "\n",
    "# Swapping without a third variable\n",
    "a = a + b\n",
    "b = a - b\n",
    "a = a - b\n",
    "\n",
    "print(\"After swapping:\")\n",
    "print(\"First number:\", a)\n",
    "print(\"Second number:\", b)"
   ]
  },
  {
   "cell_type": "code",
   "execution_count": 6,
   "id": "dce7623c-b169-47a7-8e05-e8142fc859d4",
   "metadata": {},
   "outputs": [
    {
     "data": {
      "text/plain": [
       "\"19. Check Substring\\n Objective: Determine if one string is a substring of another.\\n Input: Two strings s1s1s1 (main string) and s2s2s2 (substring).\\n Output: True if s2s2s2 is a substring of s1s1s1, otherwise False.\\n Hint: Use Python's in operator or string slicing to search for substrings.\""
      ]
     },
     "execution_count": 6,
     "metadata": {},
     "output_type": "execute_result"
    }
   ],
   "source": [
    "'''19. Check Substring\n",
    " Objective: Determine if one string is a substring of another.\n",
    " Input: Two strings s1s1s1 (main string) and s2s2s2 (substring).\n",
    " Output: True if s2s2s2 is a substring of s1s1s1, otherwise False.\n",
    " Hint: Use Python's in operator or string slicing to search for substrings.'''"
   ]
  },
  {
   "cell_type": "code",
   "execution_count": 7,
   "id": "f6631c24-93f4-4c46-8aea-8d57657bfa8b",
   "metadata": {},
   "outputs": [
    {
     "name": "stdin",
     "output_type": "stream",
     "text": [
      "Enter the main string:  Hello\n",
      "Enter the substring:  Good Morning\n"
     ]
    },
    {
     "name": "stdout",
     "output_type": "stream",
     "text": [
      "Is substring: False\n"
     ]
    }
   ],
   "source": [
    "# Solution\n",
    "s1 = input(\"Enter the main string: \")\n",
    "s2 = input(\"Enter the substring: \")\n",
    "\n",
    "print(\"Is substring:\", s2 in s1)"
   ]
  },
  {
   "cell_type": "code",
   "execution_count": 9,
   "id": "3bb540ce-6a7a-45be-82c3-aa57648ad3ef",
   "metadata": {},
   "outputs": [
    {
     "data": {
      "text/plain": [
       "'20. Decimal to Binary\\n Objective: Convert a decimal number to its binary representation.\\n Input: An integer nnn.\\n Output: A string representing the binary equivalent.\\n Hint: Use the bin() function or repeatedly divide nnn by 2, storing remainders.'"
      ]
     },
     "execution_count": 9,
     "metadata": {},
     "output_type": "execute_result"
    }
   ],
   "source": [
    "'''20. Decimal to Binary\n",
    " Objective: Convert a decimal number to its binary representation.\n",
    " Input: An integer nnn.\n",
    " Output: A string representing the binary equivalent.\n",
    " Hint: Use the bin() function or repeatedly divide nnn by 2, storing remainders.'''"
   ]
  },
  {
   "cell_type": "code",
   "execution_count": 13,
   "id": "49f79c40-3fe8-4e57-b032-11d84478c025",
   "metadata": {},
   "outputs": [
    {
     "name": "stdin",
     "output_type": "stream",
     "text": [
      "Enter a decimal number:  10\n"
     ]
    },
    {
     "name": "stdout",
     "output_type": "stream",
     "text": [
      "Binary representation: 1.00.01.00.0\n"
     ]
    }
   ],
   "source": [
    "# Solution\n",
    "n = int(input(\"Enter a decimal number: \"))\n",
    "binary = \"\"\n",
    "\n",
    "if n == 0:\n",
    "    binary = \"0\"\n",
    "else:\n",
    "    while n > 0:\n",
    "        binary = str(n % 2) + binary\n",
    "        n //= 2\n",
    "\n",
    "print(\"Binary representation:\", binary)"
   ]
  },
  {
   "cell_type": "code",
   "execution_count": 14,
   "id": "6c4b7631-9a6d-40cc-bc38-43abd0768948",
   "metadata": {},
   "outputs": [
    {
     "data": {
      "text/plain": [
       "'21. Matrix Addition\\nObjective: Add two matrices of the same dimensions.\\nInput: Two 2D lists (matrices) of integers.\\nOutput: A 2D list containing the sum of corresponding elements.\\nHint: Use nested loops to iterate through rows and columns, adding corresponding\\nelements.'"
      ]
     },
     "execution_count": 14,
     "metadata": {},
     "output_type": "execute_result"
    }
   ],
   "source": [
    " '''21. Matrix Addition\n",
    " Objective: Add two matrices of the same dimensions.\n",
    " Input: Two 2D lists (matrices) of integers.\n",
    " Output: A 2D list containing the sum of corresponding elements.\n",
    " Hint: Use nested loops to iterate through rows and columns, adding corresponding\n",
    " elements.'''"
   ]
  },
  {
   "cell_type": "code",
   "execution_count": 20,
   "id": "80a73f93-5b77-456e-b49a-a601a358075a",
   "metadata": {},
   "outputs": [
    {
     "name": "stdin",
     "output_type": "stream",
     "text": [
      "Enter number of rows:  2\n",
      "Enter number of columns:  2\n"
     ]
    },
    {
     "name": "stdout",
     "output_type": "stream",
     "text": [
      "Enter elements of first matrix:\n"
     ]
    },
    {
     "name": "stdin",
     "output_type": "stream",
     "text": [
      "Element [0][0]:  54\n",
      "Element [0][1]:  14\n",
      "Element [1][0]:  36\n",
      "Element [1][1]:  25\n"
     ]
    },
    {
     "name": "stdout",
     "output_type": "stream",
     "text": [
      "Enter elements of second matrix:\n"
     ]
    },
    {
     "name": "stdin",
     "output_type": "stream",
     "text": [
      "Element [0][0]:  19\n",
      "Element [0][1]:  54\n",
      "Element [1][0]:  37\n",
      "Element [1][1]:  68\n"
     ]
    },
    {
     "name": "stdout",
     "output_type": "stream",
     "text": [
      "Sum of matrices:\n",
      "[73, 68]\n",
      "[73, 93]\n"
     ]
    }
   ],
   "source": [
    "# Solution\n",
    "rows = int(input(\"Enter number of rows: \"))\n",
    "cols = int(input(\"Enter number of columns: \"))\n",
    "\n",
    "print(\"Enter elements of first matrix:\")\n",
    "matrix1 = [[int(input(f\"Element [{i}][{j}]: \")) for j in range(cols)] for i in range(rows)]\n",
    "\n",
    "print(\"Enter elements of second matrix:\")\n",
    "matrix2 = [[int(input(f\"Element [{i}][{j}]: \")) for j in range(cols)] for i in range(rows)]\n",
    "\n",
    "# Add matrices\n",
    "result = [[matrix1[i][j] + matrix2[i][j] for j in range(cols)] for i in range(rows)]\n",
    "\n",
    "print(\"Sum of matrices:\")\n",
    "for row in result:\n",
    "    print(row)"
   ]
  },
  {
   "cell_type": "code",
   "execution_count": 16,
   "id": "ce464928-e1b4-48b5-88a0-6f03a39512cb",
   "metadata": {},
   "outputs": [
    {
     "data": {
      "text/plain": [
       "'22. Matrix Multiplication\\n Objective: Multiply two matrices AAA and BBB.\\n Input: Two 2D lists where the number of columns in AAA equals the number of rows in\\n BBB.\\n Output: A 2D list representing the product matrix.\\n Hint: Multiply elements row-by-column and sum for each position in the result matrix.'"
      ]
     },
     "execution_count": 16,
     "metadata": {},
     "output_type": "execute_result"
    }
   ],
   "source": [
    "'''22. Matrix Multiplication\n",
    " Objective: Multiply two matrices AAA and BBB.\n",
    " Input: Two 2D lists where the number of columns in AAA equals the number of rows in\n",
    " BBB.\n",
    " Output: A 2D list representing the product matrix.\n",
    " Hint: Multiply elements row-by-column and sum for each position in the result matrix.'''"
   ]
  },
  {
   "cell_type": "code",
   "execution_count": 21,
   "id": "b9e187af-c2d3-4419-b974-c726e48a2f3c",
   "metadata": {},
   "outputs": [
    {
     "name": "stdin",
     "output_type": "stream",
     "text": [
      "Enter number of rows in Matrix A:  2\n",
      "Enter number of columns in Matrix A:  4\n",
      "Enter number of rows in Matrix B:  3\n",
      "Enter number of columns in Matrix B:  5\n"
     ]
    },
    {
     "name": "stdout",
     "output_type": "stream",
     "text": [
      "Matrix multiplication not possible. Columns of A must equal rows of B.\n"
     ]
    }
   ],
   "source": [
    "# Solution\n",
    "# Input dimensions\n",
    "rows_A = int(input(\"Enter number of rows in Matrix A: \"))\n",
    "cols_A = int(input(\"Enter number of columns in Matrix A: \"))\n",
    "rows_B = int(input(\"Enter number of rows in Matrix B: \"))\n",
    "cols_B = int(input(\"Enter number of columns in Matrix B: \"))\n",
    "\n",
    "# Check multiplication validity\n",
    "if cols_A != rows_B:\n",
    "    print(\"Matrix multiplication not possible. Columns of A must equal rows of B.\")\n",
    "else:\n",
    "    print(\"Enter elements of Matrix A:\")\n",
    "    A = [[int(input(f\"A[{i}][{j}]: \")) for j in range(cols_A)] for i in range(rows_A)]\n",
    "\n",
    "    print(\"Enter elements of Matrix B:\")\n",
    "    B = [[int(input(f\"B[{i}][{j}]: \")) for j in range(cols_B)] for i in range(rows_B)]\n",
    "\n",
    "    # Initialize result matrix with 0s\n",
    "    result = [[0 for _ in range(cols_B)] for _ in range(rows_A)]\n",
    "\n",
    "    # Multiply A and B\n",
    "    for i in range(rows_A):\n",
    "        for j in range(cols_B):\n",
    "            for k in range(cols_A):\n",
    "                result[i][j] += A[i][k] * B[k][j]\n",
    "\n",
    "    print(\"Product of matrices:\")\n",
    "    for row in result:\n",
    "        print(row)\n"
   ]
  },
  {
   "cell_type": "code",
   "execution_count": 22,
   "id": "799d5e97-f586-4420-bcca-731648b85683",
   "metadata": {},
   "outputs": [
    {
     "data": {
      "text/plain": [
       "'23. Find Second Largest\\n Objective: Find the second largest number in a list.\\n Input: A list of integers.\\n Output: The second largest integer.\\n Hint: Use sorting or iterate to find the largest, then the second largest.'"
      ]
     },
     "execution_count": 22,
     "metadata": {},
     "output_type": "execute_result"
    }
   ],
   "source": [
    "'''23. Find Second Largest\n",
    " Objective: Find the second largest number in a list.\n",
    " Input: A list of integers.\n",
    " Output: The second largest integer.\n",
    " Hint: Use sorting or iterate to find the largest, then the second largest.'''"
   ]
  },
  {
   "cell_type": "code",
   "execution_count": 24,
   "id": "ecf16227-cddd-465a-84ea-03e8d8c6c933",
   "metadata": {},
   "outputs": [
    {
     "name": "stdin",
     "output_type": "stream",
     "text": [
      "Enter list of numbers separated by space:  12 32 41 54 62\n"
     ]
    },
    {
     "name": "stdout",
     "output_type": "stream",
     "text": [
      "Second largest number: 54\n"
     ]
    }
   ],
   "source": [
    "# Solution\n",
    "numbers = list(map(int, input(\"Enter list of numbers separated by space: \").split()))\n",
    "\n",
    "if len(numbers) < 2:\n",
    "    print(\"List must contain at least two numbers.\")\n",
    "else:\n",
    "    first = second = float('-inf')\n",
    "    for num in numbers:\n",
    "        if num > first:\n",
    "            second = first\n",
    "            first = num\n",
    "        elif first > num > second:\n",
    "            second = num\n",
    "    if second == float('-inf'):\n",
    "        print(\"No second largest number found.\")\n",
    "    else:\n",
    "        print(\"Second largest number:\", second)"
   ]
  },
  {
   "cell_type": "code",
   "execution_count": 25,
   "id": "8b3d9d00-d8e4-4c0e-bde2-908505c0eebb",
   "metadata": {},
   "outputs": [
    {
     "data": {
      "text/plain": [
       "' 24. Check Anagram\\n Objective: Check if two strings are anagrams (contain the same characters in any\\n order).\\n Input: Two strings.\\n Output: True if anagrams, otherwise False.\\n Hint: Use sorted() on both strings or count character occurrences using a dictionary.'"
      ]
     },
     "execution_count": 25,
     "metadata": {},
     "output_type": "execute_result"
    }
   ],
   "source": [
    "''' 24. Check Anagram\n",
    " Objective: Check if two strings are anagrams (contain the same characters in any\n",
    " order).\n",
    " Input: Two strings.\n",
    " Output: True if anagrams, otherwise False.\n",
    " Hint: Use sorted() on both strings or count character occurrences using a dictionary.'''"
   ]
  },
  {
   "cell_type": "code",
   "execution_count": 26,
   "id": "c1230421-9dd4-4e29-b292-95c9c5b5191f",
   "metadata": {},
   "outputs": [
    {
     "name": "stdin",
     "output_type": "stream",
     "text": [
      "Enter first string:  Hello\n",
      "Enter second string:  Python\n"
     ]
    },
    {
     "name": "stdout",
     "output_type": "stream",
     "text": [
      "Are anagrams: False\n"
     ]
    }
   ],
   "source": [
    "# Solution\n",
    "str1 = input(\"Enter first string: \").replace(\" \", \"\").lower()\n",
    "str2 = input(\"Enter second string: \").replace(\" \", \"\").lower()\n",
    "\n",
    "print(\"Are anagrams:\", sorted(str1) == sorted(str2))"
   ]
  },
  {
   "cell_type": "code",
   "execution_count": 27,
   "id": "816d02ea-cfac-4712-8a37-cc0b9125b0e4",
   "metadata": {},
   "outputs": [
    {
     "data": {
      "text/plain": [
       "' 3. AI-Based Tic-Tac-Toe\\n ● Description: Create a Tic-Tac-Toe game where the computer plays against the user and\\n uses a minimax algorithm to make decisions.\\n ● Challenges:\\n ○ Implement AI logic with decision trees.\\n ○ Handle edge cases like a full board or winning moves.\\n ○ Provide a user-friendly interface.\\n ● Skills: Game theory, recursion, and strategic thinking.'"
      ]
     },
     "execution_count": 27,
     "metadata": {},
     "output_type": "execute_result"
    }
   ],
   "source": [
    "''' 3. AI-Based Tic-Tac-Toe\n",
    " ● Description: Create a Tic-Tac-Toe game where the computer plays against the user and\n",
    " uses a minimax algorithm to make decisions.\n",
    " ● Challenges:\n",
    " ○ Implement AI logic with decision trees.\n",
    " ○ Handle edge cases like a full board or winning moves.\n",
    " ○ Provide a user-friendly interface.\n",
    " ● Skills: Game theory, recursion, and strategic thinking.'''"
   ]
  },
  {
   "cell_type": "code",
   "execution_count": 5,
   "id": "0df3de0b-76c8-4ef0-a49e-88e8f0de383a",
   "metadata": {},
   "outputs": [
    {
     "name": "stdout",
     "output_type": "stream",
     "text": [
      "Welcome to Tic-Tac-Toe!\n",
      "You are X, AI is O.\n",
      "\n",
      "   |   |   \n",
      "   |   |   \n",
      "---+---+---\n",
      "   |   |   \n",
      "   |   |   \n",
      "---+---+---\n",
      "   |   |   \n",
      "   |   |   \n",
      "\n"
     ]
    },
    {
     "name": "stdin",
     "output_type": "stream",
     "text": [
      "Enter your move (1-9):  5\n"
     ]
    },
    {
     "name": "stdout",
     "output_type": "stream",
     "text": [
      "\n",
      "   |   |   \n",
      "   |   |   \n",
      "---+---+---\n",
      "   |   |   \n",
      "   | X |   \n",
      "---+---+---\n",
      "   |   |   \n",
      "   |   |   \n",
      "\n",
      "AI is thinking...\n",
      "\n",
      "   |   |   \n",
      " O |   |   \n",
      "---+---+---\n",
      "   |   |   \n",
      "   | X |   \n",
      "---+---+---\n",
      "   |   |   \n",
      "   |   |   \n",
      "\n"
     ]
    },
    {
     "name": "stdin",
     "output_type": "stream",
     "text": [
      "Enter your move (1-9):  3\n"
     ]
    },
    {
     "name": "stdout",
     "output_type": "stream",
     "text": [
      "\n",
      "   |   |   \n",
      " O |   | X \n",
      "---+---+---\n",
      "   |   |   \n",
      "   | X |   \n",
      "---+---+---\n",
      "   |   |   \n",
      "   |   |   \n",
      "\n",
      "AI is thinking...\n",
      "\n",
      "   |   |   \n",
      " O |   | X \n",
      "---+---+---\n",
      "   |   |   \n",
      "   | X |   \n",
      "---+---+---\n",
      "   |   |   \n",
      " O |   |   \n",
      "\n"
     ]
    },
    {
     "name": "stdin",
     "output_type": "stream",
     "text": [
      "Enter your move (1-9):  6\n"
     ]
    },
    {
     "name": "stdout",
     "output_type": "stream",
     "text": [
      "\n",
      "   |   |   \n",
      " O |   | X \n",
      "---+---+---\n",
      "   |   |   \n",
      "   | X | X \n",
      "---+---+---\n",
      "   |   |   \n",
      " O |   |   \n",
      "\n",
      "AI is thinking...\n",
      "\n",
      "   |   |   \n",
      " O |   | X \n",
      "---+---+---\n",
      "   |   |   \n",
      " O | X | X \n",
      "---+---+---\n",
      "   |   |   \n",
      " O |   |   \n",
      "\n",
      "O wins!\n"
     ]
    }
   ],
   "source": [
    "import math\n",
    "\n",
    "\n",
    "def print_board(board):\n",
    "    print()\n",
    "    for i in range(3):\n",
    "        row = \"   |   |   \"\n",
    "        print(row)\n",
    "        print(f\" {board[3*i]} | {board[3*i+1]} | {board[3*i+2]} \")\n",
    "        if i < 2:\n",
    "            print(\"---+---+---\")\n",
    "    print()\n",
    "\n",
    "# Check for a winner or draw\n",
    "def check_winner(board):\n",
    "    win_combinations = [\n",
    "        [0, 1, 2], [3, 4, 5], [6, 7, 8],  # rows\n",
    "        [0, 3, 6], [1, 4, 7], [2, 5, 8],  # columns\n",
    "        [0, 4, 8], [2, 4, 6]              # diagonals\n",
    "    ]\n",
    "\n",
    "    for combo in win_combinations:\n",
    "        a, b, c = combo\n",
    "        if board[a] == board[b] == board[c] != ' ':\n",
    "            return board[a]\n",
    "    \n",
    "    if ' ' not in board:\n",
    "        return 'Draw'\n",
    "    \n",
    "    return None\n",
    "\n",
    "# Minimax algorithm for the AI to choose best move\n",
    "def minimax(board, is_maximizing):\n",
    "    winner = check_winner(board)\n",
    "    if winner == 'O':\n",
    "        return 1\n",
    "    elif winner == 'X':\n",
    "        return -1\n",
    "    elif winner == 'Draw':\n",
    "        return 0\n",
    "\n",
    "    if is_maximizing:\n",
    "        best_score = -math.inf\n",
    "        for i in range(9):\n",
    "            if board[i] == ' ':\n",
    "                board[i] = 'O'\n",
    "                score = minimax(board, False)\n",
    "                board[i] = ' '\n",
    "                best_score = max(score, best_score)\n",
    "        return best_score\n",
    "    else:\n",
    "        best_score = math.inf\n",
    "        for i in range(9):\n",
    "            if board[i] == ' ':\n",
    "                board[i] = 'X'\n",
    "                score = minimax(board, True)\n",
    "                board[i] = ' '\n",
    "                best_score = min(score, best_score)\n",
    "        return best_score\n",
    "\n",
    "# AI picks best move\n",
    "def ai_move(board):\n",
    "    best_score = -math.inf\n",
    "    move = None\n",
    "    for i in range(9):\n",
    "        if board[i] == ' ':\n",
    "            board[i] = 'O'\n",
    "            score = minimax(board, False)\n",
    "            board[i] = ' '\n",
    "            if score > best_score:\n",
    "                best_score = score\n",
    "                move = i\n",
    "    return move\n",
    "\n",
    "# Main game function\n",
    "def play_game():\n",
    "    board = [' '] * 9\n",
    "    print(\"Welcome to Tic-Tac-Toe!\")\n",
    "    print(\"You are X, AI is O.\")\n",
    "    print_board(board)\n",
    "\n",
    "    while True:\n",
    "        # User move\n",
    "        while True:\n",
    "            try:\n",
    "                user_move = int(input(\"Enter your move (1-9): \")) - 1\n",
    "                if 0 <= user_move <= 8 and board[user_move] == ' ':\n",
    "                    board[user_move] = 'X'\n",
    "                    break\n",
    "                else:\n",
    "                    print(\"Spot taken or invalid. Try again.\")\n",
    "            except (ValueError, IndexError):\n",
    "                print(\"Invalid input. Enter a number from 1 to 9.\")\n",
    "\n",
    "        print_board(board)\n",
    "        if check_winner(board):\n",
    "            break\n",
    "\n",
    "        # AI move\n",
    "        print(\"AI is thinking...\")\n",
    "        move = ai_move(board)\n",
    "        board[move] = 'O'\n",
    "        print_board(board)\n",
    "\n",
    "        if check_winner(board):\n",
    "            break\n",
    "\n",
    "    result = check_winner(board)\n",
    "    if result == 'Draw':\n",
    "        print(\"It's a draw!\")\n",
    "    else:\n",
    "        print(f\"{result} wins!\")\n",
    "\n",
    "if __name__ == \"__main__\":\n",
    "    play_game()\n"
   ]
  },
  {
   "cell_type": "code",
   "execution_count": 6,
   "id": "c7309fb3-9efe-4fc8-8378-545287ba7ebd",
   "metadata": {},
   "outputs": [
    {
     "data": {
      "text/plain": [
       "'3. AI-Based Tic-Tac-Toe\\n ● Restriction: Only use the minimax algorithm for AI decision-making.\\n ● Reason: The minimax algorithm is a classic AI strategy used in games to determine\\n optimal moves. This restriction forces students to implement and understand the core\\n logic of decision-making algorithms, ensuring the AI plays optimally and is not\\n random or rudimentary. This will deepen their understanding of decision trees, recursion,\\n and game theory.\\n ● Learning Outcome: Students will learn how to create intelligent agents in games,\\n gaining insight into search algorithms, recursion, and game strategy optimization.'"
      ]
     },
     "execution_count": 6,
     "metadata": {},
     "output_type": "execute_result"
    }
   ],
   "source": [
    "'''3. AI-Based Tic-Tac-Toe\n",
    " ● Restriction: Only use the minimax algorithm for AI decision-making.\n",
    " ● Reason: The minimax algorithm is a classic AI strategy used in games to determine\n",
    " optimal moves. This restriction forces students to implement and understand the core\n",
    " logic of decision-making algorithms, ensuring the AI plays optimally and is not\n",
    " random or rudimentary. This will deepen their understanding of decision trees, recursion,\n",
    " and game theory.\n",
    " ● Learning Outcome: Students will learn how to create intelligent agents in games,\n",
    " gaining insight into search algorithms, recursion, and game strategy optimization.'''"
   ]
  },
  {
   "cell_type": "code",
   "execution_count": 7,
   "id": "f5b10982-b7c0-47e8-9f9f-6866ffc7926d",
   "metadata": {},
   "outputs": [
    {
     "name": "stdout",
     "output_type": "stream",
     "text": [
      "Welcome to Tic-Tac-Toe!\n",
      "You are X. AI is O. Try to beat the AI (you can't!)\n",
      "\n",
      "   |   |   \n",
      "   |   |   \n",
      "---+---+---\n",
      "   |   |   \n",
      "   |   |   \n",
      "---+---+---\n",
      "   |   |   \n",
      "   |   |   \n",
      "\n"
     ]
    },
    {
     "name": "stdin",
     "output_type": "stream",
     "text": [
      "Enter your move (1-9):  5\n"
     ]
    },
    {
     "name": "stdout",
     "output_type": "stream",
     "text": [
      "\n",
      "   |   |   \n",
      "   |   |   \n",
      "---+---+---\n",
      "   |   |   \n",
      "   | X |   \n",
      "---+---+---\n",
      "   |   |   \n",
      "   |   |   \n",
      "\n",
      "AI is thinking...\n",
      "\n",
      "   |   |   \n",
      " O |   |   \n",
      "---+---+---\n",
      "   |   |   \n",
      "   | X |   \n",
      "---+---+---\n",
      "   |   |   \n",
      "   |   |   \n",
      "\n"
     ]
    },
    {
     "name": "stdin",
     "output_type": "stream",
     "text": [
      "Enter your move (1-9):  3\n"
     ]
    },
    {
     "name": "stdout",
     "output_type": "stream",
     "text": [
      "\n",
      "   |   |   \n",
      " O |   | X \n",
      "---+---+---\n",
      "   |   |   \n",
      "   | X |   \n",
      "---+---+---\n",
      "   |   |   \n",
      "   |   |   \n",
      "\n",
      "AI is thinking...\n",
      "\n",
      "   |   |   \n",
      " O |   | X \n",
      "---+---+---\n",
      "   |   |   \n",
      "   | X |   \n",
      "---+---+---\n",
      "   |   |   \n",
      " O |   |   \n",
      "\n"
     ]
    },
    {
     "name": "stdin",
     "output_type": "stream",
     "text": [
      "Enter your move (1-9):  5\n"
     ]
    },
    {
     "name": "stdout",
     "output_type": "stream",
     "text": [
      "Invalid or taken spot. Try again.\n"
     ]
    },
    {
     "name": "stdin",
     "output_type": "stream",
     "text": [
      "Enter your move (1-9):  6\n"
     ]
    },
    {
     "name": "stdout",
     "output_type": "stream",
     "text": [
      "\n",
      "   |   |   \n",
      " O |   | X \n",
      "---+---+---\n",
      "   |   |   \n",
      "   | X | X \n",
      "---+---+---\n",
      "   |   |   \n",
      " O |   |   \n",
      "\n",
      "AI is thinking...\n",
      "\n",
      "   |   |   \n",
      " O |   | X \n",
      "---+---+---\n",
      "   |   |   \n",
      " O | X | X \n",
      "---+---+---\n",
      "   |   |   \n",
      " O |   |   \n",
      "\n",
      "O wins!\n"
     ]
    }
   ],
   "source": [
    "import math\n",
    "\n",
    "# Print the board in a 3x3 grid format\n",
    "def print_board(board):\n",
    "    print()\n",
    "    for i in range(3):\n",
    "        print(\"   |   |   \")\n",
    "        print(f\" {board[3*i]} | {board[3*i+1]} | {board[3*i+2]} \")\n",
    "        if i < 2:\n",
    "            print(\"---+---+---\")\n",
    "    print()\n",
    "\n",
    "# Check for a winner or draw\n",
    "def check_winner(board):\n",
    "    win_combinations = [\n",
    "        [0, 1, 2], [3, 4, 5], [6, 7, 8],  # rows\n",
    "        [0, 3, 6], [1, 4, 7], [2, 5, 8],  # columns\n",
    "        [0, 4, 8], [2, 4, 6]              # diagonals\n",
    "    ]\n",
    "    for combo in win_combinations:\n",
    "        a, b, c = combo\n",
    "        if board[a] == board[b] == board[c] != ' ':\n",
    "            return board[a]\n",
    "    if ' ' not in board:\n",
    "        return 'Draw'\n",
    "    return None\n",
    "\n",
    "# Minimax algorithm\n",
    "def minimax(board, is_maximizing):\n",
    "    winner = check_winner(board)\n",
    "    if winner == 'O':\n",
    "        return 1\n",
    "    elif winner == 'X':\n",
    "        return -1\n",
    "    elif winner == 'Draw':\n",
    "        return 0\n",
    "\n",
    "    if is_maximizing:\n",
    "        best_score = -math.inf\n",
    "        for i in range(9):\n",
    "            if board[i] == ' ':\n",
    "                board[i] = 'O'\n",
    "                score = minimax(board, False)\n",
    "                board[i] = ' '\n",
    "                best_score = max(best_score, score)\n",
    "        return best_score\n",
    "    else:\n",
    "        best_score = math.inf\n",
    "        for i in range(9):\n",
    "            if board[i] == ' ':\n",
    "                board[i] = 'X'\n",
    "                score = minimax(board, True)\n",
    "                board[i] = ' '\n",
    "                best_score = min(best_score, score)\n",
    "        return best_score\n",
    "\n",
    "# AI picks the best move\n",
    "def ai_move(board):\n",
    "    best_score = -math.inf\n",
    "    move = None\n",
    "    for i in range(9):\n",
    "        if board[i] == ' ':\n",
    "            board[i] = 'O'\n",
    "            score = minimax(board, False)\n",
    "            board[i] = ' '\n",
    "            if score > best_score:\n",
    "                best_score = score\n",
    "                move = i\n",
    "    return move\n",
    "\n",
    "# Main game loop\n",
    "def play_game():\n",
    "    board = [' '] * 9\n",
    "    print(\"Welcome to Tic-Tac-Toe!\")\n",
    "    print(\"You are X. AI is O. Try to beat the AI (you can't!)\")\n",
    "    print_board(board)\n",
    "\n",
    "    while True:\n",
    "        # Player move\n",
    "        while True:\n",
    "            try:\n",
    "                user_move = int(input(\"Enter your move (1-9): \")) - 1\n",
    "                if 0 <= user_move <= 8 and board[user_move] == ' ':\n",
    "                    board[user_move] = 'X'\n",
    "                    break\n",
    "                else:\n",
    "                    print(\"Invalid or taken spot. Try again.\")\n",
    "            except:\n",
    "                print(\"Please enter a number between 1 and 9.\")\n",
    "\n",
    "        print_board(board)\n",
    "        if check_winner(board):\n",
    "            break\n",
    "\n",
    "        # AI move\n",
    "        print(\"AI is thinking...\")\n",
    "        move = ai_move(board)\n",
    "        board[move] = 'O'\n",
    "        print_board(board)\n",
    "        if check_winner(board):\n",
    "            break\n",
    "\n",
    "    # Final result\n",
    "    result = check_winner(board)\n",
    "    if result == 'Draw':\n",
    "        print(\"It's a draw!\")\n",
    "    else:\n",
    "        print(f\"{result} wins!\")\n",
    "\n",
    "# Run the game\n",
    "if __name__ == \"__main__\":\n",
    "    play_game()\n"
   ]
  },
  {
   "cell_type": "code",
   "execution_count": null,
   "id": "6fd77f00-23a8-4fbe-94b9-1f066d1d3b02",
   "metadata": {},
   "outputs": [],
   "source": []
  }
 ],
 "metadata": {
  "kernelspec": {
   "display_name": "Python 3 (ipykernel)",
   "language": "python",
   "name": "python3"
  },
  "language_info": {
   "codemirror_mode": {
    "name": "ipython",
    "version": 3
   },
   "file_extension": ".py",
   "mimetype": "text/x-python",
   "name": "python",
   "nbconvert_exporter": "python",
   "pygments_lexer": "ipython3",
   "version": "3.12.3"
  }
 },
 "nbformat": 4,
 "nbformat_minor": 5
}
