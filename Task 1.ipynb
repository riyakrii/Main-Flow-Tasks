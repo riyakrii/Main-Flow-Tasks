{
 "cells": [
  {
   "cell_type": "code",
   "execution_count": 1,
   "id": "eee7c423-d999-4171-bd47-eb6e3a3e34a3",
   "metadata": {},
   "outputs": [],
   "source": [
    "#Task-1"
   ]
  },
  {
   "cell_type": "code",
   "execution_count": 2,
   "id": "0fa95d67-7f1e-4369-b4e1-239ef406f9a2",
   "metadata": {},
   "outputs": [
    {
     "data": {
      "text/plain": [
       "'1. The sum of Two Numbers\\nObjective: Write a program to calculate the sum of two numbers.\\nInput: Two integers.\\nOutput: Single integer, their sum.\\nHint: Use the simple addition (+) operator.'"
      ]
     },
     "execution_count": 2,
     "metadata": {},
     "output_type": "execute_result"
    }
   ],
   "source": [
    "'''1. The sum of Two Numbers\n",
    "Objective: Write a program to calculate the sum of two numbers.\n",
    "Input: Two integers.\n",
    "Output: Single integer, their sum.\n",
    "Hint: Use the simple addition (+) operator.'''"
   ]
  },
  {
   "cell_type": "code",
   "execution_count": 3,
   "id": "88627373-babf-4e6f-9da5-789807e09db5",
   "metadata": {},
   "outputs": [
    {
     "name": "stdin",
     "output_type": "stream",
     "text": [
      "Enter first number:  64\n",
      "Enter second number:  214\n"
     ]
    },
    {
     "name": "stdout",
     "output_type": "stream",
     "text": [
      "Sum: 278\n"
     ]
    }
   ],
   "source": [
    "# Solution\n",
    "a = int(input(\"Enter first number: \"))\n",
    "b = int(input(\"Enter second number: \"))\n",
    "print(\"Sum:\", a + b)"
   ]
  },
  {
   "cell_type": "code",
   "execution_count": 5,
   "id": "dd71ac6f-5e1f-40e8-8fd0-dd1bb838cc0a",
   "metadata": {},
   "outputs": [
    {
     "data": {
      "text/plain": [
       "'2. Odd or Even\\nObjective: Determine whether a number is odd or even.\\nInput: A single integer.\\nOutput: \"Odd\" or \"Even\".\\nHint: Check the remainder when divided by 2 (number % 2 == 0 for even).'"
      ]
     },
     "execution_count": 5,
     "metadata": {},
     "output_type": "execute_result"
    }
   ],
   "source": [
    "'''2. Odd or Even\n",
    "Objective: Determine whether a number is odd or even.\n",
    "Input: A single integer.\n",
    "Output: \"Odd\" or \"Even\".\n",
    "Hint: Check the remainder when divided by 2 (number % 2 == 0 for even).'''"
   ]
  },
  {
   "cell_type": "code",
   "execution_count": 6,
   "id": "0efd932a-38d5-434c-8e56-0bed2638a626",
   "metadata": {},
   "outputs": [
    {
     "name": "stdin",
     "output_type": "stream",
     "text": [
      "Enter a number:  5465\n"
     ]
    },
    {
     "name": "stdout",
     "output_type": "stream",
     "text": [
      "Odd\n"
     ]
    }
   ],
   "source": [
    "# Solution\n",
    "number = int(input(\"Enter a number: \"))\n",
    "if number % 2 == 0:\n",
    "    print(\"Even\")\n",
    "else:\n",
    "    print(\"Odd\")"
   ]
  },
  {
   "cell_type": "code",
   "execution_count": 7,
   "id": "5095879e-de70-4ed1-92db-dea69dab3a2e",
   "metadata": {},
   "outputs": [
    {
     "data": {
      "text/plain": [
       "'3. Factorial Calculation\\nObjective: Compute the factorial of a given number nnn (i.e., n!=n×(n−1)×⋯×1n! = n\\\\times (n-1) \\\\times \\\\dots \\\\times 1n!=n×(n−1)×⋯×1).\\nInput: A single integer nnn.\\nOutput: Integer value of n!n!n!.\\nHint: Use a loop or math.factorial library.'"
      ]
     },
     "execution_count": 7,
     "metadata": {},
     "output_type": "execute_result"
    }
   ],
   "source": [
    "'''3. Factorial Calculation\n",
    "Objective: Compute the factorial of a given number nnn (i.e., n!=n×(n−1)×⋯×1n! = n\\\\times (n-1) \\\\times \\\\dots \\\\times 1n!=n×(n−1)×⋯×1).\n",
    "Input: A single integer nnn.\n",
    "Output: Integer value of n!n!n!.\n",
    "Hint: Use a loop or math.factorial library.'''"
   ]
  },
  {
   "cell_type": "code",
   "execution_count": 9,
   "id": "405be3be-4a2b-4de3-846d-2d47af0f48ea",
   "metadata": {},
   "outputs": [
    {
     "name": "stdin",
     "output_type": "stream",
     "text": [
      "Enter a number:  24\n"
     ]
    },
    {
     "name": "stdout",
     "output_type": "stream",
     "text": [
      "Factorial: 620448401733239439360000\n"
     ]
    }
   ],
   "source": [
    "# Solution\n",
    "n = int(input(\"Enter a number: \"))\n",
    "factorial = 1\n",
    "for i in range(1, n + 1):\n",
    "    factorial *= i\n",
    "print(\"Factorial:\", factorial)"
   ]
  },
  {
   "cell_type": "code",
   "execution_count": 10,
   "id": "bd742f90-9ba6-4915-97dc-0dd466908b0c",
   "metadata": {},
   "outputs": [
    {
     "data": {
      "text/plain": [
       "'4. Fibonacci Sequence\\nObjective: Generate the first nnn numbers in the Fibonacci sequence (e.g., 0, 1, 1, 2, 3,  5, ...). \\nInput: Integer nnn.\\nOutput: List of nnn Fibonacci numbers.\\nHint: Use a loop where F(n)=F(n−1)+F(n−2)F(n) = F(n-1) + F(n-2)F(n)=F(n−1)+F(n−2).'"
      ]
     },
     "execution_count": 10,
     "metadata": {},
     "output_type": "execute_result"
    }
   ],
   "source": [
    "'''4. Fibonacci Sequence\n",
    "Objective: Generate the first nnn numbers in the Fibonacci sequence (e.g., 0, 1, 1, 2, 3,  5, ...). \n",
    "Input: Integer nnn.\n",
    "Output: List of nnn Fibonacci numbers.\n",
    "Hint: Use a loop where F(n)=F(n−1)+F(n−2)F(n) = F(n-1) + F(n-2)F(n)=F(n−1)+F(n−2).'''"
   ]
  },
  {
   "cell_type": "code",
   "execution_count": 11,
   "id": "025b261f-f183-4668-ab51-6b3612b600d3",
   "metadata": {},
   "outputs": [
    {
     "name": "stdin",
     "output_type": "stream",
     "text": [
      "Enter number of Fibonacci terms:  9\n"
     ]
    },
    {
     "name": "stdout",
     "output_type": "stream",
     "text": [
      "Fibonacci sequence: [0, 1, 1, 2, 3, 5, 8, 13, 21]\n"
     ]
    }
   ],
   "source": [
    "# Solution\n",
    "n = int(input(\"Enter number of Fibonacci terms: \"))\n",
    "fib_sequence = []\n",
    "a, b = 0, 1\n",
    "for _ in range(n):\n",
    "    fib_sequence.append(a)\n",
    "    a, b = b, a + b\n",
    "print(\"Fibonacci sequence:\", fib_sequence)"
   ]
  },
  {
   "cell_type": "code",
   "execution_count": 12,
   "id": "6f29bc75-5ba1-4ece-b179-9e5fd96a7025",
   "metadata": {},
   "outputs": [
    {
     "data": {
      "text/plain": [
       "'5. Reverse a String\\nObjective: Reverse the characters in a string.\\nInput: A string.\\nOutput: The reversed string.\\nHint: Use slicing ([::-1]) or loop through characters.'"
      ]
     },
     "execution_count": 12,
     "metadata": {},
     "output_type": "execute_result"
    }
   ],
   "source": [
    "'''5. Reverse a String\n",
    "Objective: Reverse the characters in a string.\n",
    "Input: A string.\n",
    "Output: The reversed string.\n",
    "Hint: Use slicing ([::-1]) or loop through characters.'''"
   ]
  },
  {
   "cell_type": "code",
   "execution_count": 13,
   "id": "a8d92c5d-e5d5-495e-a696-7d3361eff0f3",
   "metadata": {},
   "outputs": [
    {
     "name": "stdin",
     "output_type": "stream",
     "text": [
      "Enter a string:  2451\n"
     ]
    },
    {
     "name": "stdout",
     "output_type": "stream",
     "text": [
      "Reversed string: 1542\n"
     ]
    }
   ],
   "source": [
    "# Solution\n",
    "text = input(\"Enter a string: \")\n",
    "print(\"Reversed string:\", text[::-1])"
   ]
  },
  {
   "cell_type": "code",
   "execution_count": 14,
   "id": "35c83324-156e-4f3b-b612-5c1199a51ffe",
   "metadata": {},
   "outputs": [
    {
     "data": {
      "text/plain": [
       "'6. Palindrome Check\\nObjective: Check if a string reads the same backward as forward.\\nInput: A string.\\nOutput: True or False.\\nHint: Compare the string with its reversed version.'"
      ]
     },
     "execution_count": 14,
     "metadata": {},
     "output_type": "execute_result"
    }
   ],
   "source": [
    "'''6. Palindrome Check\n",
    "Objective: Check if a string reads the same backward as forward.\n",
    "Input: A string.\n",
    "Output: True or False.\n",
    "Hint: Compare the string with its reversed version.'''"
   ]
  },
  {
   "cell_type": "code",
   "execution_count": 15,
   "id": "51922623-304b-4dfa-99e5-79456c06f335",
   "metadata": {},
   "outputs": [
    {
     "name": "stdin",
     "output_type": "stream",
     "text": [
      "Enter a string:  6841\n"
     ]
    },
    {
     "name": "stdout",
     "output_type": "stream",
     "text": [
      "Is palindrome: False\n"
     ]
    }
   ],
   "source": [
    "# Solution\n",
    "text = input(\"Enter a string: \")\n",
    "is_palindrome = text == text[::-1]\n",
    "print(\"Is palindrome:\", is_palindrome)"
   ]
  },
  {
   "cell_type": "code",
   "execution_count": 16,
   "id": "1b7ecaed-dd10-46eb-b1ed-7b6e970e63ed",
   "metadata": {},
   "outputs": [
    {
     "data": {
      "text/plain": [
       "'7. Leap Year Check\\nObjective: Determine whether a year is a leap year.\\nInput: An integer year (e.g., 2024).\\nOutput: True if leap year, otherwise False.\\nHint: A year is a leap year if divisible by 4 but not by 100 unless divisible by 400.'"
      ]
     },
     "execution_count": 16,
     "metadata": {},
     "output_type": "execute_result"
    }
   ],
   "source": [
    "'''7. Leap Year Check\n",
    "Objective: Determine whether a year is a leap year.\n",
    "Input: An integer year (e.g., 2024).\n",
    "Output: True if leap year, otherwise False.\n",
    "Hint: A year is a leap year if divisible by 4 but not by 100 unless divisible by 400.'''"
   ]
  },
  {
   "cell_type": "code",
   "execution_count": 17,
   "id": "9506a978-351e-4bca-913a-708fbd107c34",
   "metadata": {},
   "outputs": [
    {
     "name": "stdin",
     "output_type": "stream",
     "text": [
      "Enter a year:  2036\n"
     ]
    },
    {
     "name": "stdout",
     "output_type": "stream",
     "text": [
      "Is leap year: True\n"
     ]
    }
   ],
   "source": [
    "# Solution\n",
    "year = int(input(\"Enter a year: \"))\n",
    "is_leap = (year % 4 == 0 and year % 100 != 0) or (year % 400 == 0)\n",
    "print(\"Is leap year:\", is_leap)"
   ]
  },
  {
   "cell_type": "code",
   "execution_count": 18,
   "id": "b5ec5c40-e767-4cf8-9a24-540e77c749c8",
   "metadata": {},
   "outputs": [
    {
     "data": {
      "text/plain": [
       "'8. Armstrong Number\\nObjective: Check if a number equals the sum of its digits raised to the power of the\\nnumber of digits.\\nInput: An integer nnn.\\nOutput: True or False.\\nExample: 153 is an Armstrong number because 13+53+33=1531^3 + 5^3 + 3^3 = 15313+53+33=153.\\nHint: Convert to a string to calculate the length and power.'"
      ]
     },
     "execution_count": 18,
     "metadata": {},
     "output_type": "execute_result"
    }
   ],
   "source": [
    "'''8. Armstrong Number\n",
    "Objective: Check if a number equals the sum of its digits raised to the power of the\n",
    "number of digits.\n",
    "Input: An integer nnn.\n",
    "Output: True or False.\n",
    "Example: 153 is an Armstrong number because 13+53+33=1531^3 + 5^3 + 3^3 = 15313+53+33=153.\n",
    "Hint: Convert to a string to calculate the length and power.'''"
   ]
  },
  {
   "cell_type": "code",
   "execution_count": 19,
   "id": "96a4314e-320d-42bd-8cd8-292e69879a96",
   "metadata": {},
   "outputs": [
    {
     "name": "stdin",
     "output_type": "stream",
     "text": [
      "Enter a number:  545\n"
     ]
    },
    {
     "name": "stdout",
     "output_type": "stream",
     "text": [
      "Is Armstrong number: False\n"
     ]
    }
   ],
   "source": [
    "# Solution\n",
    "num = int(input(\"Enter a number: \"))\n",
    "digits = str(num)\n",
    "power = len(digits)\n",
    "sum_of_powers = sum(int(digit) ** power for digit in digits)\n",
    "is_armstrong = num == sum_of_powers\n",
    "print(\"Is Armstrong number:\", is_armstrong)"
   ]
  },
  {
   "cell_type": "code",
   "execution_count": null,
   "id": "e7592823-f820-4941-9bff-63f9475235be",
   "metadata": {},
   "outputs": [],
   "source": []
  }
 ],
 "metadata": {
  "kernelspec": {
   "display_name": "Python 3 (ipykernel)",
   "language": "python",
   "name": "python3"
  },
  "language_info": {
   "codemirror_mode": {
    "name": "ipython",
    "version": 3
   },
   "file_extension": ".py",
   "mimetype": "text/x-python",
   "name": "python",
   "nbconvert_exporter": "python",
   "pygments_lexer": "ipython3",
   "version": "3.12.3"
  }
 },
 "nbformat": 4,
 "nbformat_minor": 5
}
