{
 "cells": [
  {
   "cell_type": "code",
   "execution_count": 1,
   "id": "8bcdb88b-c718-49d7-9177-0b4cfc3218bd",
   "metadata": {},
   "outputs": [],
   "source": [
    "#Task-8"
   ]
  },
  {
   "cell_type": "code",
   "execution_count": 2,
   "id": "ad2fe378-4e0a-4af8-874a-25a1ad106f6b",
   "metadata": {},
   "outputs": [
    {
     "data": {
      "text/plain": [
       "' 55. Serialize and Deserialize Binary Tree\\n Objective: Design an algorithm to serialize and deserialize a binary tree.\\n Input: A binary tree root.\\n Output: A serialized string for storing the tree and a deserialized tree from the string.\\n Hint: Use pre-order traversal for serialization and recursion for deserialization.'"
      ]
     },
     "execution_count": 2,
     "metadata": {},
     "output_type": "execute_result"
    }
   ],
   "source": [
    "''' 55. Serialize and Deserialize Binary Tree\n",
    " Objective: Design an algorithm to serialize and deserialize a binary tree.\n",
    " Input: A binary tree root.\n",
    " Output: A serialized string for storing the tree and a deserialized tree from the string.\n",
    " Hint: Use pre-order traversal for serialization and recursion for deserialization.'''"
   ]
  },
  {
   "cell_type": "code",
   "execution_count": 3,
   "id": "f00023f5-1d5a-4b72-ab3d-1e043a4032bc",
   "metadata": {},
   "outputs": [],
   "source": [
    "class TreeNode:\n",
    "    def __init__(self, val=0, left=None, right=None):\n",
    "        self.val = val\n",
    "        self.left = left\n",
    "        self.right = right\n",
    "\n",
    "class Codec:\n",
    "    def serialize(self, root):\n",
    "        def helper(node):\n",
    "            if not node:\n",
    "                vals.append('None')\n",
    "                return\n",
    "            vals.append(str(node.val))\n",
    "            helper(node.left)\n",
    "            helper(node.right)\n",
    "        vals = []\n",
    "        helper(root)\n",
    "        return ','.join(vals)\n",
    "\n",
    "    def deserialize(self, data):\n",
    "        def helper():\n",
    "            val = next(vals)\n",
    "            if val == 'None':\n",
    "                return None\n",
    "            node = TreeNode(int(val))\n",
    "            node.left = helper()\n",
    "            node.right = helper()\n",
    "            return node\n",
    "        vals = iter(data.split(','))\n",
    "        return helper()\n"
   ]
  },
  {
   "cell_type": "code",
   "execution_count": 4,
   "id": "76e13d3d-598a-483f-a7b7-04096cdd98e4",
   "metadata": {},
   "outputs": [
    {
     "data": {
      "text/plain": [
       "'56. Maximum Flow in a Graph (Ford-Fulkerson)\\nObjective: Find the maximum flow in a flow network.\\nInput: A graph represented as an adjacency matrix and a source and sink node.\\nOutput: The maximum flow from source to sink.\\nHint: Use the Ford-Fulkerson algorithm with DFS or BFS to find augmenting paths.'"
      ]
     },
     "execution_count": 4,
     "metadata": {},
     "output_type": "execute_result"
    }
   ],
   "source": [
    " '''56. Maximum Flow in a Graph (Ford-Fulkerson)\n",
    " Objective: Find the maximum flow in a flow network.\n",
    " Input: A graph represented as an adjacency matrix and a source and sink node.\n",
    " Output: The maximum flow from source to sink.\n",
    " Hint: Use the Ford-Fulkerson algorithm with DFS or BFS to find augmenting paths.'''"
   ]
  },
  {
   "cell_type": "code",
   "execution_count": 5,
   "id": "d974cd22-7cba-4bbc-907b-9f7b3a984009",
   "metadata": {},
   "outputs": [],
   "source": [
    "from collections import deque\n",
    "\n",
    "def bfs(rGraph, s, t, parent):\n",
    "    visited = [False] * len(rGraph)\n",
    "    queue = deque([s])\n",
    "    visited[s] = True\n",
    "\n",
    "    while queue:\n",
    "        u = queue.popleft()\n",
    "        for v, cap in enumerate(rGraph[u]):\n",
    "            if not visited[v] and cap > 0:\n",
    "                queue.append(v)\n",
    "                parent[v] = u\n",
    "                visited[v] = True\n",
    "    return visited[t]\n",
    "\n",
    "def ford_fulkerson(graph, source, sink):\n",
    "    rGraph = [row[:] for row in graph]\n",
    "    parent = [-1] * len(graph)\n",
    "    max_flow = 0\n",
    "\n",
    "    while bfs(rGraph, source, sink, parent):\n",
    "        path_flow = float('inf')\n",
    "        v = sink\n",
    "        while v != source:\n",
    "            u = parent[v]\n",
    "            path_flow = min(path_flow, rGraph[u][v])\n",
    "            v = parent[v]\n",
    "\n",
    "        v = sink\n",
    "        while v != source:\n",
    "            u = parent[v]\n",
    "            rGraph[u][v] -= path_flow\n",
    "            rGraph[v][u] += path_flow\n",
    "            v = parent[v]\n",
    "\n",
    "        max_flow += path_flow\n",
    "\n",
    "    return max_flow\n"
   ]
  },
  {
   "cell_type": "code",
   "execution_count": 6,
   "id": "f31d3fca-49ac-49b6-9455-2c58959cec05",
   "metadata": {},
   "outputs": [
    {
     "data": {
      "text/plain": [
       "'57. Edit Distance (Levenshtein Distance)\\n Objective: Find the minimum number of operations (insertions, deletions, and\\n substitutions) required to convert one string into another.\\n Input: Two strings.\\n Output: The minimum edit distance.\\n Hint: Use dynamic programming to solve this problem.'"
      ]
     },
     "execution_count": 6,
     "metadata": {},
     "output_type": "execute_result"
    }
   ],
   "source": [
    "'''57. Edit Distance (Levenshtein Distance)\n",
    " Objective: Find the minimum number of operations (insertions, deletions, and\n",
    " substitutions) required to convert one string into another.\n",
    " Input: Two strings.\n",
    " Output: The minimum edit distance.\n",
    " Hint: Use dynamic programming to solve this problem.'''"
   ]
  },
  {
   "cell_type": "code",
   "execution_count": 7,
   "id": "45473ed4-96ae-4e85-8035-386ad7052527",
   "metadata": {},
   "outputs": [],
   "source": [
    "def edit_distance(s1, s2):\n",
    "    m, n = len(s1), len(s2)\n",
    "    dp = [[0]*(n+1) for _ in range(m+1)]\n",
    "\n",
    "    for i in range(m+1):\n",
    "        for j in range(n+1):\n",
    "            if i == 0:\n",
    "                dp[i][j] = j  # insert all\n",
    "            elif j == 0:\n",
    "                dp[i][j] = i  # delete all\n",
    "            elif s1[i-1] == s2[j-1]:\n",
    "                dp[i][j] = dp[i-1][j-1]\n",
    "            else:\n",
    "                dp[i][j] = 1 + min(\n",
    "                    dp[i-1][j],    # delete\n",
    "                    dp[i][j-1],    # insert\n",
    "                    dp[i-1][j-1]   # replace\n",
    "                )\n",
    "    return dp[m][n]\n"
   ]
  },
  {
   "cell_type": "code",
   "execution_count": 8,
   "id": "d46626e1-1fe7-4fe9-899d-47de024b3541",
   "metadata": {},
   "outputs": [
    {
     "data": {
      "text/plain": [
       "' 58. K-th Smallest Element in a BST\\n Objective: Find the K-th smallest element in a binary search tree (BST).\\n Input: A BST and an integer kkk.\\n Output: The K-th smallest element in the BST.\\n Hint: Perform an in-order traversal and return the K-th element.'"
      ]
     },
     "execution_count": 8,
     "metadata": {},
     "output_type": "execute_result"
    }
   ],
   "source": [
    "''' 58. K-th Smallest Element in a BST\n",
    " Objective: Find the K-th smallest element in a binary search tree (BST).\n",
    " Input: A BST and an integer kkk.\n",
    " Output: The K-th smallest element in the BST.\n",
    " Hint: Perform an in-order traversal and return the K-th element.'''"
   ]
  },
  {
   "cell_type": "code",
   "execution_count": 9,
   "id": "eed595f0-a1c4-4af5-8394-5552f21c08a8",
   "metadata": {},
   "outputs": [],
   "source": [
    "def kth_smallest(root, k):\n",
    "    stack = []\n",
    "    while True:\n",
    "        while root:\n",
    "            stack.append(root)\n",
    "            root = root.left\n",
    "        root = stack.pop()\n",
    "        k -= 1\n",
    "        if k == 0:\n",
    "            return root.val\n",
    "        root = root.right\n"
   ]
  },
  {
   "cell_type": "code",
   "execution_count": 10,
   "id": "645048cd-4c81-45d6-94d7-25854ae0e481",
   "metadata": {},
   "outputs": [
    {
     "data": {
      "text/plain": [
       "' 59. Maximum Subarray Product\\n Objective: Find the maximum product of a contiguous subarray in an array of integers.\\n Input: A list of integers.\\n Output: The maximum product of the subarray.\\n Hint: Use dynamic programming, considering both the maximum and minimum product\\n up to each element.'"
      ]
     },
     "execution_count": 10,
     "metadata": {},
     "output_type": "execute_result"
    }
   ],
   "source": [
    "''' 59. Maximum Subarray Product\n",
    " Objective: Find the maximum product of a contiguous subarray in an array of integers.\n",
    " Input: A list of integers.\n",
    " Output: The maximum product of the subarray.\n",
    " Hint: Use dynamic programming, considering both the maximum and minimum product\n",
    " up to each element.'''"
   ]
  },
  {
   "cell_type": "code",
   "execution_count": 11,
   "id": "595f98bd-71d0-4cd2-8c6d-06f1156b3477",
   "metadata": {},
   "outputs": [],
   "source": [
    "def max_product(nums):\n",
    "    if not nums:\n",
    "        return 0\n",
    "\n",
    "    max_prod = min_prod = result = nums[0]\n",
    "\n",
    "    for num in nums[1:]:\n",
    "        choices = (num, num * max_prod, num * min_prod)\n",
    "        max_prod = max(choices)\n",
    "        min_prod = min(choices)\n",
    "        result = max(result, max_prod)\n",
    "\n",
    "    return result\n"
   ]
  },
  {
   "cell_type": "code",
   "execution_count": 12,
   "id": "a36acf77-3f82-47e4-87a4-11f701d57a36",
   "metadata": {},
   "outputs": [
    {
     "data": {
      "text/plain": [
       "'60. Find All Paths in a Graph\\n Objective: Find all possible paths between two nodes in a directed graph.\\n Input: A directed graph and two nodes (start and end).\\n Output: A list of lists, where each list is a path from start to end.\\n Hint: Use depth-first search (DFS) and backtracking to find all paths.'"
      ]
     },
     "execution_count": 12,
     "metadata": {},
     "output_type": "execute_result"
    }
   ],
   "source": [
    "'''60. Find All Paths in a Graph\n",
    " Objective: Find all possible paths between two nodes in a directed graph.\n",
    " Input: A directed graph and two nodes (start and end).\n",
    " Output: A list of lists, where each list is a path from start to end.\n",
    " Hint: Use depth-first search (DFS) and backtracking to find all paths.'''"
   ]
  },
  {
   "cell_type": "code",
   "execution_count": 13,
   "id": "af38ef96-6bf7-4402-99bb-57380fa64bc9",
   "metadata": {},
   "outputs": [],
   "source": [
    "def find_all_paths(graph, start, end):\n",
    "    all_paths = []\n",
    "\n",
    "    def dfs(current, path):\n",
    "        path.append(current)\n",
    "\n",
    "        if current == end:\n",
    "            all_paths.append(path[:])  # make a copy of the path\n",
    "        else:\n",
    "            for neighbor in graph.get(current, []):\n",
    "                if neighbor not in path:  # avoid cycles\n",
    "                    dfs(neighbor, path)\n",
    "\n",
    "        path.pop()  # backtrack\n",
    "\n",
    "    dfs(start, [])\n",
    "    return all_paths\n"
   ]
  },
  {
   "cell_type": "code",
   "execution_count": 14,
   "id": "e257823a-4d41-4663-a233-de3f4afac904",
   "metadata": {},
   "outputs": [
    {
     "data": {
      "text/plain": [
       "' 8. Custom Data Serialization Tool\\n ● Description: Develop a tool to convert data between different formats (e.g., JSON,\\n XML, and custom-defined formats) without using libraries.\\n ● Challenges:\\n ○ Parseand generate structured data in different formats.\\n ○ Create a schema validator for consistency.\\n ○ Handle edge cases like nested structures or invalid data.\\n ● Skills: String parsing, recursion, and algorithm design.'"
      ]
     },
     "execution_count": 14,
     "metadata": {},
     "output_type": "execute_result"
    }
   ],
   "source": [
    "''' 8. Custom Data Serialization Tool\n",
    " ● Description: Develop a tool to convert data between different formats (e.g., JSON,\n",
    " XML, and custom-defined formats) without using libraries.\n",
    " ● Challenges:\n",
    " ○ Parseand generate structured data in different formats.\n",
    " ○ Create a schema validator for consistency.\n",
    " ○ Handle edge cases like nested structures or invalid data.\n",
    " ● Skills: String parsing, recursion, and algorithm design.'''"
   ]
  },
  {
   "cell_type": "code",
   "execution_count": 15,
   "id": "3a6fde80-a5b4-4d9e-9924-84467d1a5f45",
   "metadata": {},
   "outputs": [
    {
     "name": "stdout",
     "output_type": "stream",
     "text": [
      "Original JSON: {'name': 'Alice', 'age': '25'}\n",
      "\n",
      "JSON to XML:\n",
      " <name>Alice</name>\n",
      "<age>25</age>\n",
      "\n",
      "\n",
      "JSON to Custom:\n",
      " name=Alice;age=25;\n",
      "\n",
      "Custom to JSON:\n",
      " {'name': 'Alice', 'age': '25'}\n",
      "\n",
      "Schema Valid: True\n"
     ]
    }
   ],
   "source": [
    "# simple_converter.py\n",
    "\n",
    "# 1. JSON to XML (flat only)\n",
    "def json_to_xml(data):\n",
    "    xml = \"\"\n",
    "    for key in data:\n",
    "        xml += f\"<{key}>{data[key]}</{key}>\\n\"\n",
    "    return xml\n",
    "\n",
    "# 2. JSON to Custom Format\n",
    "def json_to_custom(data):\n",
    "    result = \"\"\n",
    "    for key in data:\n",
    "        result += f\"{key}={data[key]};\"\n",
    "    return result\n",
    "\n",
    "# 3. Custom Format to JSON\n",
    "def custom_to_json(data):\n",
    "    result = {}\n",
    "    items = data.strip(\";\").split(\";\")\n",
    "    for item in items:\n",
    "        if \"=\" in item:\n",
    "            key, value = item.split(\"=\")\n",
    "            result[key] = value\n",
    "    return result\n",
    "\n",
    "# 4. Schema Validation\n",
    "def validate_schema(data, schema):\n",
    "    for key in schema:\n",
    "        if key not in data:\n",
    "            return False\n",
    "    return True\n",
    "\n",
    "# 5. Main testing\n",
    "def main():\n",
    "    json_data = {\"name\": \"Alice\", \"age\": \"25\"}\n",
    "\n",
    "    schema = {\"name\": \"\", \"age\": \"\"}\n",
    "\n",
    "    print(\"Original JSON:\", json_data)\n",
    "\n",
    "    xml = json_to_xml(json_data)\n",
    "    print(\"\\nJSON to XML:\\n\", xml)\n",
    "\n",
    "    custom = json_to_custom(json_data)\n",
    "    print(\"\\nJSON to Custom:\\n\", custom)\n",
    "\n",
    "    back_to_json = custom_to_json(custom)\n",
    "    print(\"\\nCustom to JSON:\\n\", back_to_json)\n",
    "\n",
    "    is_valid = validate_schema(back_to_json, schema)\n",
    "    print(\"\\nSchema Valid:\", is_valid)\n",
    "\n",
    "if __name__ == \"__main__\":\n",
    "    main()\n"
   ]
  },
  {
   "cell_type": "code",
   "execution_count": 16,
   "id": "28c486ae-37e5-4d79-a389-ca6ff0a36d37",
   "metadata": {},
   "outputs": [
    {
     "data": {
      "text/plain": [
       "' 8. Custom Data Serialization Tool\\n ● Restriction: Only custom formats (no use of JSON, XML, or other predefined formats).\\n ● Reason:The objective here is for students to understand data serialization by creating\\n their own custom formats. Using JSON or XML would shortcut the process and miss the\\n key concepts of converting data structures into a serialized form. This project focuses on\\n understanding how data can be stored in simple text formats and how to design a parser\\n for custom formats.\\n ● Learning Outcome: Students will understand how to serialize data, build custom\\n parsers, and create efficient data storage methods, which is a crucial concept in data\\n transfer and file-based applications.'"
      ]
     },
     "execution_count": 16,
     "metadata": {},
     "output_type": "execute_result"
    }
   ],
   "source": [
    "''' 8. Custom Data Serialization Tool\n",
    " ● Restriction: Only custom formats (no use of JSON, XML, or other predefined formats).\n",
    " ● Reason:The objective here is for students to understand data serialization by creating\n",
    " their own custom formats. Using JSON or XML would shortcut the process and miss the\n",
    " key concepts of converting data structures into a serialized form. This project focuses on\n",
    " understanding how data can be stored in simple text formats and how to design a parser\n",
    " for custom formats.\n",
    " ● Learning Outcome: Students will understand how to serialize data, build custom\n",
    " parsers, and create efficient data storage methods, which is a crucial concept in data\n",
    " transfer and file-based applications.'''"
   ]
  },
  {
   "cell_type": "code",
   "execution_count": 17,
   "id": "0b7a60a2-60ba-4180-bb24-bb87300a5466",
   "metadata": {},
   "outputs": [
    {
     "name": "stdout",
     "output_type": "stream",
     "text": [
      "Original Dictionary:\n",
      "{'name': 'Alice', 'age': '25', 'address': {'city': 'Delhi', 'zip': '110001'}}\n",
      "\n",
      "Serialized Custom Format:\n",
      "name:Alice;age:25;address.city:Delhi;address.zip:110001;\n",
      "\n",
      "Deserialized Dictionary:\n",
      "{'name': 'Alice', 'age': '25', 'address': {'city': 'Delhi', 'zip': '110001'}}\n",
      "\n",
      "Schema Valid: True\n"
     ]
    }
   ],
   "source": [
    "# custom_serializer.py\n",
    "\n",
    "# Function to serialize nested dictionary to a custom string format\n",
    "def serialize(data, parent_key=\"\"):\n",
    "    result = \"\"\n",
    "    for key, value in data.items():\n",
    "        full_key = f\"{parent_key}.{key}\" if parent_key else key\n",
    "        if isinstance(value, dict):\n",
    "            result += serialize(value, full_key)\n",
    "        else:\n",
    "            result += f\"{full_key}:{value};\"\n",
    "    return result\n",
    "\n",
    "# Function to deserialize custom string format back to nested dictionary\n",
    "def deserialize(data):\n",
    "    result = {}\n",
    "    pairs = data.strip().split(\";\")\n",
    "    for pair in pairs:\n",
    "        if not pair:\n",
    "            continue\n",
    "        if \":\" not in pair:\n",
    "            print(f\"Skipping invalid pair: {pair}\")\n",
    "            continue\n",
    "        key, value = pair.split(\":\", 1)\n",
    "        keys = key.split(\".\")\n",
    "        current = result\n",
    "        for part in keys[:-1]:\n",
    "            if part not in current:\n",
    "                current[part] = {}\n",
    "            current = current[part]\n",
    "        current[keys[-1]] = value\n",
    "    return result\n",
    "\n",
    "# Function to validate if data matches a given schema\n",
    "def validate_schema(data, schema):\n",
    "    for key in schema:\n",
    "        if key not in data:\n",
    "            return False\n",
    "        if isinstance(schema[key], dict):\n",
    "            if not isinstance(data[key], dict):\n",
    "                return False\n",
    "            if not validate_schema(data[key], schema[key]):\n",
    "                return False\n",
    "    return True\n",
    "\n",
    "# Main function to test the tool\n",
    "def main():\n",
    "    # Sample nested data\n",
    "    data = {\n",
    "        \"name\": \"Alice\",\n",
    "        \"age\": \"25\",\n",
    "        \"address\": {\n",
    "            \"city\": \"Delhi\",\n",
    "            \"zip\": \"110001\"\n",
    "        }\n",
    "    }\n",
    "\n",
    "    # Expected schema for validation\n",
    "    schema = {\n",
    "        \"name\": \"\",\n",
    "        \"age\": \"\",\n",
    "        \"address\": {\n",
    "            \"city\": \"\",\n",
    "            \"zip\": \"\"\n",
    "        }\n",
    "    }\n",
    "\n",
    "    print(\"Original Dictionary:\")\n",
    "    print(data)\n",
    "\n",
    "    # Serialize to custom format\n",
    "    serialized = serialize(data)\n",
    "    print(\"\\nSerialized Custom Format:\")\n",
    "    print(serialized)\n",
    "\n",
    "    # Deserialize back to dictionary\n",
    "    deserialized = deserialize(serialized)\n",
    "    print(\"\\nDeserialized Dictionary:\")\n",
    "    print(deserialized)\n",
    "\n",
    "    # Validate schema\n",
    "    is_valid = validate_schema(deserialized, schema)\n",
    "    print(\"\\nSchema Valid:\", is_valid)\n",
    "\n",
    "if __name__ == \"__main__\":\n",
    "    main()\n"
   ]
  },
  {
   "cell_type": "code",
   "execution_count": null,
   "id": "6d96d44d-6bfc-4fbd-bf78-5476103b7be0",
   "metadata": {},
   "outputs": [],
   "source": []
  }
 ],
 "metadata": {
  "kernelspec": {
   "display_name": "Python 3 (ipykernel)",
   "language": "python",
   "name": "python3"
  },
  "language_info": {
   "codemirror_mode": {
    "name": "ipython",
    "version": 3
   },
   "file_extension": ".py",
   "mimetype": "text/x-python",
   "name": "python",
   "nbconvert_exporter": "python",
   "pygments_lexer": "ipython3",
   "version": "3.12.3"
  }
 },
 "nbformat": 4,
 "nbformat_minor": 5
}
