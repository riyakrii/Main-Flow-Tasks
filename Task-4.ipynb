{
 "cells": [
  {
   "cell_type": "code",
   "execution_count": 1,
   "id": "60b56e7c-0def-4108-bbd6-80e69fe5557f",
   "metadata": {},
   "outputs": [],
   "source": [
    "#Task-4"
   ]
  },
  {
   "cell_type": "code",
   "execution_count": 2,
   "id": "50284e94-c50b-4e0d-94a1-e1f8a69d7e57",
   "metadata": {},
   "outputs": [
    {
     "data": {
      "text/plain": [
       "' 25. Find Missing Number\\n Objective: Find the missing number in an array of size nnn, containing numbers 111 to\\n n+1n+1n+1.\\n Input: A list of integers.\\n Output: The missing integer.\\n Hint: Use the sum formula Sum(n)=n(n+1)2\\text{Sum}(n) =\\n \\x0crac{n(n+1)}{2}Sum(n)=2n(n+1) and subtract the sum of given numbers.'"
      ]
     },
     "execution_count": 2,
     "metadata": {},
     "output_type": "execute_result"
    }
   ],
   "source": [
    "''' 25. Find Missing Number\n",
    " Objective: Find the missing number in an array of size nnn, containing numbers 111 to\n",
    " n+1n+1n+1.\n",
    " Input: A list of integers.\n",
    " Output: The missing integer.\n",
    " Hint: Use the sum formula Sum(n)=n(n+1)2\\text{Sum}(n) =\n",
    " \\frac{n(n+1)}{2}Sum(n)=2n(n+1) and subtract the sum of given numbers.'''"
   ]
  },
  {
   "cell_type": "code",
   "execution_count": 3,
   "id": "7389b1a4-e00c-4df2-85ca-0a034b14b89c",
   "metadata": {},
   "outputs": [
    {
     "name": "stdin",
     "output_type": "stream",
     "text": [
      "Enter numbers separated by space (1 to n+1 with one missing):  1 2 3 4 5\n"
     ]
    },
    {
     "name": "stdout",
     "output_type": "stream",
     "text": [
      "Missing number: 6\n"
     ]
    }
   ],
   "source": [
    "# Solution\n",
    "nums = list(map(int, input(\"Enter numbers separated by space (1 to n+1 with one missing): \").split()))\n",
    "n = len(nums) + 1\n",
    "expected_sum = n * (n + 1) // 2\n",
    "actual_sum = sum(nums)\n",
    "print(\"Missing number:\", expected_sum - actual_sum)"
   ]
  },
  {
   "cell_type": "code",
   "execution_count": 4,
   "id": "55e9cf87-300f-428b-bdc8-0b1c95b9602e",
   "metadata": {},
   "outputs": [
    {
     "data": {
      "text/plain": [
       "' 26. Check Balanced Parentheses\\n Objective: Check if a string of parentheses ((), {}, []) is balanced.\\n Input: A string of parentheses.\\n Output: True if balanced, otherwise False.\\n Hint: Use a stack to match opening and closing parentheses.'"
      ]
     },
     "execution_count": 4,
     "metadata": {},
     "output_type": "execute_result"
    }
   ],
   "source": [
    "''' 26. Check Balanced Parentheses\n",
    " Objective: Check if a string of parentheses ((), {}, []) is balanced.\n",
    " Input: A string of parentheses.\n",
    " Output: True if balanced, otherwise False.\n",
    " Hint: Use a stack to match opening and closing parentheses.'''"
   ]
  },
  {
   "cell_type": "code",
   "execution_count": 5,
   "id": "64912853-0fdf-475d-93be-e03e456884aa",
   "metadata": {},
   "outputs": [
    {
     "name": "stdin",
     "output_type": "stream",
     "text": [
      "Enter a string of brackets:  Riya\n"
     ]
    },
    {
     "name": "stdout",
     "output_type": "stream",
     "text": [
      "True\n"
     ]
    }
   ],
   "source": [
    "# Solution\n",
    "s = input(\"Enter a string of brackets: \")\n",
    "stack = []\n",
    "pairs = {')': '(', '}': '{', ']': '['}\n",
    "\n",
    "for char in s:\n",
    "    if char in \"({[\":\n",
    "        stack.append(char)\n",
    "    elif char in \")}]\":\n",
    "        if not stack or stack[-1] != pairs[char]:\n",
    "            print(False)\n",
    "            break\n",
    "        stack.pop()\n",
    "else:\n",
    "    print(stack == [])"
   ]
  },
  {
   "cell_type": "code",
   "execution_count": 6,
   "id": "990c4e17-e88c-4ae3-a95a-9be59a1ea25d",
   "metadata": {},
   "outputs": [
    {
     "data": {
      "text/plain": [
       "'27. Longest Word in a Sentence\\nObjective: Find the longest word in a given sentence.\\nInput: A string (sentence).\\nOutput: The longest word.\\nHint: Split the string into words and compare lengths.'"
      ]
     },
     "execution_count": 6,
     "metadata": {},
     "output_type": "execute_result"
    }
   ],
   "source": [
    " '''27. Longest Word in a Sentence\n",
    " Objective: Find the longest word in a given sentence.\n",
    " Input: A string (sentence).\n",
    " Output: The longest word.\n",
    " Hint: Split the string into words and compare lengths.'''"
   ]
  },
  {
   "cell_type": "code",
   "execution_count": 7,
   "id": "fa240ae3-816d-4cb7-956d-a1b11e4f5eb6",
   "metadata": {},
   "outputs": [
    {
     "name": "stdin",
     "output_type": "stream",
     "text": [
      "Enter a sentence:  Hi, My name is Riya\n"
     ]
    },
    {
     "name": "stdout",
     "output_type": "stream",
     "text": [
      "Longest word: name\n"
     ]
    }
   ],
   "source": [
    "# Solution\n",
    "sentence = input(\"Enter a sentence: \")\n",
    "words = sentence.split()\n",
    "longest = max(words, key=len)\n",
    "print(\"Longest word:\", longest)"
   ]
  },
  {
   "cell_type": "code",
   "execution_count": 8,
   "id": "b645b200-6784-4cc5-a8fe-88d3cd27d82d",
   "metadata": {},
   "outputs": [
    {
     "data": {
      "text/plain": [
       "' 28. Count Words in a Sentence\\n Objective: Count the number of words in a sentence.\\n Input: A string (sentence).\\n Output: Integer representing the word count.\\n Hint: Use the split() method to divide the string by spaces and count elements.'"
      ]
     },
     "execution_count": 8,
     "metadata": {},
     "output_type": "execute_result"
    }
   ],
   "source": [
    "''' 28. Count Words in a Sentence\n",
    " Objective: Count the number of words in a sentence.\n",
    " Input: A string (sentence).\n",
    " Output: Integer representing the word count.\n",
    " Hint: Use the split() method to divide the string by spaces and count elements.'''"
   ]
  },
  {
   "cell_type": "code",
   "execution_count": 9,
   "id": "54cf2711-0cbb-4626-b899-9aa3af7feee9",
   "metadata": {},
   "outputs": [
    {
     "name": "stdin",
     "output_type": "stream",
     "text": [
      "Enter a sentence:  Welcome to Python Programming\n"
     ]
    },
    {
     "name": "stdout",
     "output_type": "stream",
     "text": [
      "Word count: 4\n"
     ]
    }
   ],
   "source": [
    "# Solution\n",
    "sentence = input(\"Enter a sentence: \")\n",
    "words = sentence.split()\n",
    "print(\"Word count:\", len(words))"
   ]
  },
  {
   "cell_type": "code",
   "execution_count": 10,
   "id": "68a69ddb-a77d-4d0f-9f8b-a6bd915a3278",
   "metadata": {},
   "outputs": [
    {
     "data": {
      "text/plain": [
       "' 29. Check Pythagorean Triplet\\n Objective: Determine if three numbers form a Pythagorean triplet (e.g., a2+b2=c2a^2 +\\n b^2 = c^2a2+b2=c2).\\n Input: Three integers aaa, bbb, ccc.\\nOutput: True if they form a triplet, otherwise False.\\n Hint: Ensure ccc is the largest, then verify the equation.'"
      ]
     },
     "execution_count": 10,
     "metadata": {},
     "output_type": "execute_result"
    }
   ],
   "source": [
    "''' 29. Check Pythagorean Triplet\n",
    " Objective: Determine if three numbers form a Pythagorean triplet (e.g., a2+b2=c2a^2 +\n",
    " b^2 = c^2a2+b2=c2).\n",
    " Input: Three integers aaa, bbb, ccc.\n",
    "Output: True if they form a triplet, otherwise False.\n",
    " Hint: Ensure ccc is the largest, then verify the equation.'''"
   ]
  },
  {
   "cell_type": "code",
   "execution_count": 11,
   "id": "49f00eef-54f1-442b-822a-b894541a3f19",
   "metadata": {},
   "outputs": [
    {
     "name": "stdin",
     "output_type": "stream",
     "text": [
      "Enter first number:  58\n",
      "Enter second number:  12\n",
      "Enter third number:  36\n"
     ]
    },
    {
     "name": "stdout",
     "output_type": "stream",
     "text": [
      "Is Pythagorean triplet? False\n"
     ]
    }
   ],
   "source": [
    "# Solution\n",
    "a = int(input(\"Enter first number: \"))\n",
    "b = int(input(\"Enter second number: \"))\n",
    "c = int(input(\"Enter third number: \"))\n",
    "\n",
    "a, b, c = sorted([a, b, c])  # Ensure c is the largest\n",
    "print(\"Is Pythagorean triplet?\", a*a + b*b == c*c)"
   ]
  },
  {
   "cell_type": "code",
   "execution_count": 12,
   "id": "b8e2aa93-4cae-4a3c-b2d4-4c58d73d95bb",
   "metadata": {},
   "outputs": [
    {
     "data": {
      "text/plain": [
       "' 30. Bubble Sort\\n Objective: Implement the bubble sort algorithm to sort a list of integers.\\n Input: A list of integers.\\n Output: Sorted list in ascending order.\\n Hint: Repeatedly swap adjacent elements if they are in the wrong order.'"
      ]
     },
     "execution_count": 12,
     "metadata": {},
     "output_type": "execute_result"
    }
   ],
   "source": [
    "''' 30. Bubble Sort\n",
    " Objective: Implement the bubble sort algorithm to sort a list of integers.\n",
    " Input: A list of integers.\n",
    " Output: Sorted list in ascending order.\n",
    " Hint: Repeatedly swap adjacent elements if they are in the wrong order.'''"
   ]
  },
  {
   "cell_type": "code",
   "execution_count": 13,
   "id": "6c5d03a9-5806-44b2-9db1-479b5c1cac16",
   "metadata": {},
   "outputs": [
    {
     "name": "stdin",
     "output_type": "stream",
     "text": [
      "Enter numbers separated by space:  23 51 14 63 59\n"
     ]
    },
    {
     "name": "stdout",
     "output_type": "stream",
     "text": [
      "Sorted list: [14, 23, 51, 59, 63]\n"
     ]
    }
   ],
   "source": [
    "# Solution\n",
    "nums = list(map(int, input(\"Enter numbers separated by space: \").split()))\n",
    "n = len(nums)\n",
    "\n",
    "for i in range(n):\n",
    "    for j in range(0, n - i - 1):\n",
    "        if nums[j] > nums[j + 1]:\n",
    "            nums[j], nums[j + 1] = nums[j + 1], nums[j]\n",
    "\n",
    "print(\"Sorted list:\", nums)"
   ]
  },
  {
   "cell_type": "code",
   "execution_count": 14,
   "id": "47aab68f-f824-4775-aab8-11df4282a3f4",
   "metadata": {},
   "outputs": [
    {
     "data": {
      "text/plain": [
       "'31. Binary Search\\n Objective: Implement the binary search algorithm to find a target in a sorted array.\\n Input: A sorted list of integers and a target integer.\\n Output: The index of the target or-1 if not found.\\n Hint: Use a divide-and-conquer approach by checking the middle element.'"
      ]
     },
     "execution_count": 14,
     "metadata": {},
     "output_type": "execute_result"
    }
   ],
   "source": [
    "'''31. Binary Search\n",
    " Objective: Implement the binary search algorithm to find a target in a sorted array.\n",
    " Input: A sorted list of integers and a target integer.\n",
    " Output: The index of the target or-1 if not found.\n",
    " Hint: Use a divide-and-conquer approach by checking the middle element.'''"
   ]
  },
  {
   "cell_type": "code",
   "execution_count": 15,
   "id": "215c9eff-8b42-456c-81a1-06b7e30bc804",
   "metadata": {},
   "outputs": [
    {
     "name": "stdin",
     "output_type": "stream",
     "text": [
      "Enter sorted numbers:  1 3 5 7 9\n",
      "Enter the target number:  5\n"
     ]
    },
    {
     "name": "stdout",
     "output_type": "stream",
     "text": [
      "Index of target: 2\n"
     ]
    }
   ],
   "source": [
    "# Solution\n",
    "nums = list(map(int, input(\"Enter sorted numbers: \").split()))\n",
    "target = int(input(\"Enter the target number: \"))\n",
    "\n",
    "low = 0\n",
    "high = len(nums) - 1\n",
    "found = -1\n",
    "\n",
    "while low <= high:\n",
    "    mid = (low + high) // 2\n",
    "    if nums[mid] == target:\n",
    "        found = mid\n",
    "        break\n",
    "    elif nums[mid] < target:\n",
    "        low = mid + 1\n",
    "    else:\n",
    "        high = mid - 1\n",
    "\n",
    "print(\"Index of target:\", found)"
   ]
  },
  {
   "cell_type": "code",
   "execution_count": 16,
   "id": "47533d90-fe39-40fe-94f6-55c79e88d67c",
   "metadata": {},
   "outputs": [
    {
     "data": {
      "text/plain": [
       "' 32. Find Subarray with Given Sum\\n Objective: Find a contiguous subarray whose sum equals a given value SSS.\\n Input: A list of integers and an integer SSS.\\n Output: The indices of the subarray or-1 if no such subarray exists.\\n Hint: Use the sliding window technique or prefix sums.'"
      ]
     },
     "execution_count": 16,
     "metadata": {},
     "output_type": "execute_result"
    }
   ],
   "source": [
    "''' 32. Find Subarray with Given Sum\n",
    " Objective: Find a contiguous subarray whose sum equals a given value SSS.\n",
    " Input: A list of integers and an integer SSS.\n",
    " Output: The indices of the subarray or-1 if no such subarray exists.\n",
    " Hint: Use the sliding window technique or prefix sums.'''"
   ]
  },
  {
   "cell_type": "code",
   "execution_count": 17,
   "id": "acc332bd-70e6-4693-bf2d-493baf7144fb",
   "metadata": {},
   "outputs": [
    {
     "name": "stdin",
     "output_type": "stream",
     "text": [
      "Enter numbers:  235 542 102\n",
      "Enter the target sum:  542\n"
     ]
    },
    {
     "name": "stdout",
     "output_type": "stream",
     "text": [
      "Subarray found from index 1 to 1\n"
     ]
    }
   ],
   "source": [
    "# Solution\n",
    "nums = list(map(int, input(\"Enter numbers: \").split()))\n",
    "target = int(input(\"Enter the target sum: \"))\n",
    "\n",
    "start = 0\n",
    "current_sum = 0\n",
    "found = False\n",
    "\n",
    "for end in range(len(nums)):\n",
    "    current_sum += nums[end]\n",
    "    while current_sum > target and start < end:\n",
    "        current_sum -= nums[start]\n",
    "        start += 1\n",
    "    if current_sum == target:\n",
    "        print(\"Subarray found from index\", start, \"to\", end)\n",
    "        found = True\n",
    "        break\n",
    "\n",
    "if not found:\n",
    "    print(-1)"
   ]
  },
  {
   "cell_type": "code",
   "execution_count": 18,
   "id": "4c02072e-fd97-40b8-a9b3-e97f00a1f921",
   "metadata": {},
   "outputs": [
    {
     "data": {
      "text/plain": [
       "' 4. Log Analysis System\\n ● Description: Write a program to parse large log files (e.g., web server logs) and extract\\n insights like the most frequent IP addresses, response codes, or URLs accessed.\\n ● Challenges:\\n ○ Efficiently process large text files.\\n ○ Handle various formats and error cases in logs.\\n ○ Summarize and display data meaningfully.\\n ● Skills: File I/O, data parsing, and data aggregation.'"
      ]
     },
     "execution_count": 18,
     "metadata": {},
     "output_type": "execute_result"
    }
   ],
   "source": [
    "''' 4. Log Analysis System\n",
    " ● Description: Write a program to parse large log files (e.g., web server logs) and extract\n",
    " insights like the most frequent IP addresses, response codes, or URLs accessed.\n",
    " ● Challenges:\n",
    " ○ Efficiently process large text files.\n",
    " ○ Handle various formats and error cases in logs.\n",
    " ○ Summarize and display data meaningfully.\n",
    " ● Skills: File I/O, data parsing, and data aggregation.'''"
   ]
  },
  {
   "cell_type": "code",
   "execution_count": 2,
   "id": "f710fd80-7de4-4888-9c57-b5a04e7671c6",
   "metadata": {},
   "outputs": [
    {
     "name": "stdout",
     "output_type": "stream",
     "text": [
      "✅ Sample log file created at: access.log\n",
      "\n",
      "📊 LOG ANALYSIS REPORT\n",
      "Total lines processed: 5\n",
      "Invalid/malformed lines skipped: 0\n",
      "\n",
      "🔝 Top 5 IP Addresses:\n",
      "  10.0.0.5 → 2 requests\n",
      "  127.0.0.1 → 1 requests\n",
      "  192.168.1.10 → 1 requests\n",
      "  8.8.8.8 → 1 requests\n",
      "\n",
      "🌐 Top 5 Requested URLs:\n",
      "  /products → 2 hits\n",
      "  /index.html → 1 hits\n",
      "  /login → 1 hits\n",
      "  /nonexistent → 1 hits\n",
      "\n",
      "🔁 HTTP Status Code Distribution:\n",
      "  200 → 3 times\n",
      "  401 → 1 times\n",
      "  404 → 1 times\n"
     ]
    }
   ],
   "source": [
    "import os\n",
    "import re\n",
    "from collections import Counter\n",
    "\n",
    "# === Constants ===\n",
    "MAX_FILE_SIZE_MB = 100\n",
    "MAX_FILE_SIZE_BYTES = MAX_FILE_SIZE_MB * 1024 * 1024\n",
    "\n",
    "# === Regex pattern for common web server logs (Apache/Nginx) ===\n",
    "LOG_PATTERN = re.compile(\n",
    "    r'(?P<ip>\\d{1,3}(?:\\.\\d{1,3}){3})\\s'              # IP address\n",
    "    r'\\S+\\s\\S+\\s'                                      # Skip identity and user ID\n",
    "    r'\\[(?P<timestamp>[^\\]]+)\\]\\s'                     # Timestamp\n",
    "    r'\"(?P<method>\\S+)\\s(?P<url>\\S+)\\s\\S+\"\\s'          # Request method and URL\n",
    "    r'(?P<status>\\d{3})\\s'                             # HTTP status code\n",
    "    r'(?P<size>\\d+|-)'                                 # Response size\n",
    ")\n",
    "\n",
    "# === Step 1: File Size Check ===\n",
    "def is_valid_file(filepath):\n",
    "    if not os.path.exists(filepath):\n",
    "        print(\"❌ Error: File does not exist.\")\n",
    "        return False\n",
    "    if os.path.getsize(filepath) > MAX_FILE_SIZE_BYTES:\n",
    "        print(\"❌ Error: File exceeds 100 MB limit.\")\n",
    "        return False\n",
    "    return True\n",
    "\n",
    "# === Step 2: Parse File and Extract Insights ===\n",
    "def analyze_log_file(filepath):\n",
    "    ip_counts = Counter()\n",
    "    url_counts = Counter()\n",
    "    status_counts = Counter()\n",
    "    total_lines = 0\n",
    "    invalid_lines = 0\n",
    "\n",
    "    with open(filepath, 'r', encoding='utf-8', errors='ignore') as file:\n",
    "        for line in file:\n",
    "            total_lines += 1\n",
    "            match = LOG_PATTERN.match(line)\n",
    "            if match:\n",
    "                data = match.groupdict()\n",
    "                ip_counts[data['ip']] += 1\n",
    "                url_counts[data['url']] += 1\n",
    "                status_counts[data['status']] += 1\n",
    "            else:\n",
    "                invalid_lines += 1\n",
    "\n",
    "    return ip_counts, url_counts, status_counts, total_lines, invalid_lines\n",
    "\n",
    "# === Step 3: Display Summary ===\n",
    "def display_summary(ip_counts, url_counts, status_counts, total_lines, invalid_lines):\n",
    "    print(\"\\n📊 LOG ANALYSIS REPORT\")\n",
    "    print(f\"Total lines processed: {total_lines}\")\n",
    "    print(f\"Invalid/malformed lines skipped: {invalid_lines}\\n\")\n",
    "\n",
    "    print(\"🔝 Top 5 IP Addresses:\")\n",
    "    for ip, count in ip_counts.most_common(5):\n",
    "        print(f\"  {ip} → {count} requests\")\n",
    "\n",
    "    print(\"\\n🌐 Top 5 Requested URLs:\")\n",
    "    for url, count in url_counts.most_common(5):\n",
    "        print(f\"  {url} → {count} hits\")\n",
    "\n",
    "    print(\"\\n🔁 HTTP Status Code Distribution:\")\n",
    "    for status, count in status_counts.items():\n",
    "        print(f\"  {status} → {count} times\")\n",
    "\n",
    "# === (Optional) Create a Sample Log File ===\n",
    "def create_sample_log(filepath):\n",
    "    sample_lines = [\n",
    "        '127.0.0.1 - - [12/Jul/2025:10:00:00 +0000] \"GET /index.html HTTP/1.1\" 200 1234\\n',\n",
    "        '192.168.1.10 - - [12/Jul/2025:10:01:00 +0000] \"POST /login HTTP/1.1\" 401 245\\n',\n",
    "        '10.0.0.5 - - [12/Jul/2025:10:02:00 +0000] \"GET /products HTTP/1.1\" 200 1560\\n',\n",
    "        '10.0.0.5 - - [12/Jul/2025:10:02:01 +0000] \"GET /products HTTP/1.1\" 200 1560\\n',\n",
    "        '8.8.8.8 - - [12/Jul/2025:10:03:00 +0000] \"GET /nonexistent HTTP/1.1\" 404 0\\n',\n",
    "    ]\n",
    "    with open(filepath, 'w') as f:\n",
    "        f.writelines(sample_lines)\n",
    "    print(f\"✅ Sample log file created at: {filepath}\")\n",
    "\n",
    "# === Main Function ===\n",
    "def main():\n",
    "    filepath = \"access.log\"\n",
    "\n",
    "    if not os.path.exists(filepath):\n",
    "        create_sample_log(filepath)\n",
    "\n",
    "    if is_valid_file(filepath):\n",
    "        ip_counts, url_counts, status_counts, total, invalid = analyze_log_file(filepath)\n",
    "        display_summary(ip_counts, url_counts, status_counts, total, invalid)\n",
    "\n",
    "if __name__ == \"__main__\":\n",
    "    main()\n"
   ]
  },
  {
   "cell_type": "code",
   "execution_count": 1,
   "id": "40546d3b-0caa-41df-9c7b-cc30ecf9e7e8",
   "metadata": {},
   "outputs": [
    {
     "data": {
      "text/plain": [
       "'4. Log Analysis System\\n ● Restriction: File size must be limited to 100 MB for log files.\\n ● Reason:Log analysis is important for many real-world applications, but dealing with\\n large datasets can become cumbersome. Limiting file size helps students focus on data\\n parsing and insight extraction, allowing them to develop efficient file handling techniques\\n without being overwhelmed. It also simulates real-world constraints like processing time\\n and memory limits.\\n ● Learning Outcome: Students will learn how to efficiently process large datasets, extract\\n meaningful insights, and handle file-based data using basic algorithms and data\\n structures like dictionaries and lists.'"
      ]
     },
     "execution_count": 1,
     "metadata": {},
     "output_type": "execute_result"
    }
   ],
   "source": [
    "'''4. Log Analysis System\n",
    " ● Restriction: File size must be limited to 100 MB for log files.\n",
    " ● Reason:Log analysis is important for many real-world applications, but dealing with\n",
    " large datasets can become cumbersome. Limiting file size helps students focus on data\n",
    " parsing and insight extraction, allowing them to develop efficient file handling techniques\n",
    " without being overwhelmed. It also simulates real-world constraints like processing time\n",
    " and memory limits.\n",
    " ● Learning Outcome: Students will learn how to efficiently process large datasets, extract\n",
    " meaningful insights, and handle file-based data using basic algorithms and data\n",
    " structures like dictionaries and lists.'''"
   ]
  },
  {
   "cell_type": "code",
   "execution_count": 2,
   "id": "1557701b-4f00-4a69-bf67-3bddf4105ca4",
   "metadata": {},
   "outputs": [
    {
     "name": "stdout",
     "output_type": "stream",
     "text": [
      "\n",
      "📊 LOG ANALYSIS SUMMARY\n",
      "Total lines processed: 5\n",
      "Invalid/malformed lines skipped: 0\n",
      "\n",
      "🔝 Top 5 IP Addresses:\n",
      "  10.0.0.5 → 2 times\n",
      "  127.0.0.1 → 1 times\n",
      "  192.168.1.10 → 1 times\n",
      "  8.8.8.8 → 1 times\n",
      "\n",
      "🌐 Top 5 URLs Accessed:\n",
      "  /products → 2 times\n",
      "  /index.html → 1 times\n",
      "  /login → 1 times\n",
      "  /nonexistent → 1 times\n",
      "\n",
      "🔁 HTTP Status Code Distribution:\n",
      "  200 → 3 times\n",
      "  401 → 1 times\n",
      "  404 → 1 times\n"
     ]
    }
   ],
   "source": [
    "import os\n",
    "import re\n",
    "from collections import Counter\n",
    "\n",
    "# === Constants ===\n",
    "MAX_FILE_SIZE_MB = 100\n",
    "MAX_FILE_SIZE_BYTES = MAX_FILE_SIZE_MB * 1024 * 1024\n",
    "\n",
    "# === Log Pattern (Common Log Format) ===\n",
    "LOG_PATTERN = re.compile(\n",
    "    r'(?P<ip>\\d{1,3}(?:\\.\\d{1,3}){3})\\s'             # IP address\n",
    "    r'\\S+\\s\\S+\\s'                                     # Unused identity/user fields\n",
    "    r'\\[(?P<timestamp>[^\\]]+)\\]\\s'                    # Timestamp\n",
    "    r'\"(?P<method>\\S+)\\s(?P<url>\\S+)\\s\\S+\"\\s'         # Request method + URL\n",
    "    r'(?P<status>\\d{3})\\s'                            # HTTP status code\n",
    "    r'(?P<size>\\d+|-)'                                # Response size\n",
    ")\n",
    "\n",
    "# === File Size Validator ===\n",
    "def is_valid_file(filepath):\n",
    "    if not os.path.exists(filepath):\n",
    "        print(\"❌ File does not exist.\")\n",
    "        return False\n",
    "    if os.path.getsize(filepath) > MAX_FILE_SIZE_BYTES:\n",
    "        print(f\"❌ File exceeds 100 MB limit: {(os.path.getsize(filepath)/(1024*1024)):.2f} MB\")\n",
    "        return False\n",
    "    return True\n",
    "\n",
    "# === Log Parser and Analyzer ===\n",
    "def analyze_log_file(filepath):\n",
    "    ip_counts = Counter()\n",
    "    url_counts = Counter()\n",
    "    status_counts = Counter()\n",
    "    total_lines = 0\n",
    "    invalid_lines = 0\n",
    "\n",
    "    with open(filepath, 'r', encoding='utf-8', errors='ignore') as f:\n",
    "        for line in f:\n",
    "            total_lines += 1\n",
    "            match = LOG_PATTERN.match(line)\n",
    "            if match:\n",
    "                data = match.groupdict()\n",
    "                ip_counts[data['ip']] += 1\n",
    "                url_counts[data['url']] += 1\n",
    "                status_counts[data['status']] += 1\n",
    "            else:\n",
    "                invalid_lines += 1\n",
    "\n",
    "    return ip_counts, url_counts, status_counts, total_lines, invalid_lines\n",
    "\n",
    "# === Display Summary ===\n",
    "def display_summary(ip_counts, url_counts, status_counts, total, invalid):\n",
    "    print(\"\\n📊 LOG ANALYSIS SUMMARY\")\n",
    "    print(f\"Total lines processed: {total}\")\n",
    "    print(f\"Invalid/malformed lines skipped: {invalid}\\n\")\n",
    "\n",
    "    print(\"🔝 Top 5 IP Addresses:\")\n",
    "    for ip, count in ip_counts.most_common(5):\n",
    "        print(f\"  {ip} → {count} times\")\n",
    "\n",
    "    print(\"\\n🌐 Top 5 URLs Accessed:\")\n",
    "    for url, count in url_counts.most_common(5):\n",
    "        print(f\"  {url} → {count} times\")\n",
    "\n",
    "    print(\"\\n🔁 HTTP Status Code Distribution:\")\n",
    "    for status, count in sorted(status_counts.items()):\n",
    "        print(f\"  {status} → {count} times\")\n",
    "\n",
    "# === Optional: Sample File Creator ===\n",
    "def create_sample_log(filepath):\n",
    "    sample_data = [\n",
    "        '127.0.0.1 - - [12/Jul/2025:10:00:00 +0000] \"GET /index.html HTTP/1.1\" 200 1234\\n',\n",
    "        '192.168.1.5 - - [12/Jul/2025:10:01:00 +0000] \"POST /login HTTP/1.1\" 401 500\\n',\n",
    "        '10.0.0.1 - - [12/Jul/2025:10:02:00 +0000] \"GET /dashboard HTTP/1.1\" 200 2048\\n',\n",
    "        '10.0.0.1 - - [12/Jul/2025:10:02:01 +0000] \"GET /dashboard HTTP/1.1\" 200 2048\\n',\n",
    "        '8.8.8.8 - - [12/Jul/2025:10:03:00 +0000] \"GET /error HTTP/1.1\" 404 0\\n'\n",
    "    ]\n",
    "    with open(filepath, 'w') as f:\n",
    "        f.writelines(sample_data)\n",
    "    print(f\"✅ Sample log file created: {filepath}\")\n",
    "\n",
    "# === Main Execution ===\n",
    "def main():\n",
    "    filepath = \"access.log\"  # Replace with your file path\n",
    "    if not os.path.exists(filepath):\n",
    "        create_sample_log(filepath)\n",
    "\n",
    "    if is_valid_file(filepath):\n",
    "        ip_data, url_data, status_data, total, invalid = analyze_log_file(filepath)\n",
    "        display_summary(ip_data, url_data, status_data, total, invalid)\n",
    "\n",
    "if __name__ == \"__main__\":\n",
    "    main()"
   ]
  },
  {
   "cell_type": "code",
   "execution_count": null,
   "id": "6625d7f5-f5b4-44d7-a887-6c055ad2ac7e",
   "metadata": {},
   "outputs": [],
   "source": []
  }
 ],
 "metadata": {
  "kernelspec": {
   "display_name": "Python 3 (ipykernel)",
   "language": "python",
   "name": "python3"
  },
  "language_info": {
   "codemirror_mode": {
    "name": "ipython",
    "version": 3
   },
   "file_extension": ".py",
   "mimetype": "text/x-python",
   "name": "python",
   "nbconvert_exporter": "python",
   "pygments_lexer": "ipython3",
   "version": "3.12.3"
  }
 },
 "nbformat": 4,
 "nbformat_minor": 5
}
