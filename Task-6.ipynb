{
 "cells": [
  {
   "cell_type": "code",
   "execution_count": 1,
   "id": "67cb92bd-133b-4c24-90cd-80325d766c50",
   "metadata": {},
   "outputs": [],
   "source": [
    "#Task-5"
   ]
  },
  {
   "cell_type": "code",
   "execution_count": 2,
   "id": "cea4de45-4f00-45a1-8931-24d93598df51",
   "metadata": {},
   "outputs": [
    {
     "data": {
      "text/plain": [
       "' 39. Sudoku Validator\\n Objective: Validate whether a given Sudoku board configuration is valid.\\n Input: A 9x9 2D list representing a Sudoku board.\\n Output: True if valid, otherwise False.\\n Hint: Check rows, columns, and 3×33 \\times 33×3 grids for duplicates.'"
      ]
     },
     "execution_count": 2,
     "metadata": {},
     "output_type": "execute_result"
    }
   ],
   "source": [
    "''' 39. Sudoku Validator\n",
    " Objective: Validate whether a given Sudoku board configuration is valid.\n",
    " Input: A 9x9 2D list representing a Sudoku board.\n",
    " Output: True if valid, otherwise False.\n",
    " Hint: Check rows, columns, and 3×33 \\times 33×3 grids for duplicates.'''"
   ]
  },
  {
   "cell_type": "code",
   "execution_count": 3,
   "id": "c14ea8be-5a10-4396-8c61-3d896dee1450",
   "metadata": {},
   "outputs": [
    {
     "name": "stdout",
     "output_type": "stream",
     "text": [
      "Is the Sudoku board valid? True\n"
     ]
    }
   ],
   "source": [
    "def is_valid_sudoku(board):\n",
    "    # Check each row\n",
    "    for row in board:\n",
    "        if not is_valid_unit(row):\n",
    "            return False\n",
    "\n",
    "    # Check each column\n",
    "    for col in zip(*board):\n",
    "        if not is_valid_unit(col):\n",
    "            return False\n",
    "\n",
    "    # Check each 3x3 grid\n",
    "    for i in range(0, 9, 3):        # rows: 0, 3, 6\n",
    "        for j in range(0, 9, 3):    # cols: 0, 3, 6\n",
    "            grid = [board[x][y] for x in range(i, i+3) \n",
    "                                   for y in range(j, j+3)]\n",
    "            if not is_valid_unit(grid):\n",
    "                return False\n",
    "\n",
    "    return True\n",
    "\n",
    "def is_valid_unit(unit):\n",
    "    nums = [num for num in unit if num != 0]\n",
    "    return len(nums) == len(set(nums))\n",
    "\n",
    "# Example Input\n",
    "sudoku_board = [\n",
    "    [5, 3, 0, 0, 7, 0, 0, 0, 0],\n",
    "    [6, 0, 0, 1, 9, 5, 0, 0, 0],\n",
    "    [0, 9, 8, 0, 0, 0, 0, 6, 0],\n",
    "    [8, 0, 0, 0, 6, 0, 0, 0, 3],\n",
    "    [4, 0, 0, 8, 0, 3, 0, 0, 1],\n",
    "    [7, 0, 0, 0, 2, 0, 0, 0, 6],\n",
    "    [0, 6, 0, 0, 0, 0, 2, 8, 0],\n",
    "    [0, 0, 0, 4, 1, 9, 0, 0, 5],\n",
    "    [0, 0, 0, 0, 8, 0, 0, 7, 9]\n",
    "]\n",
    "\n",
    "# Output\n",
    "print(\"Is the Sudoku board valid?\", is_valid_sudoku(sudoku_board))"
   ]
  },
  {
   "cell_type": "code",
   "execution_count": 4,
   "id": "2eb2da7b-2db1-4f9d-b2d4-8e09a70cb982",
   "metadata": {},
   "outputs": [
    {
     "data": {
      "text/plain": [
       "'40. Word Frequency in Text\\nObjective: Count the frequency of each word in a given text.\\nInput: A string of text.\\nOutput: A dictionary where keys are words and values are their counts.\\nHint: Use split() to separate words and a dictionary to store counts.'"
      ]
     },
     "execution_count": 4,
     "metadata": {},
     "output_type": "execute_result"
    }
   ],
   "source": [
    " '''40. Word Frequency in Text\n",
    " Objective: Count the frequency of each word in a given text.\n",
    " Input: A string of text.\n",
    " Output: A dictionary where keys are words and values are their counts.\n",
    " Hint: Use split() to separate words and a dictionary to store counts.'''"
   ]
  },
  {
   "cell_type": "code",
   "execution_count": 5,
   "id": "c153ebd2-5127-4341-b32f-b0304d4109ca",
   "metadata": {},
   "outputs": [
    {
     "name": "stdin",
     "output_type": "stream",
     "text": [
      "Enter a text:  Hello World\n"
     ]
    },
    {
     "name": "stdout",
     "output_type": "stream",
     "text": [
      "Word Frequencies:\n",
      "{'hello': 1, 'world': 1}\n"
     ]
    }
   ],
   "source": [
    "# Solution\n",
    "def word_frequency(text):\n",
    "    words = text.lower().split()\n",
    "    freq = {}\n",
    "    for word in words:\n",
    "        word = word.strip(\",.?!\")  # remove punctuation\n",
    "        freq[word] = freq.get(word, 0) + 1\n",
    "    return freq\n",
    "\n",
    "# Input\n",
    "text = input(\"Enter a text: \")\n",
    "\n",
    "# Output\n",
    "print(\"Word Frequencies:\")\n",
    "print(word_frequency(text))"
   ]
  },
  {
   "cell_type": "code",
   "execution_count": 6,
   "id": "cc53eb06-300c-43af-8f9f-5bc0236a06ef",
   "metadata": {},
   "outputs": [
    {
     "data": {
      "text/plain": [
       "'41. Knapsack Problem (0/1)\\nObjective: Solve the 0/1 knapsack problem using dynamic programming.\\nInput: A list of weights, a list of values, and a maximum capacity.\\nOutput: The maximum value that can be carried within the capacity.\\nHint: Use a dynamic programming table to keep track of the maximum values at each\\ncapacity.'"
      ]
     },
     "execution_count": 6,
     "metadata": {},
     "output_type": "execute_result"
    }
   ],
   "source": [
    " '''41. Knapsack Problem (0/1)\n",
    " Objective: Solve the 0/1 knapsack problem using dynamic programming.\n",
    " Input: A list of weights, a list of values, and a maximum capacity.\n",
    " Output: The maximum value that can be carried within the capacity.\n",
    " Hint: Use a dynamic programming table to keep track of the maximum values at each\n",
    " capacity.'''"
   ]
  },
  {
   "cell_type": "code",
   "execution_count": 7,
   "id": "aa52c9c8-268f-4b1f-93e4-8fbabcc48fc6",
   "metadata": {},
   "outputs": [
    {
     "name": "stdin",
     "output_type": "stream",
     "text": [
      "Enter weights:  1 3 4 6\n",
      "Enter values:  2 5 4 3\n",
      "Enter max capacity:  7\n"
     ]
    },
    {
     "name": "stdout",
     "output_type": "stream",
     "text": [
      "Maximum value: 9\n"
     ]
    }
   ],
   "source": [
    "# Solution\n",
    "def knapsack(weights, values, capacity):\n",
    "    n = len(weights)\n",
    "    dp = [[0]*(capacity+1) for _ in range(n+1)]\n",
    "    \n",
    "    for i in range(1, n+1):\n",
    "        for w in range(capacity+1):\n",
    "            if weights[i-1] <= w:\n",
    "                dp[i][w] = max(dp[i-1][w], values[i-1] + dp[i-1][w-weights[i-1]])\n",
    "            else:\n",
    "                dp[i][w] = dp[i-1][w]\n",
    "    \n",
    "    return dp[n][capacity]\n",
    "\n",
    "# Input\n",
    "weights = list(map(int, input(\"Enter weights: \").split()))\n",
    "values = list(map(int, input(\"Enter values: \").split()))\n",
    "capacity = int(input(\"Enter max capacity: \"))\n",
    "\n",
    "# Output\n",
    "print(\"Maximum value:\", knapsack(weights, values, capacity))"
   ]
  },
  {
   "cell_type": "code",
   "execution_count": 8,
   "id": "bb71031f-2933-41b3-a85e-e37031a59a1c",
   "metadata": {},
   "outputs": [
    {
     "data": {
      "text/plain": [
       "'42. Merge Intervals\\nObjective: Merge overlapping intervals in a list of intervals.\\nInput: A list of intervals where each interval is represented as a pair of integers\\n[start,end][start, end][start,end].\\nOutput: A list of merged intervals.\\nHint: Sort the intervals by start time and merge if the start of the current interval is less\\nthan or equal to the end of the previous one.'"
      ]
     },
     "execution_count": 8,
     "metadata": {},
     "output_type": "execute_result"
    }
   ],
   "source": [
    " '''42. Merge Intervals\n",
    " Objective: Merge overlapping intervals in a list of intervals.\n",
    " Input: A list of intervals where each interval is represented as a pair of integers\n",
    " [start,end][start, end][start,end].\n",
    " Output: A list of merged intervals.\n",
    " Hint: Sort the intervals by start time and merge if the start of the current interval is less\n",
    " than or equal to the end of the previous one.'''"
   ]
  },
  {
   "cell_type": "code",
   "execution_count": 10,
   "id": "3dc0b762-a85a-4405-a460-dc220ba13268",
   "metadata": {},
   "outputs": [
    {
     "name": "stdin",
     "output_type": "stream",
     "text": [
      "Enter number of intervals:  4\n",
      " 1 3\n",
      " 2 4\n",
      " 5 7\n",
      " 6 8\n"
     ]
    },
    {
     "name": "stdout",
     "output_type": "stream",
     "text": [
      "Merged Intervals:\n",
      "[[1, 4], [5, 8]]\n"
     ]
    }
   ],
   "source": [
    "# Solution\n",
    "def merge_intervals(intervals):\n",
    "    intervals.sort()\n",
    "    merged = []\n",
    "    \n",
    "    for interval in intervals:\n",
    "        if not merged or merged[-1][1] < interval[0]:\n",
    "            merged.append(interval)\n",
    "        else:\n",
    "            merged[-1][1] = max(merged[-1][1], interval[1])\n",
    "    \n",
    "    return merged\n",
    "\n",
    "# Input\n",
    "n = int(input(\"Enter number of intervals: \"))\n",
    "intervals = [list(map(int, input().split())) for _ in range(n)]\n",
    "\n",
    "# Output\n",
    "print(\"Merged Intervals:\")\n",
    "print(merge_intervals(intervals))"
   ]
  },
  {
   "cell_type": "code",
   "execution_count": 11,
   "id": "e9201f73-e7a8-4af2-8389-be6d41c5135c",
   "metadata": {},
   "outputs": [
    {
     "data": {
      "text/plain": [
       "' 43. Find the Median of Two Sorted Arrays\\n Objective: Find the median of two sorted arrays.\\n Input: Two sorted lists.\\nOutput: The median value of the two lists.\\n Hint: Use binary search or merge the two arrays and find the median.'"
      ]
     },
     "execution_count": 11,
     "metadata": {},
     "output_type": "execute_result"
    }
   ],
   "source": [
    "''' 43. Find the Median of Two Sorted Arrays\n",
    " Objective: Find the median of two sorted arrays.\n",
    " Input: Two sorted lists.\n",
    "Output: The median value of the two lists.\n",
    " Hint: Use binary search or merge the two arrays and find the median.'''"
   ]
  },
  {
   "cell_type": "code",
   "execution_count": 12,
   "id": "44637dc4-9eca-4e07-98aa-7a78d81832e5",
   "metadata": {},
   "outputs": [
    {
     "name": "stdin",
     "output_type": "stream",
     "text": [
      "Enter first sorted list:  1 3 5\n",
      "Enter second sorted list:  2 4 6\n"
     ]
    },
    {
     "name": "stdout",
     "output_type": "stream",
     "text": [
      "Median: 3.5\n"
     ]
    }
   ],
   "source": [
    "# Solution\n",
    "def find_median_sorted_arrays(a, b):\n",
    "    merged = sorted(a + b)\n",
    "    n = len(merged)\n",
    "    mid = n // 2\n",
    "    if n % 2 == 0:\n",
    "        return (merged[mid - 1] + merged[mid]) / 2\n",
    "    else:\n",
    "        return merged[mid]\n",
    "\n",
    "# Input\n",
    "a = list(map(int, input(\"Enter first sorted list: \").split()))\n",
    "b = list(map(int, input(\"Enter second sorted list: \").split()))\n",
    "\n",
    "# Output\n",
    "print(\"Median:\", find_median_sorted_arrays(a, b))"
   ]
  },
  {
   "cell_type": "code",
   "execution_count": 13,
   "id": "b32aeb4a-3173-404e-bcfe-2eb7ffb56614",
   "metadata": {},
   "outputs": [
    {
     "data": {
      "text/plain": [
       "\" 44. Maximal Rectangle in Binary Matrix\\n Objective: Find the area of the largest rectangle in a binary matrix (matrix containing\\n only 0's and 1's).\\n Input: A 2D binary matrix.\\n Output: The area of the largest rectangle formed by 1's.\\n Hint: Use dynamic programming by treating each row as the base of a histogram and\\n applying the largest rectangle in histogram technique.\""
      ]
     },
     "execution_count": 13,
     "metadata": {},
     "output_type": "execute_result"
    }
   ],
   "source": [
    "''' 44. Maximal Rectangle in Binary Matrix\n",
    " Objective: Find the area of the largest rectangle in a binary matrix (matrix containing\n",
    " only 0's and 1's).\n",
    " Input: A 2D binary matrix.\n",
    " Output: The area of the largest rectangle formed by 1's.\n",
    " Hint: Use dynamic programming by treating each row as the base of a histogram and\n",
    " applying the largest rectangle in histogram technique.'''"
   ]
  },
  {
   "cell_type": "code",
   "execution_count": 14,
   "id": "88743a00-cba5-4c19-9a6a-b2e697dc2fae",
   "metadata": {},
   "outputs": [
    {
     "name": "stdout",
     "output_type": "stream",
     "text": [
      "Enter binary matrix (rows of 0s and 1s):\n"
     ]
    },
    {
     "name": "stdin",
     "output_type": "stream",
     "text": [
      "Enter number of rows:  4\n",
      " 1 0 1 0 0\n",
      " 1 0 1 1 1\n",
      " 1 1 1 1 1\n",
      " 1 0 0 1 0\n"
     ]
    },
    {
     "name": "stdout",
     "output_type": "stream",
     "text": [
      "Maximal rectangle area: 6\n"
     ]
    }
   ],
   "source": [
    "# Helper: Largest rectangle in histogram\n",
    "def largest_rectangle(hist):\n",
    "    stack, max_area = [], 0\n",
    "    hist.append(0)\n",
    "    for i, h in enumerate(hist):\n",
    "        while stack and h < hist[stack[-1]]:\n",
    "            height = hist[stack.pop()]\n",
    "            width = i if not stack else i - stack[-1] - 1\n",
    "            max_area = max(max_area, height * width)\n",
    "        stack.append(i)\n",
    "    return max_area\n",
    "\n",
    "# Solution\n",
    "def maximal_rectangle(matrix):\n",
    "    if not matrix:\n",
    "        return 0\n",
    "    n = len(matrix[0])\n",
    "    height = [0] * n\n",
    "    max_area = 0\n",
    "    for row in matrix:\n",
    "        for i in range(n):\n",
    "            height[i] = height[i] + 1 if row[i] == 1 else 0\n",
    "        max_area = max(max_area, largest_rectangle(height[:]))\n",
    "    return max_area\n",
    "\n",
    "# Input\n",
    "print(\"Enter binary matrix (rows of 0s and 1s):\")\n",
    "matrix = []\n",
    "rows = int(input(\"Enter number of rows: \"))\n",
    "for _ in range(rows):\n",
    "    matrix.append(list(map(int, input().split())))\n",
    "\n",
    "# Output\n",
    "print(\"Maximal rectangle area:\", maximal_rectangle(matrix))"
   ]
  },
  {
   "cell_type": "code",
   "execution_count": 15,
   "id": "c5b5fb03-f879-4850-bce9-9f72165e6efd",
   "metadata": {},
   "outputs": [
    {
     "data": {
      "text/plain": [
       "\" 45. Largest Sum Contiguous Subarray (Kadane's Algorithm)\\n Objective: Find the largest sum of a contiguous subarray in an array of integers.\\n Input: A list of integers.\\n Output: The maximum sum of the subarray.\\n Hint: Use Kadane’s Algorithm which runs in linear time.\""
      ]
     },
     "execution_count": 15,
     "metadata": {},
     "output_type": "execute_result"
    }
   ],
   "source": [
    "''' 45. Largest Sum Contiguous Subarray (Kadane's Algorithm)\n",
    " Objective: Find the largest sum of a contiguous subarray in an array of integers.\n",
    " Input: A list of integers.\n",
    " Output: The maximum sum of the subarray.\n",
    " Hint: Use Kadane’s Algorithm which runs in linear time.'''"
   ]
  },
  {
   "cell_type": "code",
   "execution_count": 16,
   "id": "80cffbe1-3c6f-4e58-9908-9a09b48a2894",
   "metadata": {},
   "outputs": [
    {
     "name": "stdin",
     "output_type": "stream",
     "text": [
      "Enter array elements:  -2 -3 4 -1 -2 1 5 -3\n"
     ]
    },
    {
     "name": "stdout",
     "output_type": "stream",
     "text": [
      "Maximum subarray sum: 7\n"
     ]
    }
   ],
   "source": [
    "# Solution\n",
    "def max_subarray_sum(arr):\n",
    "    max_sum = current = arr[0]\n",
    "    for num in arr[1:]:\n",
    "        current = max(num, current + num)\n",
    "        max_sum = max(max_sum, current)\n",
    "    return max_sum\n",
    "\n",
    "# Input\n",
    "arr = list(map(int, input(\"Enter array elements: \").split()))\n",
    "\n",
    "# Output\n",
    "print(\"Maximum subarray sum:\", max_subarray_sum(arr))"
   ]
  },
  {
   "cell_type": "code",
   "execution_count": 17,
   "id": "deb56bb5-b0ca-4208-95ec-f759d2cb1743",
   "metadata": {},
   "outputs": [
    {
     "data": {
      "text/plain": [
       "' 46. Word Ladder Problem\\n Objective: Given two words, find the shortest transformation sequence from the start\\n word to the end word, changing only one letter at a time.\\n Input: Two words and a dictionary of words.\\n Output: The length of the shortest transformation sequence.\\n Hint: Use breadth-first search (BFS) and treat each word as a node in a graph.'"
      ]
     },
     "execution_count": 17,
     "metadata": {},
     "output_type": "execute_result"
    }
   ],
   "source": [
    "''' 46. Word Ladder Problem\n",
    " Objective: Given two words, find the shortest transformation sequence from the start\n",
    " word to the end word, changing only one letter at a time.\n",
    " Input: Two words and a dictionary of words.\n",
    " Output: The length of the shortest transformation sequence.\n",
    " Hint: Use breadth-first search (BFS) and treat each word as a node in a graph.'''"
   ]
  },
  {
   "cell_type": "code",
   "execution_count": 18,
   "id": "2da5632e-1be3-4161-9f50-f677a10ecbbb",
   "metadata": {},
   "outputs": [
    {
     "name": "stdin",
     "output_type": "stream",
     "text": [
      "Enter start word:  hit\n",
      "Enter end word:  cog\n",
      "Enter dictionary words:   hot dot dog lot log cog\n"
     ]
    },
    {
     "name": "stdout",
     "output_type": "stream",
     "text": [
      "Length of shortest transformation: 5\n"
     ]
    }
   ],
   "source": [
    "# Solution\n",
    "from collections import deque\n",
    "\n",
    "def word_ladder(begin, end, word_list):\n",
    "    word_set = set(word_list)\n",
    "    queue = deque([(begin, 1)])\n",
    "\n",
    "    while queue:\n",
    "        word, steps = queue.popleft()\n",
    "        if word == end:\n",
    "            return steps\n",
    "\n",
    "        for i in range(len(word)):\n",
    "            for c in 'abcdefghijklmnopqrstuvwxyz':\n",
    "                new_word = word[:i] + c + word[i+1:]\n",
    "                if new_word in word_set:\n",
    "                    word_set.remove(new_word)\n",
    "                    queue.append((new_word, steps + 1))\n",
    "\n",
    "    return 0\n",
    "\n",
    "# Input\n",
    "start = input(\"Enter start word: \")\n",
    "end = input(\"Enter end word: \")\n",
    "words = input(\"Enter dictionary words: \").split()\n",
    "\n",
    "# Output\n",
    "print(\"Length of shortest transformation:\", word_ladder(start, end, words))"
   ]
  },
  {
   "cell_type": "code",
   "execution_count": 19,
   "id": "f9f3ac33-8765-4188-8386-162138146798",
   "metadata": {},
   "outputs": [
    {
     "data": {
      "text/plain": [
       "' 6. Command-Line RPG Game\\n ● Description: Design a role-playing game where players explore a text-based world, fight\\n enemies, and collect items to progress.\\n ● Challenges:\\n ○ Create a dynamic map with different locations and events.\\n ○ Implement a combat system with health, attack, and defense stats.\\n ○ Saveandload game progress.\\n ● Skills: Object-oriented programming, file handling, and game mechanics.'"
      ]
     },
     "execution_count": 19,
     "metadata": {},
     "output_type": "execute_result"
    }
   ],
   "source": [
    "''' 6. Command-Line RPG Game\n",
    " ● Description: Design a role-playing game where players explore a text-based world, fight\n",
    " enemies, and collect items to progress.\n",
    " ● Challenges:\n",
    " ○ Create a dynamic map with different locations and events.\n",
    " ○ Implement a combat system with health, attack, and defense stats.\n",
    " ○ Saveandload game progress.\n",
    " ● Skills: Object-oriented programming, file handling, and game mechanics.'''"
   ]
  },
  {
   "cell_type": "code",
   "execution_count": 21,
   "id": "36c736b6-f74d-401d-92c7-48d3a0729560",
   "metadata": {
    "scrolled": true
   },
   "outputs": [
    {
     "name": "stdout",
     "output_type": "stream",
     "text": [
      "1. New Game\n",
      "2. Load Game\n"
     ]
    },
    {
     "name": "stdin",
     "output_type": "stream",
     "text": [
      ">  1\n",
      "Enter your character's name:  Riya\n"
     ]
    },
    {
     "name": "stdout",
     "output_type": "stream",
     "text": [
      "Welcome, Riya!\n",
      "\n",
      "1. Explore\n",
      "2. Move\n",
      "3. Inventory\n",
      "4. Save\n",
      "5. Load\n",
      "6. Quit\n"
     ]
    },
    {
     "name": "stdin",
     "output_type": "stream",
     "text": [
      "Choose an action:  6\n"
     ]
    },
    {
     "name": "stdout",
     "output_type": "stream",
     "text": [
      "Thanks for playing!\n"
     ]
    }
   ],
   "source": [
    "import json\n",
    "import random\n",
    "\n",
    "class Character:\n",
    "    def __init__(self, name, health=100, attack=10, defense=5, inventory=None):\n",
    "        self.name = name\n",
    "        self.health = health\n",
    "        self.attack = attack\n",
    "        self.defense = defense\n",
    "        self.inventory = inventory or []\n",
    "\n",
    "    def is_alive(self):\n",
    "        return self.health > 0\n",
    "\n",
    "    def take_damage(self, amount):\n",
    "        damage = max(0, amount - self.defense)\n",
    "        self.health -= damage\n",
    "        print(f\"{self.name} takes {damage} damage. Health is now {self.health}.\")\n",
    "\n",
    "    def attack_enemy(self, enemy):\n",
    "        print(f\"{self.name} attacks {enemy.name}!\")\n",
    "        enemy.take_damage(self.attack)\n",
    "\n",
    "    def to_dict(self):\n",
    "        return self.__dict__\n",
    "\n",
    "    @staticmethod\n",
    "    def from_dict(data):\n",
    "        return Character(**data)\n",
    "\n",
    "class Enemy(Character):\n",
    "    def __init__(self, name=\"Goblin\", health=50, attack=8, defense=3):\n",
    "        super().__init__(name, health, attack, defense)\n",
    "\n",
    "class Game:\n",
    "    def __init__(self):\n",
    "        self.map = [\"Forest\", \"Cave\", \"Village\"]\n",
    "        self.current_location = 0\n",
    "        self.player = None\n",
    "\n",
    "    def create_character(self):\n",
    "        name = input(\"Enter your character's name: \")\n",
    "        self.player = Character(name)\n",
    "        print(f\"Welcome, {name}!\")\n",
    "\n",
    "    def explore(self):\n",
    "        location = self.map[self.current_location]\n",
    "        print(f\"You are in the {location}.\")\n",
    "        if random.random() < 0.5:\n",
    "            enemy = Enemy()\n",
    "            print(f\"A wild {enemy.name} appears!\")\n",
    "            self.battle(enemy)\n",
    "        else:\n",
    "            print(\"You found a healing potion!\")\n",
    "            self.player.inventory.append(\"Potion\")\n",
    "\n",
    "    def battle(self, enemy):\n",
    "        while self.player.is_alive() and enemy.is_alive():\n",
    "            self.player.attack_enemy(enemy)\n",
    "            if enemy.is_alive():\n",
    "                enemy.attack_enemy(self.player)\n",
    "        if self.player.is_alive():\n",
    "            print(\"You won the battle!\")\n",
    "        else:\n",
    "            print(\"Game Over.\")\n",
    "            exit()\n",
    "\n",
    "    def move(self):\n",
    "        print(\"Choose a direction:\")\n",
    "        print(\"1. Next Location\")\n",
    "        print(\"2. Previous Location\")\n",
    "        choice = input(\"> \")\n",
    "        if choice == \"1\" and self.current_location < len(self.map) - 1:\n",
    "            self.current_location += 1\n",
    "        elif choice == \"2\" and self.current_location > 0:\n",
    "            self.current_location -= 1\n",
    "        else:\n",
    "            print(\"You can't go that way.\")\n",
    "\n",
    "    def save_game(self):\n",
    "        data = {\n",
    "            \"player\": self.player.to_dict(),\n",
    "            \"location\": self.current_location\n",
    "        }\n",
    "        with open(\"savefile.json\", \"w\") as f:\n",
    "            json.dump(data, f)\n",
    "        print(\"Game saved!\")\n",
    "\n",
    "    def load_game(self):\n",
    "        try:\n",
    "            with open(\"savefile.json\", \"r\") as f:\n",
    "                data = json.load(f)\n",
    "                self.player = Character.from_dict(data[\"player\"])\n",
    "                self.current_location = data[\"location\"]\n",
    "                print(\"Game loaded!\")\n",
    "        except FileNotFoundError:\n",
    "            print(\"No save file found.\")\n",
    "\n",
    "    def main_loop(self):\n",
    "        while True:\n",
    "            print(\"\\n1. Explore\")\n",
    "            print(\"2. Move\")\n",
    "            print(\"3. Inventory\")\n",
    "            print(\"4. Save\")\n",
    "            print(\"5. Load\")\n",
    "            print(\"6. Quit\")\n",
    "            choice = input(\"Choose an action: \")\n",
    "\n",
    "            if choice == \"1\":\n",
    "                self.explore()\n",
    "            elif choice == \"2\":\n",
    "                self.move()\n",
    "            elif choice == \"3\":\n",
    "                print(\"Inventory:\", self.player.inventory)\n",
    "            elif choice == \"4\":\n",
    "                self.save_game()\n",
    "            elif choice == \"5\":\n",
    "                self.load_game()\n",
    "            elif choice == \"6\":\n",
    "                print(\"Thanks for playing!\")\n",
    "                break\n",
    "            else:\n",
    "                print(\"Invalid choice.\")\n",
    "\n",
    "# Run the game\n",
    "if __name__ == \"__main__\":\n",
    "    game = Game()\n",
    "    print(\"1. New Game\\n2. Load Game\")\n",
    "    start = input(\"> \")\n",
    "    if start == \"1\":\n",
    "        game.create_character()\n",
    "    else:\n",
    "        game.load_game()\n",
    "    game.main_loop()\n"
   ]
  },
  {
   "cell_type": "code",
   "execution_count": 22,
   "id": "ca5bb76f-c04b-44d4-8378-1cfc41004f2c",
   "metadata": {},
   "outputs": [
    {
     "data": {
      "text/plain": [
       "'6. Command-Line RPG Game\\n ● Restriction: Text-based interface only (no graphical user interface).\\n ● Reason: Bylimiting the project to a command-line interface, students are forced to\\n focus on game mechanics like combat, item management, and world-building. This\\n helps build logical thinking and complex program structures without the distraction of\\n graphics. The project teaches how to design games that depend entirely on logic and\\n text-based feedback.\\n ● Learning Outcome: Students will learn to develop interactive games, utilize\\n object-oriented programming (OOP) for characters and items, and implement game\\n mechanics like turn-based combat and inventory systems.'"
      ]
     },
     "execution_count": 22,
     "metadata": {},
     "output_type": "execute_result"
    }
   ],
   "source": [
    "'''6. Command-Line RPG Game\n",
    " ● Restriction: Text-based interface only (no graphical user interface).\n",
    " ● Reason: Bylimiting the project to a command-line interface, students are forced to\n",
    " focus on game mechanics like combat, item management, and world-building. This\n",
    " helps build logical thinking and complex program structures without the distraction of\n",
    " graphics. The project teaches how to design games that depend entirely on logic and\n",
    " text-based feedback.\n",
    " ● Learning Outcome: Students will learn to develop interactive games, utilize\n",
    " object-oriented programming (OOP) for characters and items, and implement game\n",
    " mechanics like turn-based combat and inventory systems.'''"
   ]
  },
  {
   "cell_type": "code",
   "execution_count": 26,
   "id": "1575e095-e046-450e-b325-9ece34641f2d",
   "metadata": {},
   "outputs": [
    {
     "name": "stdout",
     "output_type": "stream",
     "text": [
      "A wild Goblin appears!\n"
     ]
    },
    {
     "name": "stdin",
     "output_type": "stream",
     "text": [
      "\n",
      "Press Enter to attack... \n"
     ]
    },
    {
     "name": "stdout",
     "output_type": "stream",
     "text": [
      "Hero attacks for 7\n",
      "Goblin takes 5 damage (HP left: 15)\n",
      "Goblin attacks for 1\n",
      "Hero takes 0 damage (HP left: 30)\n"
     ]
    },
    {
     "name": "stdin",
     "output_type": "stream",
     "text": [
      "\n",
      "Press Enter to attack... \n"
     ]
    },
    {
     "name": "stdout",
     "output_type": "stream",
     "text": [
      "Hero attacks for 3\n",
      "Goblin takes 1 damage (HP left: 14)\n",
      "Goblin attacks for 1\n",
      "Hero takes 0 damage (HP left: 30)\n"
     ]
    },
    {
     "name": "stdin",
     "output_type": "stream",
     "text": [
      "\n",
      "Press Enter to attack... \n"
     ]
    },
    {
     "name": "stdout",
     "output_type": "stream",
     "text": [
      "Hero attacks for 1\n",
      "Goblin takes 0 damage (HP left: 14)\n",
      "Goblin attacks for 2\n",
      "Hero takes 0 damage (HP left: 30)\n"
     ]
    },
    {
     "name": "stdin",
     "output_type": "stream",
     "text": [
      "\n",
      "Press Enter to attack... \n"
     ]
    },
    {
     "name": "stdout",
     "output_type": "stream",
     "text": [
      "Hero attacks for 8\n",
      "Goblin takes 6 damage (HP left: 8)\n",
      "Goblin attacks for 6\n",
      "Hero takes 3 damage (HP left: 27)\n"
     ]
    },
    {
     "name": "stdin",
     "output_type": "stream",
     "text": [
      "\n",
      "Press Enter to attack... \n"
     ]
    },
    {
     "name": "stdout",
     "output_type": "stream",
     "text": [
      "Hero attacks for 5\n",
      "Goblin takes 3 damage (HP left: 5)\n",
      "Goblin attacks for 1\n",
      "Hero takes 0 damage (HP left: 27)\n"
     ]
    },
    {
     "name": "stdin",
     "output_type": "stream",
     "text": [
      "\n",
      "Press Enter to attack... \n"
     ]
    },
    {
     "name": "stdout",
     "output_type": "stream",
     "text": [
      "Hero attacks for 5\n",
      "Goblin takes 3 damage (HP left: 2)\n",
      "Goblin attacks for 2\n",
      "Hero takes 0 damage (HP left: 27)\n"
     ]
    },
    {
     "name": "stdin",
     "output_type": "stream",
     "text": [
      "\n",
      "Press Enter to attack... \n"
     ]
    },
    {
     "name": "stdout",
     "output_type": "stream",
     "text": [
      "Hero attacks for 7\n",
      "Goblin takes 5 damage (HP left: -3)\n",
      "\n",
      "You defeated the Goblin!\n",
      "Hero found a Health Potion!\n"
     ]
    }
   ],
   "source": [
    "import random\n",
    "\n",
    "# Base Character class\n",
    "class Character:\n",
    "    def __init__(self, name, hp, attack, defense):\n",
    "        self.name = name\n",
    "        self.hp = hp\n",
    "        self.attack = attack\n",
    "        self.defense = defense\n",
    "\n",
    "    def is_alive(self):\n",
    "        return self.hp > 0\n",
    "\n",
    "    def take_damage(self, damage):\n",
    "        reduced = max(0, damage - self.defense)\n",
    "        self.hp -= reduced\n",
    "        print(f\"{self.name} takes {reduced} damage (HP left: {self.hp})\")\n",
    "\n",
    "    def deal_damage(self):\n",
    "        return random.randint(1, self.attack)\n",
    "\n",
    "# Player class\n",
    "class Player(Character):\n",
    "    def __init__(self, name):\n",
    "        super().__init__(name, hp=30, attack=10, defense=3)\n",
    "        self.inventory = []\n",
    "\n",
    "    def add_item(self, item):\n",
    "        self.inventory.append(item)\n",
    "        print(f\"{self.name} found a {item}!\")\n",
    "\n",
    "# Enemy class\n",
    "class Enemy(Character):\n",
    "    def __init__(self, name, hp, attack, defense):\n",
    "        super().__init__(name, hp, attack, defense)\n",
    "\n",
    "# Game loop\n",
    "def game():\n",
    "    player = Player(\"Hero\")\n",
    "    enemy = Enemy(\"Goblin\", hp=20, attack=6, defense=2)\n",
    "\n",
    "    print(\"A wild Goblin appears!\")\n",
    "    \n",
    "    while player.is_alive() and enemy.is_alive():\n",
    "        input(\"\\nPress Enter to attack...\")\n",
    "\n",
    "        dmg = player.deal_damage()\n",
    "        print(f\"{player.name} attacks for {dmg}\")\n",
    "        enemy.take_damage(dmg)\n",
    "\n",
    "        if enemy.is_alive():\n",
    "            dmg = enemy.deal_damage()\n",
    "            print(f\"{enemy.name} attacks for {dmg}\")\n",
    "            player.take_damage(dmg)\n",
    "\n",
    "    if player.is_alive():\n",
    "        print(\"\\nYou defeated the Goblin!\")\n",
    "        player.add_item(\"Health Potion\")\n",
    "    else:\n",
    "        print(\"\\nYou were defeated... Game Over.\")\n",
    "\n",
    "game()\n"
   ]
  },
  {
   "cell_type": "code",
   "execution_count": null,
   "id": "f801d899-2c73-47ae-8054-052ed1043f62",
   "metadata": {},
   "outputs": [],
   "source": []
  }
 ],
 "metadata": {
  "kernelspec": {
   "display_name": "Python 3 (ipykernel)",
   "language": "python",
   "name": "python3"
  },
  "language_info": {
   "codemirror_mode": {
    "name": "ipython",
    "version": 3
   },
   "file_extension": ".py",
   "mimetype": "text/x-python",
   "name": "python",
   "nbconvert_exporter": "python",
   "pygments_lexer": "ipython3",
   "version": "3.12.3"
  }
 },
 "nbformat": 4,
 "nbformat_minor": 5
}
