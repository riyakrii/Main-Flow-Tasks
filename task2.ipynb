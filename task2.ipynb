{
 "cells": [
  {
   "cell_type": "code",
   "execution_count": 1,
   "id": "62d50333-f216-4d0c-98b4-0b2469b14cdb",
   "metadata": {},
   "outputs": [],
   "source": [
    "#Task-2"
   ]
  },
  {
   "cell_type": "code",
   "execution_count": 2,
   "id": "f3fa211d-0214-4cf5-a7d7-76ec57004e67",
   "metadata": {},
   "outputs": [
    {
     "data": {
      "text/plain": [
       "'9. Prime Number\\n Objective: Determine if a number is prime.\\n Input: A single integer nnn.\\n Output: True if prime, otherwise False.\\n Hint: A prime number has no divisors other than 1 and itself; check divisors up to\\n n\\\\sqrt{n}n '"
      ]
     },
     "execution_count": 2,
     "metadata": {},
     "output_type": "execute_result"
    }
   ],
   "source": [
    "'''9. Prime Number\n",
    " Objective: Determine if a number is prime.\n",
    " Input: A single integer nnn.\n",
    " Output: True if prime, otherwise False.\n",
    " Hint: A prime number has no divisors other than 1 and itself; check divisors up to\n",
    " n\\\\sqrt{n}n '''"
   ]
  },
  {
   "cell_type": "code",
   "execution_count": 3,
   "id": "78a4e419-bebb-49db-905f-8ec7b0d12ba3",
   "metadata": {},
   "outputs": [
    {
     "name": "stdin",
     "output_type": "stream",
     "text": [
      "Enter a number:  451\n"
     ]
    },
    {
     "name": "stdout",
     "output_type": "stream",
     "text": [
      "Is prime number: False\n"
     ]
    }
   ],
   "source": [
    "# Solution\n",
    "def is_prime(n):\n",
    "    if n <= 1:\n",
    "        return False\n",
    "    for i in range(2, int(n**0.5) + 1):\n",
    "        if n % i == 0:\n",
    "            return False\n",
    "    return True\n",
    "\n",
    "n = int(input(\"Enter a number: \"))\n",
    "print(\"Is prime number:\", is_prime(n))"
   ]
  },
  {
   "cell_type": "code",
   "execution_count": 4,
   "id": "378cb177-9e1a-4ec7-bc24-2b687f003fdb",
   "metadata": {},
   "outputs": [
    {
     "data": {
      "text/plain": [
       "'10. Sum of Digits\\n Objective: Find the sum of the digits in a number.\\n Input: An integer nnn.\\n Output: Single integer, the sum of digits.\\n Hint: Convert the number to a string, iterate through characters, and sum up the digits.'"
      ]
     },
     "execution_count": 4,
     "metadata": {},
     "output_type": "execute_result"
    }
   ],
   "source": [
    "'''10. Sum of Digits\n",
    " Objective: Find the sum of the digits in a number.\n",
    " Input: An integer nnn.\n",
    " Output: Single integer, the sum of digits.\n",
    " Hint: Convert the number to a string, iterate through characters, and sum up the digits.'''"
   ]
  },
  {
   "cell_type": "code",
   "execution_count": 5,
   "id": "ad726baf-997a-4416-aa87-4487e982168a",
   "metadata": {},
   "outputs": [
    {
     "name": "stdin",
     "output_type": "stream",
     "text": [
      "Enter a number:  152\n"
     ]
    },
    {
     "name": "stdout",
     "output_type": "stream",
     "text": [
      "Sum of digits: 8\n"
     ]
    }
   ],
   "source": [
    "# Solution\n",
    "n = int(input(\"Enter a number: \"))\n",
    "sum_digits = sum(int(digit) for digit in str(n))\n",
    "print(\"Sum of digits:\", sum_digits)"
   ]
  },
  {
   "cell_type": "code",
   "execution_count": 6,
   "id": "cf972069-c3b8-447d-a767-45f9b3462931",
   "metadata": {},
   "outputs": [
    {
     "data": {
      "text/plain": [
       "\"11. LCM and GCD\\n Objective: Calculate the Least Common Multiple (LCM) and Greatest Common Divisor\\n (GCD) of two integers.\\n Input: Two integers aaa and bbb.\\n Output: Two integers: LCM and GCD of aaa and bbb.\\n Hint: Use the relationship LCM(a,b)=∣a⋅b∣GCD(a,b)\\text{LCM}(a, b) = \\\\frac{|a \\\\cdot\\n b|}{\\\\text{GCD}(a, b)}LCM(a,b)=GCD(a,b)∣a⋅b∣ . Python's math.gcd() function can\\n simplify this.\""
      ]
     },
     "execution_count": 6,
     "metadata": {},
     "output_type": "execute_result"
    }
   ],
   "source": [
    "'''11. LCM and GCD\n",
    " Objective: Calculate the Least Common Multiple (LCM) and Greatest Common Divisor\n",
    " (GCD) of two integers.\n",
    " Input: Two integers aaa and bbb.\n",
    " Output: Two integers: LCM and GCD of aaa and bbb.\n",
    " Hint: Use the relationship LCM(a,b)=∣a⋅b∣GCD(a,b)\\text{LCM}(a, b) = \\\\frac{|a \\\\cdot\n",
    " b|}{\\\\text{GCD}(a, b)}LCM(a,b)=GCD(a,b)∣a⋅b∣ . Python's math.gcd() function can\n",
    " simplify this.'''"
   ]
  },
  {
   "cell_type": "code",
   "execution_count": 7,
   "id": "da0504dd-e910-4418-a537-2d477b9e725e",
   "metadata": {},
   "outputs": [
    {
     "name": "stdin",
     "output_type": "stream",
     "text": [
      "Enter first number:  26\n",
      "Enter second number:  32\n"
     ]
    },
    {
     "name": "stdout",
     "output_type": "stream",
     "text": [
      "GCD: 2\n",
      "LCM: 416\n"
     ]
    }
   ],
   "source": [
    "# Solution\n",
    "import math\n",
    "\n",
    "a = int(input(\"Enter first number: \"))\n",
    "b = int(input(\"Enter second number: \"))\n",
    "\n",
    "gcd = math.gcd(a, b)\n",
    "lcm = abs(a * b) // gcd\n",
    "\n",
    "print(\"GCD:\", gcd)\n",
    "print(\"LCM:\", lcm)"
   ]
  },
  {
   "cell_type": "code",
   "execution_count": 8,
   "id": "b7bd5476-5bf6-4c85-ae6d-6162b3c1ad47",
   "metadata": {},
   "outputs": [
    {
     "data": {
      "text/plain": [
       "'12. List Reversal\\n Objective: Reverse a given list without using built-in functions.\\n Input: A list of integers.\\n Output: Reversed list.\\n Hint: Use a loop to swap elements from start to end or slice the list ([::-1]).'"
      ]
     },
     "execution_count": 8,
     "metadata": {},
     "output_type": "execute_result"
    }
   ],
   "source": [
    "'''12. List Reversal\n",
    " Objective: Reverse a given list without using built-in functions.\n",
    " Input: A list of integers.\n",
    " Output: Reversed list.\n",
    " Hint: Use a loop to swap elements from start to end or slice the list ([::-1]).'''"
   ]
  },
  {
   "cell_type": "code",
   "execution_count": 9,
   "id": "f8b2dc97-3846-4c75-abf6-1d6b81d8ac68",
   "metadata": {},
   "outputs": [
    {
     "name": "stdin",
     "output_type": "stream",
     "text": [
      "Enter list elements separated by space:  12 45 77 98 65\n"
     ]
    },
    {
     "name": "stdout",
     "output_type": "stream",
     "text": [
      "Reversed list: [65, 98, 77, 45, 12]\n"
     ]
    }
   ],
   "source": [
    "# Solution\n",
    "lst = list(map(int, input(\"Enter list elements separated by space: \").split()))\n",
    "reversed_list = []\n",
    "\n",
    "for i in range(len(lst) - 1, -1, -1):\n",
    "    reversed_list.append(lst[i])\n",
    "\n",
    "print(\"Reversed list:\", reversed_list)"
   ]
  },
  {
   "cell_type": "code",
   "execution_count": 10,
   "id": "0be57a68-9f8e-4101-a184-d3c4e91fe021",
   "metadata": {},
   "outputs": [
    {
     "data": {
      "text/plain": [
       "' 13. Sort a List\\n Objective: Sort a list of numbers in ascending order.\\n Input: A list of integers.\\nOutput: A sorted list.\\n Hint: Use sorting algorithms like bubble sort, selection sort, or simply sorted().'"
      ]
     },
     "execution_count": 10,
     "metadata": {},
     "output_type": "execute_result"
    }
   ],
   "source": [
    "''' 13. Sort a List\n",
    " Objective: Sort a list of numbers in ascending order.\n",
    " Input: A list of integers.\n",
    "Output: A sorted list.\n",
    " Hint: Use sorting algorithms like bubble sort, selection sort, or simply sorted().'''"
   ]
  },
  {
   "cell_type": "code",
   "execution_count": 11,
   "id": "7a1fd779-0c38-4d82-a5ab-427b386934f3",
   "metadata": {},
   "outputs": [
    {
     "name": "stdin",
     "output_type": "stream",
     "text": [
      "Enter list elements separated by space:  32 64 581 975 25\n"
     ]
    },
    {
     "name": "stdout",
     "output_type": "stream",
     "text": [
      "Sorted list: [25, 32, 64, 581, 975]\n"
     ]
    }
   ],
   "source": [
    "# Solution\n",
    "lst = list(map(int, input(\"Enter list elements separated by space: \").split()))\n",
    "\n",
    "# Bubble sort\n",
    "for i in range(len(lst)):\n",
    "    for j in range(0, len(lst) - i - 1):\n",
    "        if lst[j] > lst[j + 1]:\n",
    "            lst[j], lst[j + 1] = lst[j + 1], lst[j]\n",
    "\n",
    "print(\"Sorted list:\", lst)"
   ]
  },
  {
   "cell_type": "code",
   "execution_count": 12,
   "id": "6399afaa-9255-4d1e-b187-70a0c370e1c7",
   "metadata": {},
   "outputs": [
    {
     "data": {
      "text/plain": [
       "'14. Remove Duplicates\\n Objective: Remove duplicate elements from a list.\\n Input: A list of integers.\\n Output: A list with unique elements.\\n Hint: Use a set to eliminate duplicates or iterate and add unique elements to a new list.'"
      ]
     },
     "execution_count": 12,
     "metadata": {},
     "output_type": "execute_result"
    }
   ],
   "source": [
    "'''14. Remove Duplicates\n",
    " Objective: Remove duplicate elements from a list.\n",
    " Input: A list of integers.\n",
    " Output: A list with unique elements.\n",
    " Hint: Use a set to eliminate duplicates or iterate and add unique elements to a new list.'''"
   ]
  },
  {
   "cell_type": "code",
   "execution_count": 13,
   "id": "da372ecd-1ad0-4634-ba4c-20bb1e77250c",
   "metadata": {},
   "outputs": [
    {
     "name": "stdin",
     "output_type": "stream",
     "text": [
      "Enter list elements separated by space:  14 25 36 96 85\n"
     ]
    },
    {
     "name": "stdout",
     "output_type": "stream",
     "text": [
      "List without duplicates: [14, 25, 36, 96, 85]\n"
     ]
    }
   ],
   "source": [
    "# Solution\n",
    "lst = list(map(int, input(\"Enter list elements separated by space: \").split()))\n",
    "unique_list = []\n",
    "\n",
    "for item in lst:\n",
    "    if item not in unique_list:\n",
    "        unique_list.append(item)\n",
    "\n",
    "print(\"List without duplicates:\", unique_list)"
   ]
  },
  {
   "cell_type": "code",
   "execution_count": 14,
   "id": "6552846c-80e7-4ddd-85d9-484efd084fbb",
   "metadata": {},
   "outputs": [
    {
     "data": {
      "text/plain": [
       "'15. String Length\\n Objective: Find the length of a string without using the len() function.\\n Input: A string.\\n Output: Integer representing the length.\\n Hint: Use a loop to count characters in the string.'"
      ]
     },
     "execution_count": 14,
     "metadata": {},
     "output_type": "execute_result"
    }
   ],
   "source": [
    "'''15. String Length\n",
    " Objective: Find the length of a string without using the len() function.\n",
    " Input: A string.\n",
    " Output: Integer representing the length.\n",
    " Hint: Use a loop to count characters in the string.'''"
   ]
  },
  {
   "cell_type": "code",
   "execution_count": 15,
   "id": "9d81f9c5-a1fa-4050-83a8-23d1d9a5cec3",
   "metadata": {},
   "outputs": [
    {
     "name": "stdin",
     "output_type": "stream",
     "text": [
      "Enter a string:  Hello World \n"
     ]
    },
    {
     "name": "stdout",
     "output_type": "stream",
     "text": [
      "Length of string: 12\n"
     ]
    }
   ],
   "source": [
    "# Solution\n",
    "text = input(\"Enter a string: \")\n",
    "length = 0\n",
    "\n",
    "for _ in text:\n",
    "    length += 1\n",
    "\n",
    "print(\"Length of string:\", length)"
   ]
  },
  {
   "cell_type": "code",
   "execution_count": 16,
   "id": "0de9e25c-8183-4ddc-8133-bf0fe491c248",
   "metadata": {},
   "outputs": [
    {
     "data": {
      "text/plain": [
       "\" 16. Count Vowels and Consonants\\n Objective: Count the number of vowels and consonants in a string.\\n Input: A string.\\n Output: Two integers: count of vowels and count of consonants.\\n Hint: Define a set of vowels ('a', 'e', 'i', 'o', 'u'), and use string methods to\\n identify letters.\""
      ]
     },
     "execution_count": 16,
     "metadata": {},
     "output_type": "execute_result"
    }
   ],
   "source": [
    "''' 16. Count Vowels and Consonants\n",
    " Objective: Count the number of vowels and consonants in a string.\n",
    " Input: A string.\n",
    " Output: Two integers: count of vowels and count of consonants.\n",
    " Hint: Define a set of vowels ('a', 'e', 'i', 'o', 'u'), and use string methods to\n",
    " identify letters.'''"
   ]
  },
  {
   "cell_type": "code",
   "execution_count": 17,
   "id": "cbd9dc48-0620-462d-a0bd-d4757d3a2fa8",
   "metadata": {},
   "outputs": [
    {
     "name": "stdin",
     "output_type": "stream",
     "text": [
      "Enter a string:  Good Morning\n"
     ]
    },
    {
     "name": "stdout",
     "output_type": "stream",
     "text": [
      "Vowels: 4\n",
      "Consonants: 7\n"
     ]
    }
   ],
   "source": [
    "# Solution\n",
    "text = input(\"Enter a string: \").lower()\n",
    "vowels = 'aeiou'\n",
    "vowel_count = 0\n",
    "consonant_count = 0\n",
    "\n",
    "for ch in text:\n",
    "    if ch.isalpha():\n",
    "        if ch in vowels:\n",
    "            vowel_count += 1\n",
    "        else:\n",
    "            consonant_count += 1\n",
    "\n",
    "print(\"Vowels:\", vowel_count)\n",
    "print(\"Consonants:\", consonant_count)"
   ]
  },
  {
   "cell_type": "code",
   "execution_count": 18,
   "id": "9887dd63-e527-4683-bd40-5c03f901be9e",
   "metadata": {},
   "outputs": [
    {
     "data": {
      "text/plain": [
       "' 2. Maze Generator and Solver\\n ● Description: Build a program that generates random mazes and solves them using\\n techniques like Depth-First Search (DFS) or Breadth-First Search (BFS).\\n ● Challenges:\\n ○ Represent the maze as a grid using nested lists.\\n ○ Implement logic to ensure generated mazes are solvable.\\n ○ Visualize the maze in the terminal with clear paths and walls.\\n ● Skills: Recursive algorithms, graph theory, and problem-solving.'"
      ]
     },
     "execution_count": 18,
     "metadata": {},
     "output_type": "execute_result"
    }
   ],
   "source": [
    "''' 2. Maze Generator and Solver\n",
    " ● Description: Build a program that generates random mazes and solves them using\n",
    " techniques like Depth-First Search (DFS) or Breadth-First Search (BFS).\n",
    " ● Challenges:\n",
    " ○ Represent the maze as a grid using nested lists.\n",
    " ○ Implement logic to ensure generated mazes are solvable.\n",
    " ○ Visualize the maze in the terminal with clear paths and walls.\n",
    " ● Skills: Recursive algorithms, graph theory, and problem-solving.'''"
   ]
  },
  {
   "cell_type": "code",
   "execution_count": 19,
   "id": "b54f2915-d22b-40ca-b23a-088762aed93f",
   "metadata": {},
   "outputs": [
    {
     "name": "stdout",
     "output_type": "stream",
     "text": [
      "###########\n",
      "#S  #     #\n",
      "### ### # #\n",
      "# #   # # #\n",
      "# ### # # #\n",
      "# #   # # #\n",
      "# # ### ###\n",
      "#   #     #\n",
      "# ### ### #\n",
      "#     #   #\n",
      "###########\n"
     ]
    }
   ],
   "source": [
    "# Solution\n",
    "import random\n",
    "\n",
    "# Maze size (odd numbers work best)\n",
    "rows, cols = 11, 11\n",
    "\n",
    "# Create maze filled with walls\n",
    "maze = [['#' for _ in range(cols)] for _ in range(rows)]\n",
    "\n",
    "# Directions to move (up, down, left, right)\n",
    "directions = [(-2, 0), (2, 0), (0, -2), (0, 2)]\n",
    "\n",
    "# Generate maze using DFS\n",
    "def generate_maze(x, y):\n",
    "    maze[x][y] = ' '\n",
    "    random.shuffle(directions)\n",
    "    for dx, dy in directions:\n",
    "        nx, ny = x + dx, y + dy\n",
    "        if 0 < nx < rows and 0 < ny < cols and maze[nx][ny] == '#':\n",
    "            maze[x + dx // 2][y + dy // 2] = ' '\n",
    "            generate_maze(nx, ny)\n",
    "\n",
    "# Solve maze using DFS\n",
    "def solve_maze(x, y, end_x, end_y):\n",
    "    if not (0 <= x < rows and 0 <= y < cols) or maze[x][y] != ' ':\n",
    "        return False\n",
    "    if (x, y) == (end_x, end_y):\n",
    "        maze[x][y] = 'E'\n",
    "        return True\n",
    "    maze[x][y] = '.'\n",
    "    for dx, dy in [(-1,0), (1,0), (0,-1), (0,1)]:\n",
    "        if solve_maze(x + dx, y + dy, end_x, end_y):\n",
    "            return True\n",
    "    maze[x][y] = ' '\n",
    "    return False\n",
    "\n",
    "# Start and end points\n",
    "start_x, start_y = 1, 1\n",
    "end_x, end_y = rows - 2, cols - 2\n",
    "\n",
    "# Generate and solve maze\n",
    "generate_maze(start_x, start_y)\n",
    "maze[start_x][start_y] = 'S'\n",
    "solve_maze(start_x, start_y, end_x, end_y)\n",
    "\n",
    "# Print the maze\n",
    "for row in maze:\n",
    "    print(''.join(row))\n"
   ]
  },
  {
   "cell_type": "code",
   "execution_count": 20,
   "id": "2238f051-9ef7-4796-8874-65666b7e4efb",
   "metadata": {},
   "outputs": [
    {
     "data": {
      "text/plain": [
       "'2. Maze Generator and Solver\\n ● Restriction: No use of external libraries for visualization or graphical rendering\\n (like matplotlib, pygame).\\n ● Reason: This restriction ensures that students focus on core algorithmic logic rather\\n than visualizing the maze. The main objective is to implement algorithms like\\n Depth-First Search (DFS) or Breadth-First Search (BFS) to generate and solve mazes\\n programmatically. The visualization of the maze is secondary and can be achieved in a\\n simple text-based format (like using 1 for walls and 0 for paths).\\n ● Learning Outcome: Students will learn about graph traversal algorithms,\\n backtracking, and recursive thinking, which are fundamental concepts in computer\\n science.'"
      ]
     },
     "execution_count": 20,
     "metadata": {},
     "output_type": "execute_result"
    }
   ],
   "source": [
    "'''2. Maze Generator and Solver\n",
    " ● Restriction: No use of external libraries for visualization or graphical rendering\n",
    " (like matplotlib, pygame).\n",
    " ● Reason: This restriction ensures that students focus on core algorithmic logic rather\n",
    " than visualizing the maze. The main objective is to implement algorithms like\n",
    " Depth-First Search (DFS) or Breadth-First Search (BFS) to generate and solve mazes\n",
    " programmatically. The visualization of the maze is secondary and can be achieved in a\n",
    " simple text-based format (like using 1 for walls and 0 for paths).\n",
    " ● Learning Outcome: Students will learn about graph traversal algorithms,\n",
    " backtracking, and recursive thinking, which are fundamental concepts in computer\n",
    " science.'''"
   ]
  },
  {
   "cell_type": "code",
   "execution_count": 21,
   "id": "fc55fdd7-c55e-4dc2-a875-be8064d27df8",
   "metadata": {},
   "outputs": [
    {
     "name": "stdout",
     "output_type": "stream",
     "text": [
      "11111111111\n",
      "1S..1000001\n",
      "111.1011111\n",
      "101.1000001\n",
      "101.1011101\n",
      "101.1000101\n",
      "101.1111101\n",
      "101.......1\n",
      "101111101.1\n",
      "100000001E1\n",
      "11111111111\n"
     ]
    }
   ],
   "source": [
    "# Solution\n",
    "import random\n",
    "\n",
    "# Maze size (must be odd for proper walls between paths)\n",
    "rows, cols = 11, 11\n",
    "\n",
    "# Initialize maze with all walls (1)\n",
    "maze = [[1 for _ in range(cols)] for _ in range(rows)]\n",
    "\n",
    "# Directions: up, down, left, right\n",
    "directions = [(-2, 0), (2, 0), (0, -2), (0, 2)]\n",
    "\n",
    "# Maze Generator using DFS\n",
    "def generate_maze(x, y):\n",
    "    maze[x][y] = 0  # Mark current cell as path\n",
    "    random.shuffle(directions)\n",
    "    for dx, dy in directions:\n",
    "        nx, ny = x + dx, y + dy\n",
    "        if 1 <= nx < rows - 1 and 1 <= ny < cols - 1 and maze[nx][ny] == 1:\n",
    "            maze[x + dx // 2][y + dy // 2] = 0  # Remove wall between\n",
    "            generate_maze(nx, ny)\n",
    "\n",
    "# Maze Solver using DFS\n",
    "def solve_maze(x, y, end_x, end_y, visited):\n",
    "    if not (0 <= x < rows and 0 <= y < cols):\n",
    "        return False\n",
    "    if (x, y) in visited or maze[x][y] != 0:\n",
    "        return False\n",
    "    visited.add((x, y))\n",
    "    if (x, y) == (end_x, end_y):\n",
    "        return True\n",
    "    # Try moving in 4 directions\n",
    "    for dx, dy in [(-1,0), (1,0), (0,-1), (0,1)]:\n",
    "        if solve_maze(x + dx, y + dy, end_x, end_y, visited):\n",
    "            maze[x][y] = 2  # Mark part of the path\n",
    "            return True\n",
    "    return False\n",
    "\n",
    "# Start and end coordinates\n",
    "start_x, start_y = 1, 1\n",
    "end_x, end_y = rows - 2, cols - 2\n",
    "\n",
    "# Generate maze and solve it\n",
    "generate_maze(start_x, start_y)\n",
    "solve_maze(start_x, start_y, end_x, end_y, set())\n",
    "\n",
    "# Mark start and end\n",
    "maze[start_x][start_y] = 'S'\n",
    "maze[end_x][end_y] = 'E'\n",
    "\n",
    "# Print maze\n",
    "for row in maze:\n",
    "    line = ''\n",
    "    for cell in row:\n",
    "        if cell == 1:\n",
    "            line += '1'  # wall\n",
    "        elif cell == 0:\n",
    "            line += '0'  # path\n",
    "        elif cell == 2:\n",
    "            line += '.'  # solution path\n",
    "        else:\n",
    "            line += str(cell)  # 'S' or 'E'\n",
    "    print(line)"
   ]
  },
  {
   "cell_type": "code",
   "execution_count": null,
   "id": "648a1056-9b2a-4aa4-8c45-a5770aaf1427",
   "metadata": {},
   "outputs": [],
   "source": []
  }
 ],
 "metadata": {
  "kernelspec": {
   "display_name": "Python 3 (ipykernel)",
   "language": "python",
   "name": "python3"
  },
  "language_info": {
   "codemirror_mode": {
    "name": "ipython",
    "version": 3
   },
   "file_extension": ".py",
   "mimetype": "text/x-python",
   "name": "python",
   "nbconvert_exporter": "python",
   "pygments_lexer": "ipython3",
   "version": "3.12.3"
  }
 },
 "nbformat": 4,
 "nbformat_minor": 5
}
